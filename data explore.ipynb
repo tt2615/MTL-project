{
 "cells": [
  {
   "cell_type": "code",
   "execution_count": 11,
   "metadata": {},
   "outputs": [],
   "source": [
    "import pandas as pd\n",
    "import pyreadr"
   ]
  },
  {
   "cell_type": "code",
   "execution_count": 12,
   "metadata": {},
   "outputs": [],
   "source": [
    "data = pyreadr.read_r('./data/data.RData')\n",
    "# print(data.keys())\n",
    "data = data[\"eastmoney_to_ntu\"]"
   ]
  },
  {
   "cell_type": "code",
   "execution_count": 13,
   "metadata": {},
   "outputs": [
    {
     "data": {
      "text/plain": [
       "Index(['stock_code', 'item_title', 'article_postdate', 'item_author',\n",
       "       'article_author', 'article_source', 'article_content', 'item_views',\n",
       "       'item_comment_counts', 'article_likes', 'date', 'year', 'month',\n",
       "       'eastmoney_robo_journalism', 'media_robo_journalism',\n",
       "       'SMA_robo_journalism', 'viral'],\n",
       "      dtype='object')"
      ]
     },
     "execution_count": 13,
     "metadata": {},
     "output_type": "execute_result"
    }
   ],
   "source": [
    "data.columns"
   ]
  },
  {
   "cell_type": "code",
   "execution_count": 14,
   "metadata": {},
   "outputs": [],
   "source": [
    "data = data[['item_title', 'stock_code', 'item_author', 'article_author', 'article_source', 'eastmoney_robo_journalism', 'media_robo_journalism', 'SMA_robo_journalism', 'year', 'month','viral']]"
   ]
  },
  {
   "cell_type": "code",
   "execution_count": 17,
   "metadata": {},
   "outputs": [],
   "source": [
    "cat_cols = ['stock_code', 'item_author', 'article_author', 'article_source', 'eastmoney_robo_journalism', 'media_robo_journalism', 'SMA_robo_journalism', 'year', 'month','viral']\n",
    "data[cat_cols] = data[cat_cols].apply(lambda c: c.astype('category'))"
   ]
  },
  {
   "cell_type": "code",
   "execution_count": 18,
   "metadata": {},
   "outputs": [
    {
     "data": {
      "text/html": [
       "<div>\n",
       "<style scoped>\n",
       "    .dataframe tbody tr th:only-of-type {\n",
       "        vertical-align: middle;\n",
       "    }\n",
       "\n",
       "    .dataframe tbody tr th {\n",
       "        vertical-align: top;\n",
       "    }\n",
       "\n",
       "    .dataframe thead th {\n",
       "        text-align: right;\n",
       "    }\n",
       "</style>\n",
       "<table border=\"1\" class=\"dataframe\">\n",
       "  <thead>\n",
       "    <tr style=\"text-align: right;\">\n",
       "      <th></th>\n",
       "      <th>item_title</th>\n",
       "      <th>stock_code</th>\n",
       "      <th>item_author</th>\n",
       "      <th>article_author</th>\n",
       "      <th>article_source</th>\n",
       "      <th>eastmoney_robo_journalism</th>\n",
       "      <th>media_robo_journalism</th>\n",
       "      <th>SMA_robo_journalism</th>\n",
       "      <th>year</th>\n",
       "      <th>month</th>\n",
       "      <th>viral</th>\n",
       "    </tr>\n",
       "  </thead>\n",
       "  <tbody>\n",
       "    <tr>\n",
       "      <th>count</th>\n",
       "      <td>6603696</td>\n",
       "      <td>6603696</td>\n",
       "      <td>6603696</td>\n",
       "      <td>6603262</td>\n",
       "      <td>6603696</td>\n",
       "      <td>6603696.0</td>\n",
       "      <td>6603696.0</td>\n",
       "      <td>6603696.0</td>\n",
       "      <td>6603696.0</td>\n",
       "      <td>6603696.0</td>\n",
       "      <td>6603696.0</td>\n",
       "    </tr>\n",
       "    <tr>\n",
       "      <th>unique</th>\n",
       "      <td>6405069</td>\n",
       "      <td>5052</td>\n",
       "      <td>5159</td>\n",
       "      <td>5799</td>\n",
       "      <td>2045</td>\n",
       "      <td>2.0</td>\n",
       "      <td>2.0</td>\n",
       "      <td>2.0</td>\n",
       "      <td>7.0</td>\n",
       "      <td>12.0</td>\n",
       "      <td>2.0</td>\n",
       "    </tr>\n",
       "    <tr>\n",
       "      <th>top</th>\n",
       "      <td>百联股份今日热门盘点</td>\n",
       "      <td>600519</td>\n",
       "      <td>股市胖虎</td>\n",
       "      <td></td>\n",
       "      <td>东方财富Choice数据</td>\n",
       "      <td>1.0</td>\n",
       "      <td>0.0</td>\n",
       "      <td>0.0</td>\n",
       "      <td>2022.0</td>\n",
       "      <td>12.0</td>\n",
       "      <td>0.0</td>\n",
       "    </tr>\n",
       "    <tr>\n",
       "      <th>freq</th>\n",
       "      <td>116</td>\n",
       "      <td>10411</td>\n",
       "      <td>426876</td>\n",
       "      <td>3252893</td>\n",
       "      <td>4179997</td>\n",
       "      <td>3634888.0</td>\n",
       "      <td>5709855.0</td>\n",
       "      <td>4878621.0</td>\n",
       "      <td>1987630.0</td>\n",
       "      <td>680738.0</td>\n",
       "      <td>6288140.0</td>\n",
       "    </tr>\n",
       "  </tbody>\n",
       "</table>\n",
       "</div>"
      ],
      "text/plain": [
       "        item_title stock_code item_author article_author article_source   \n",
       "count      6603696    6603696     6603696        6603262        6603696  \\\n",
       "unique     6405069       5052        5159           5799           2045   \n",
       "top     百联股份今日热门盘点     600519        股市胖虎                  东方财富Choice数据   \n",
       "freq           116      10411      426876        3252893        4179997   \n",
       "\n",
       "        eastmoney_robo_journalism  media_robo_journalism  SMA_robo_journalism   \n",
       "count                   6603696.0              6603696.0            6603696.0  \\\n",
       "unique                        2.0                    2.0                  2.0   \n",
       "top                           1.0                    0.0                  0.0   \n",
       "freq                    3634888.0              5709855.0            4878621.0   \n",
       "\n",
       "             year      month      viral  \n",
       "count   6603696.0  6603696.0  6603696.0  \n",
       "unique        7.0       12.0        2.0  \n",
       "top        2022.0       12.0        0.0  \n",
       "freq    1987630.0   680738.0  6288140.0  "
      ]
     },
     "execution_count": 18,
     "metadata": {},
     "output_type": "execute_result"
    }
   ],
   "source": [
    "data.describe(include='all')"
   ]
  },
  {
   "cell_type": "code",
   "execution_count": 16,
   "metadata": {},
   "outputs": [],
   "source": [
    "data.to_csv('./data/p_data_wo_content.csv')"
   ]
  }
 ],
 "metadata": {
  "kernelspec": {
   "display_name": "MTL_project-BiIXOKA8",
   "language": "python",
   "name": "python3"
  },
  "language_info": {
   "codemirror_mode": {
    "name": "ipython",
    "version": 3
   },
   "file_extension": ".py",
   "mimetype": "text/x-python",
   "name": "python",
   "nbconvert_exporter": "python",
   "pygments_lexer": "ipython3",
   "version": "3.9.9"
  }
 },
 "nbformat": 4,
 "nbformat_minor": 2
}
