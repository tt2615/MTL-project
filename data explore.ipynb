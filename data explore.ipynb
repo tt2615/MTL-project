{
 "cells": [
  {
   "cell_type": "code",
   "execution_count": 19,
   "metadata": {},
   "outputs": [],
   "source": [
    "import pandas as pd\n",
    "import pyreadr"
   ]
  },
  {
   "cell_type": "code",
   "execution_count": 20,
   "metadata": {},
   "outputs": [
    {
     "name": "stdout",
     "output_type": "stream",
     "text": [
      "odict_keys(['eastmoney_to_ntu'])\n"
     ]
    }
   ],
   "source": [
    "raw_data = pyreadr.read_r(\"./data/data.RData\")\n",
    "print(raw_data.keys())\n",
    "raw_data = raw_data[\"eastmoney_to_ntu\"]"
   ]
  },
  {
   "cell_type": "code",
   "execution_count": 21,
   "metadata": {},
   "outputs": [
    {
     "data": {
      "text/plain": [
       "Index(['stock_code', 'item_title', 'article_postdate', 'item_author',\n",
       "       'article_author', 'article_source', 'article_content', 'item_views',\n",
       "       'item_comment_counts', 'article_likes', 'date', 'year', 'month',\n",
       "       'eastmoney_robo_journalism', 'media_robo_journalism',\n",
       "       'SMA_robo_journalism', 'viral'],\n",
       "      dtype='object')"
      ]
     },
     "execution_count": 21,
     "metadata": {},
     "output_type": "execute_result"
    }
   ],
   "source": [
    "raw_data.columns"
   ]
  },
  {
   "cell_type": "markdown",
   "metadata": {},
   "source": [
    "# v1: Ignore content"
   ]
  },
  {
   "cell_type": "code",
   "execution_count": 22,
   "metadata": {},
   "outputs": [],
   "source": [
    "# select features\n",
    "\n",
    "data = raw_data[['stock_code', 'item_title', 'item_author',\n",
    "       'article_author', 'article_source', 'article_content', 'item_views',\n",
    "       'item_comment_counts', 'article_likes',\n",
    "       'eastmoney_robo_journalism', 'media_robo_journalism',\n",
    "       'SMA_robo_journalism', 'viral']]\n"
   ]
  },
  {
   "cell_type": "code",
   "execution_count": 23,
   "metadata": {},
   "outputs": [
    {
     "data": {
      "text/plain": [
       "Index(['stock_code', 'item_title', 'item_author', 'article_author',\n",
       "       'article_source', 'article_content', 'item_views',\n",
       "       'item_comment_counts', 'article_likes', 'eastmoney_robo_journalism',\n",
       "       'media_robo_journalism', 'SMA_robo_journalism', 'viral'],\n",
       "      dtype='object')"
      ]
     },
     "execution_count": 23,
     "metadata": {},
     "output_type": "execute_result"
    }
   ],
   "source": [
    "data.columns"
   ]
  },
  {
   "cell_type": "code",
   "execution_count": 24,
   "metadata": {},
   "outputs": [],
   "source": [
    "cat_cols = ['stock_code', 'item_author', 'article_author', 'article_source']\n",
    "cont_cols = ['item_views', 'item_comment_counts', 'article_likes', 'eastmoney_robo_journalism', 'media_robo_journalism', 'SMA_robo_journalism']\n",
    "tar_cols = ['viral']"
   ]
  },
  {
   "cell_type": "code",
   "execution_count": 25,
   "metadata": {},
   "outputs": [
    {
     "name": "stderr",
     "output_type": "stream",
     "text": [
      "/var/folders/52/5ygfc9d94sscvjzdx8yvt2sm0000gq/T/ipykernel_14785/3328079898.py:1: SettingWithCopyWarning: \n",
      "A value is trying to be set on a copy of a slice from a DataFrame.\n",
      "Try using .loc[row_indexer,col_indexer] = value instead\n",
      "\n",
      "See the caveats in the documentation: https://pandas.pydata.org/pandas-docs/stable/user_guide/indexing.html#returning-a-view-versus-a-copy\n",
      "  data[cat_cols] = data[cat_cols].apply(lambda c: c.astype('category'))\n"
     ]
    }
   ],
   "source": [
    "data[cat_cols] = data[cat_cols].apply(lambda c: c.astype('category'))"
   ]
  },
  {
   "cell_type": "code",
   "execution_count": 26,
   "metadata": {},
   "outputs": [],
   "source": [
    "# data['stock_index'] = data['stock_code'].cat.codes\n",
    "# data['iauthor_index'] = data['item_author'].cat.codes\n",
    "# data['aauthor_index'] = data['article_author'].cat.codes\n",
    "# data['source_index'] = data['article_source'].cat.codes"
   ]
  },
  {
   "cell_type": "code",
   "execution_count": 27,
   "metadata": {},
   "outputs": [
    {
     "data": {
      "text/plain": [
       "stock_code                   category\n",
       "item_title                     object\n",
       "item_author                  category\n",
       "article_author               category\n",
       "article_source               category\n",
       "article_content                object\n",
       "item_views                      int32\n",
       "item_comment_counts             int32\n",
       "article_likes                   int32\n",
       "eastmoney_robo_journalism     float64\n",
       "media_robo_journalism         float64\n",
       "SMA_robo_journalism           float64\n",
       "viral                         float64\n",
       "dtype: object"
      ]
     },
     "execution_count": 27,
     "metadata": {},
     "output_type": "execute_result"
    }
   ],
   "source": [
    "data.dtypes"
   ]
  },
  {
   "cell_type": "code",
   "execution_count": 28,
   "metadata": {},
   "outputs": [
    {
     "data": {
      "text/html": [
       "<div>\n",
       "<style scoped>\n",
       "    .dataframe tbody tr th:only-of-type {\n",
       "        vertical-align: middle;\n",
       "    }\n",
       "\n",
       "    .dataframe tbody tr th {\n",
       "        vertical-align: top;\n",
       "    }\n",
       "\n",
       "    .dataframe thead th {\n",
       "        text-align: right;\n",
       "    }\n",
       "</style>\n",
       "<table border=\"1\" class=\"dataframe\">\n",
       "  <thead>\n",
       "    <tr style=\"text-align: right;\">\n",
       "      <th></th>\n",
       "      <th>stock_code</th>\n",
       "      <th>item_title</th>\n",
       "      <th>item_author</th>\n",
       "      <th>article_author</th>\n",
       "      <th>article_source</th>\n",
       "      <th>article_content</th>\n",
       "      <th>item_views</th>\n",
       "      <th>item_comment_counts</th>\n",
       "      <th>article_likes</th>\n",
       "      <th>eastmoney_robo_journalism</th>\n",
       "      <th>media_robo_journalism</th>\n",
       "      <th>SMA_robo_journalism</th>\n",
       "      <th>viral</th>\n",
       "    </tr>\n",
       "  </thead>\n",
       "  <tbody>\n",
       "    <tr>\n",
       "      <th>count</th>\n",
       "      <td>6603696</td>\n",
       "      <td>6603696</td>\n",
       "      <td>6603696</td>\n",
       "      <td>6603262</td>\n",
       "      <td>6603696</td>\n",
       "      <td>6603696</td>\n",
       "      <td>6.603696e+06</td>\n",
       "      <td>6.603696e+06</td>\n",
       "      <td>6.603696e+06</td>\n",
       "      <td>6.603696e+06</td>\n",
       "      <td>6.603696e+06</td>\n",
       "      <td>6.603696e+06</td>\n",
       "      <td>6.603696e+06</td>\n",
       "    </tr>\n",
       "    <tr>\n",
       "      <th>unique</th>\n",
       "      <td>5052</td>\n",
       "      <td>6405069</td>\n",
       "      <td>5159</td>\n",
       "      <td>5799</td>\n",
       "      <td>2045</td>\n",
       "      <td>6595188</td>\n",
       "      <td>NaN</td>\n",
       "      <td>NaN</td>\n",
       "      <td>NaN</td>\n",
       "      <td>NaN</td>\n",
       "      <td>NaN</td>\n",
       "      <td>NaN</td>\n",
       "      <td>NaN</td>\n",
       "    </tr>\n",
       "    <tr>\n",
       "      <th>top</th>\n",
       "      <td>600519</td>\n",
       "      <td>百联股份今日热门盘点</td>\n",
       "      <td>股市胖虎</td>\n",
       "      <td></td>\n",
       "      <td>东方财富Choice数据</td>\n",
       "      <td>为学习贯彻新《证券法》，进一步深化投资者保护工作，落实2020年广东证监局投资者保护工作相关...</td>\n",
       "      <td>NaN</td>\n",
       "      <td>NaN</td>\n",
       "      <td>NaN</td>\n",
       "      <td>NaN</td>\n",
       "      <td>NaN</td>\n",
       "      <td>NaN</td>\n",
       "      <td>NaN</td>\n",
       "    </tr>\n",
       "    <tr>\n",
       "      <th>freq</th>\n",
       "      <td>10411</td>\n",
       "      <td>116</td>\n",
       "      <td>426876</td>\n",
       "      <td>3252893</td>\n",
       "      <td>4179997</td>\n",
       "      <td>346</td>\n",
       "      <td>NaN</td>\n",
       "      <td>NaN</td>\n",
       "      <td>NaN</td>\n",
       "      <td>NaN</td>\n",
       "      <td>NaN</td>\n",
       "      <td>NaN</td>\n",
       "      <td>NaN</td>\n",
       "    </tr>\n",
       "    <tr>\n",
       "      <th>mean</th>\n",
       "      <td>NaN</td>\n",
       "      <td>NaN</td>\n",
       "      <td>NaN</td>\n",
       "      <td>NaN</td>\n",
       "      <td>NaN</td>\n",
       "      <td>NaN</td>\n",
       "      <td>1.765761e+03</td>\n",
       "      <td>3.481803e+00</td>\n",
       "      <td>2.901667e+00</td>\n",
       "      <td>5.504324e-01</td>\n",
       "      <td>1.353547e-01</td>\n",
       "      <td>2.612287e-01</td>\n",
       "      <td>4.778476e-02</td>\n",
       "    </tr>\n",
       "    <tr>\n",
       "      <th>std</th>\n",
       "      <td>NaN</td>\n",
       "      <td>NaN</td>\n",
       "      <td>NaN</td>\n",
       "      <td>NaN</td>\n",
       "      <td>NaN</td>\n",
       "      <td>NaN</td>\n",
       "      <td>3.372575e+04</td>\n",
       "      <td>2.461240e+01</td>\n",
       "      <td>1.583375e+01</td>\n",
       "      <td>4.974501e-01</td>\n",
       "      <td>3.421020e-01</td>\n",
       "      <td>4.393043e-01</td>\n",
       "      <td>2.133105e-01</td>\n",
       "    </tr>\n",
       "    <tr>\n",
       "      <th>min</th>\n",
       "      <td>NaN</td>\n",
       "      <td>NaN</td>\n",
       "      <td>NaN</td>\n",
       "      <td>NaN</td>\n",
       "      <td>NaN</td>\n",
       "      <td>NaN</td>\n",
       "      <td>2.700000e+01</td>\n",
       "      <td>0.000000e+00</td>\n",
       "      <td>0.000000e+00</td>\n",
       "      <td>0.000000e+00</td>\n",
       "      <td>0.000000e+00</td>\n",
       "      <td>0.000000e+00</td>\n",
       "      <td>0.000000e+00</td>\n",
       "    </tr>\n",
       "    <tr>\n",
       "      <th>25%</th>\n",
       "      <td>NaN</td>\n",
       "      <td>NaN</td>\n",
       "      <td>NaN</td>\n",
       "      <td>NaN</td>\n",
       "      <td>NaN</td>\n",
       "      <td>NaN</td>\n",
       "      <td>3.410000e+02</td>\n",
       "      <td>0.000000e+00</td>\n",
       "      <td>0.000000e+00</td>\n",
       "      <td>0.000000e+00</td>\n",
       "      <td>0.000000e+00</td>\n",
       "      <td>0.000000e+00</td>\n",
       "      <td>0.000000e+00</td>\n",
       "    </tr>\n",
       "    <tr>\n",
       "      <th>50%</th>\n",
       "      <td>NaN</td>\n",
       "      <td>NaN</td>\n",
       "      <td>NaN</td>\n",
       "      <td>NaN</td>\n",
       "      <td>NaN</td>\n",
       "      <td>NaN</td>\n",
       "      <td>5.070000e+02</td>\n",
       "      <td>0.000000e+00</td>\n",
       "      <td>1.000000e+00</td>\n",
       "      <td>1.000000e+00</td>\n",
       "      <td>0.000000e+00</td>\n",
       "      <td>0.000000e+00</td>\n",
       "      <td>0.000000e+00</td>\n",
       "    </tr>\n",
       "    <tr>\n",
       "      <th>75%</th>\n",
       "      <td>NaN</td>\n",
       "      <td>NaN</td>\n",
       "      <td>NaN</td>\n",
       "      <td>NaN</td>\n",
       "      <td>NaN</td>\n",
       "      <td>NaN</td>\n",
       "      <td>8.310000e+02</td>\n",
       "      <td>1.000000e+00</td>\n",
       "      <td>3.000000e+00</td>\n",
       "      <td>1.000000e+00</td>\n",
       "      <td>0.000000e+00</td>\n",
       "      <td>1.000000e+00</td>\n",
       "      <td>0.000000e+00</td>\n",
       "    </tr>\n",
       "    <tr>\n",
       "      <th>max</th>\n",
       "      <td>NaN</td>\n",
       "      <td>NaN</td>\n",
       "      <td>NaN</td>\n",
       "      <td>NaN</td>\n",
       "      <td>NaN</td>\n",
       "      <td>NaN</td>\n",
       "      <td>7.625000e+07</td>\n",
       "      <td>1.100000e+04</td>\n",
       "      <td>3.250000e+03</td>\n",
       "      <td>1.000000e+00</td>\n",
       "      <td>1.000000e+00</td>\n",
       "      <td>1.000000e+00</td>\n",
       "      <td>1.000000e+00</td>\n",
       "    </tr>\n",
       "  </tbody>\n",
       "</table>\n",
       "</div>"
      ],
      "text/plain": [
       "       stock_code  item_title item_author article_author article_source   \n",
       "count     6603696     6603696     6603696        6603262        6603696  \\\n",
       "unique       5052     6405069        5159           5799           2045   \n",
       "top        600519  百联股份今日热门盘点        股市胖虎                  东方财富Choice数据   \n",
       "freq        10411         116      426876        3252893        4179997   \n",
       "mean          NaN         NaN         NaN            NaN            NaN   \n",
       "std           NaN         NaN         NaN            NaN            NaN   \n",
       "min           NaN         NaN         NaN            NaN            NaN   \n",
       "25%           NaN         NaN         NaN            NaN            NaN   \n",
       "50%           NaN         NaN         NaN            NaN            NaN   \n",
       "75%           NaN         NaN         NaN            NaN            NaN   \n",
       "max           NaN         NaN         NaN            NaN            NaN   \n",
       "\n",
       "                                          article_content    item_views   \n",
       "count                                             6603696  6.603696e+06  \\\n",
       "unique                                            6595188           NaN   \n",
       "top     为学习贯彻新《证券法》，进一步深化投资者保护工作，落实2020年广东证监局投资者保护工作相关...           NaN   \n",
       "freq                                                  346           NaN   \n",
       "mean                                                  NaN  1.765761e+03   \n",
       "std                                                   NaN  3.372575e+04   \n",
       "min                                                   NaN  2.700000e+01   \n",
       "25%                                                   NaN  3.410000e+02   \n",
       "50%                                                   NaN  5.070000e+02   \n",
       "75%                                                   NaN  8.310000e+02   \n",
       "max                                                   NaN  7.625000e+07   \n",
       "\n",
       "        item_comment_counts  article_likes  eastmoney_robo_journalism   \n",
       "count          6.603696e+06   6.603696e+06               6.603696e+06  \\\n",
       "unique                  NaN            NaN                        NaN   \n",
       "top                     NaN            NaN                        NaN   \n",
       "freq                    NaN            NaN                        NaN   \n",
       "mean           3.481803e+00   2.901667e+00               5.504324e-01   \n",
       "std            2.461240e+01   1.583375e+01               4.974501e-01   \n",
       "min            0.000000e+00   0.000000e+00               0.000000e+00   \n",
       "25%            0.000000e+00   0.000000e+00               0.000000e+00   \n",
       "50%            0.000000e+00   1.000000e+00               1.000000e+00   \n",
       "75%            1.000000e+00   3.000000e+00               1.000000e+00   \n",
       "max            1.100000e+04   3.250000e+03               1.000000e+00   \n",
       "\n",
       "        media_robo_journalism  SMA_robo_journalism         viral  \n",
       "count            6.603696e+06         6.603696e+06  6.603696e+06  \n",
       "unique                    NaN                  NaN           NaN  \n",
       "top                       NaN                  NaN           NaN  \n",
       "freq                      NaN                  NaN           NaN  \n",
       "mean             1.353547e-01         2.612287e-01  4.778476e-02  \n",
       "std              3.421020e-01         4.393043e-01  2.133105e-01  \n",
       "min              0.000000e+00         0.000000e+00  0.000000e+00  \n",
       "25%              0.000000e+00         0.000000e+00  0.000000e+00  \n",
       "50%              0.000000e+00         0.000000e+00  0.000000e+00  \n",
       "75%              0.000000e+00         1.000000e+00  0.000000e+00  \n",
       "max              1.000000e+00         1.000000e+00  1.000000e+00  "
      ]
     },
     "execution_count": 28,
     "metadata": {},
     "output_type": "execute_result"
    }
   ],
   "source": [
    "data.describe(include='all')"
   ]
  },
  {
   "cell_type": "code",
   "execution_count": 29,
   "metadata": {},
   "outputs": [],
   "source": [
    "# data_1hot = pd.get_dummies(data, columns=['Item_Author', 'sentiment'])"
   ]
  },
  {
   "cell_type": "code",
   "execution_count": 30,
   "metadata": {},
   "outputs": [],
   "source": [
    "# data_1hot.columns"
   ]
  },
  {
   "cell_type": "code",
   "execution_count": 31,
   "metadata": {},
   "outputs": [],
   "source": [
    "data.to_csv(\"./data/processed_data_wo_content.csv\")"
   ]
  }
 ],
 "metadata": {
  "kernelspec": {
   "display_name": "MTL_project-BiIXOKA8",
   "language": "python",
   "name": "python3"
  },
  "language_info": {
   "codemirror_mode": {
    "name": "ipython",
    "version": 3
   },
   "file_extension": ".py",
   "mimetype": "text/x-python",
   "name": "python",
   "nbconvert_exporter": "python",
   "pygments_lexer": "ipython3",
   "version": "3.9.9"
  },
  "orig_nbformat": 4,
  "vscode": {
   "interpreter": {
    "hash": "8392efa26ec8d26040f4f1e4cc5c1986a387a872adfcf96c371bd3357db72877"
   }
  }
 },
 "nbformat": 4,
 "nbformat_minor": 2
}
