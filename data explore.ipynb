{
 "cells": [
  {
   "cell_type": "code",
   "execution_count": 4,
   "metadata": {},
   "outputs": [],
   "source": [
    "import pandas as pd"
   ]
  },
  {
   "cell_type": "code",
   "execution_count": 5,
   "metadata": {},
   "outputs": [],
   "source": [
    "raw_data = pd.read_csv(\"./data/news_data_with_sentiment.csv\")"
   ]
  },
  {
   "cell_type": "code",
   "execution_count": 6,
   "metadata": {},
   "outputs": [
    {
     "data": {
      "text/plain": [
       "Index(['Unnamed: 0', 'Item_URL', 'Item_Author', 'Item_PostDate', 'Item_Title',\n",
       "       'Item_Views', 'Item_Likes', 'Item_Comments', 'news_author', 'news_text',\n",
       "       'Item_Time', 'Item_Date', 'title', 'sentence_length', 'word_length',\n",
       "       'word_!', 'word_:', 'word_?', 'top1p_views', 'top5p_views',\n",
       "       'top1p_likes', 'top5p_likes', 'top1p_comments', 'top5p_comments',\n",
       "       'Log_Item_Views', 'Log_Item_Likes', 'Company_ID', 'sentiment', 'score'],\n",
       "      dtype='object')"
      ]
     },
     "execution_count": 6,
     "metadata": {},
     "output_type": "execute_result"
    }
   ],
   "source": [
    "raw_data.columns"
   ]
  },
  {
   "cell_type": "code",
   "execution_count": 7,
   "metadata": {},
   "outputs": [],
   "source": [
    "# select features\n",
    "\n",
    "data = raw_data[['Item_Author', 'Company_ID', 'Item_Title', 'title', 'news_text', 'sentence_length', 'word_length', 'word_!', 'word_:', 'word_?', 'sentiment', 'score', \n",
    "                'Item_Views', 'Item_Likes', 'Item_Comments']]\n"
   ]
  },
  {
   "cell_type": "code",
   "execution_count": 8,
   "metadata": {},
   "outputs": [
    {
     "data": {
      "text/plain": [
       "Index(['Item_Author', 'Company_ID', 'Item_Title', 'title', 'news_text',\n",
       "       'sentence_length', 'word_length', 'word_!', 'word_:', 'word_?',\n",
       "       'sentiment', 'score', 'Item_Views', 'Item_Likes', 'Item_Comments'],\n",
       "      dtype='object')"
      ]
     },
     "execution_count": 8,
     "metadata": {},
     "output_type": "execute_result"
    }
   ],
   "source": [
    "data.columns"
   ]
  },
  {
   "cell_type": "code",
   "execution_count": 9,
   "metadata": {},
   "outputs": [],
   "source": [
    "cat_cols = ['Item_Author', 'Company_ID', 'sentiment']\n",
    "cont_cols = ['word_length', 'word_!', 'word_:', 'word_?', 'score']\n",
    "tar_cols = ['Item_Views', 'Item_Likes', 'Item_Comments']"
   ]
  },
  {
   "cell_type": "code",
   "execution_count": 10,
   "metadata": {},
   "outputs": [
    {
     "name": "stderr",
     "output_type": "stream",
     "text": [
      "C:\\Users\\ZIQING002\\AppData\\Local\\Temp\\ipykernel_32156\\3328079898.py:1: SettingWithCopyWarning: \n",
      "A value is trying to be set on a copy of a slice from a DataFrame.\n",
      "Try using .loc[row_indexer,col_indexer] = value instead\n",
      "\n",
      "See the caveats in the documentation: https://pandas.pydata.org/pandas-docs/stable/user_guide/indexing.html#returning-a-view-versus-a-copy\n",
      "  data[cat_cols] = data[cat_cols].apply(lambda c: c.astype('category'))\n"
     ]
    }
   ],
   "source": [
    "data[cat_cols] = data[cat_cols].apply(lambda c: c.astype('category'))"
   ]
  },
  {
   "cell_type": "code",
   "execution_count": 11,
   "metadata": {},
   "outputs": [
    {
     "data": {
      "text/plain": [
       "Item_Author        category\n",
       "Company_ID         category\n",
       "Item_Title           object\n",
       "title                object\n",
       "news_text            object\n",
       "sentence_length       int64\n",
       "word_length           int64\n",
       "word_!                int64\n",
       "word_:                int64\n",
       "word_?                int64\n",
       "sentiment          category\n",
       "score               float64\n",
       "Item_Views          float64\n",
       "Item_Likes          float64\n",
       "Item_Comments       float64\n",
       "dtype: object"
      ]
     },
     "execution_count": 11,
     "metadata": {},
     "output_type": "execute_result"
    }
   ],
   "source": [
    "data.dtypes"
   ]
  },
  {
   "cell_type": "code",
   "execution_count": 12,
   "metadata": {},
   "outputs": [
    {
     "data": {
      "text/html": [
       "<div>\n",
       "<style scoped>\n",
       "    .dataframe tbody tr th:only-of-type {\n",
       "        vertical-align: middle;\n",
       "    }\n",
       "\n",
       "    .dataframe tbody tr th {\n",
       "        vertical-align: top;\n",
       "    }\n",
       "\n",
       "    .dataframe thead th {\n",
       "        text-align: right;\n",
       "    }\n",
       "</style>\n",
       "<table border=\"1\" class=\"dataframe\">\n",
       "  <thead>\n",
       "    <tr style=\"text-align: right;\">\n",
       "      <th></th>\n",
       "      <th>Item_Author</th>\n",
       "      <th>Company_ID</th>\n",
       "      <th>Item_Title</th>\n",
       "      <th>title</th>\n",
       "      <th>news_text</th>\n",
       "      <th>sentence_length</th>\n",
       "      <th>word_length</th>\n",
       "      <th>word_!</th>\n",
       "      <th>word_:</th>\n",
       "      <th>word_?</th>\n",
       "      <th>sentiment</th>\n",
       "      <th>score</th>\n",
       "      <th>Item_Views</th>\n",
       "      <th>Item_Likes</th>\n",
       "      <th>Item_Comments</th>\n",
       "    </tr>\n",
       "  </thead>\n",
       "  <tbody>\n",
       "    <tr>\n",
       "      <th>count</th>\n",
       "      <td>588866</td>\n",
       "      <td>588866.0</td>\n",
       "      <td>588866</td>\n",
       "      <td>588866</td>\n",
       "      <td>588866</td>\n",
       "      <td>588866.000000</td>\n",
       "      <td>588866.000000</td>\n",
       "      <td>588866.000000</td>\n",
       "      <td>588866.000000</td>\n",
       "      <td>588866.000000</td>\n",
       "      <td>588866</td>\n",
       "      <td>588866.000000</td>\n",
       "      <td>588866.000000</td>\n",
       "      <td>588866.000000</td>\n",
       "      <td>588866.000000</td>\n",
       "    </tr>\n",
       "    <tr>\n",
       "      <th>unique</th>\n",
       "      <td>1812</td>\n",
       "      <td>1812.0</td>\n",
       "      <td>588846</td>\n",
       "      <td>176985</td>\n",
       "      <td>588807</td>\n",
       "      <td>NaN</td>\n",
       "      <td>NaN</td>\n",
       "      <td>NaN</td>\n",
       "      <td>NaN</td>\n",
       "      <td>NaN</td>\n",
       "      <td>3</td>\n",
       "      <td>NaN</td>\n",
       "      <td>NaN</td>\n",
       "      <td>NaN</td>\n",
       "      <td>NaN</td>\n",
       "    </tr>\n",
       "    <tr>\n",
       "      <th>top</th>\n",
       "      <td>贵州茅台资讯</td>\n",
       "      <td>600519.0</td>\n",
       "      <td>证券板块异动拉升</td>\n",
       "      <td>国联 获 沪 股通 增持 万股</td>\n",
       "      <td>来源：东方财富研究中心   　　数据挖掘机，纵览A股市场，上市公司实时追踪！个股评级、增减...</td>\n",
       "      <td>NaN</td>\n",
       "      <td>NaN</td>\n",
       "      <td>NaN</td>\n",
       "      <td>NaN</td>\n",
       "      <td>NaN</td>\n",
       "      <td>neutral</td>\n",
       "      <td>NaN</td>\n",
       "      <td>NaN</td>\n",
       "      <td>NaN</td>\n",
       "      <td>NaN</td>\n",
       "    </tr>\n",
       "    <tr>\n",
       "      <th>freq</th>\n",
       "      <td>2307</td>\n",
       "      <td>2307.0</td>\n",
       "      <td>5</td>\n",
       "      <td>224</td>\n",
       "      <td>34</td>\n",
       "      <td>NaN</td>\n",
       "      <td>NaN</td>\n",
       "      <td>NaN</td>\n",
       "      <td>NaN</td>\n",
       "      <td>NaN</td>\n",
       "      <td>287165</td>\n",
       "      <td>NaN</td>\n",
       "      <td>NaN</td>\n",
       "      <td>NaN</td>\n",
       "      <td>NaN</td>\n",
       "    </tr>\n",
       "    <tr>\n",
       "      <th>mean</th>\n",
       "      <td>NaN</td>\n",
       "      <td>NaN</td>\n",
       "      <td>NaN</td>\n",
       "      <td>NaN</td>\n",
       "      <td>NaN</td>\n",
       "      <td>27.455136</td>\n",
       "      <td>6.885760</td>\n",
       "      <td>0.017163</td>\n",
       "      <td>0.548492</td>\n",
       "      <td>0.005443</td>\n",
       "      <td>NaN</td>\n",
       "      <td>0.167199</td>\n",
       "      <td>673.132582</td>\n",
       "      <td>2.142301</td>\n",
       "      <td>3.303400</td>\n",
       "    </tr>\n",
       "    <tr>\n",
       "      <th>std</th>\n",
       "      <td>NaN</td>\n",
       "      <td>NaN</td>\n",
       "      <td>NaN</td>\n",
       "      <td>NaN</td>\n",
       "      <td>NaN</td>\n",
       "      <td>8.798880</td>\n",
       "      <td>2.412618</td>\n",
       "      <td>0.140071</td>\n",
       "      <td>0.497981</td>\n",
       "      <td>0.076737</td>\n",
       "      <td>NaN</td>\n",
       "      <td>0.691702</td>\n",
       "      <td>1734.579997</td>\n",
       "      <td>13.302431</td>\n",
       "      <td>22.408038</td>\n",
       "    </tr>\n",
       "    <tr>\n",
       "      <th>min</th>\n",
       "      <td>NaN</td>\n",
       "      <td>NaN</td>\n",
       "      <td>NaN</td>\n",
       "      <td>NaN</td>\n",
       "      <td>NaN</td>\n",
       "      <td>5.000000</td>\n",
       "      <td>1.000000</td>\n",
       "      <td>0.000000</td>\n",
       "      <td>0.000000</td>\n",
       "      <td>0.000000</td>\n",
       "      <td>NaN</td>\n",
       "      <td>-1.000000</td>\n",
       "      <td>59.000000</td>\n",
       "      <td>0.000000</td>\n",
       "      <td>0.000000</td>\n",
       "    </tr>\n",
       "    <tr>\n",
       "      <th>25%</th>\n",
       "      <td>NaN</td>\n",
       "      <td>NaN</td>\n",
       "      <td>NaN</td>\n",
       "      <td>NaN</td>\n",
       "      <td>NaN</td>\n",
       "      <td>22.000000</td>\n",
       "      <td>6.000000</td>\n",
       "      <td>0.000000</td>\n",
       "      <td>0.000000</td>\n",
       "      <td>0.000000</td>\n",
       "      <td>NaN</td>\n",
       "      <td>0.000000</td>\n",
       "      <td>286.000000</td>\n",
       "      <td>0.000000</td>\n",
       "      <td>0.000000</td>\n",
       "    </tr>\n",
       "    <tr>\n",
       "      <th>50%</th>\n",
       "      <td>NaN</td>\n",
       "      <td>NaN</td>\n",
       "      <td>NaN</td>\n",
       "      <td>NaN</td>\n",
       "      <td>NaN</td>\n",
       "      <td>29.000000</td>\n",
       "      <td>7.000000</td>\n",
       "      <td>0.000000</td>\n",
       "      <td>1.000000</td>\n",
       "      <td>0.000000</td>\n",
       "      <td>NaN</td>\n",
       "      <td>0.000000</td>\n",
       "      <td>382.000000</td>\n",
       "      <td>0.000000</td>\n",
       "      <td>0.000000</td>\n",
       "    </tr>\n",
       "    <tr>\n",
       "      <th>75%</th>\n",
       "      <td>NaN</td>\n",
       "      <td>NaN</td>\n",
       "      <td>NaN</td>\n",
       "      <td>NaN</td>\n",
       "      <td>NaN</td>\n",
       "      <td>35.000000</td>\n",
       "      <td>8.000000</td>\n",
       "      <td>0.000000</td>\n",
       "      <td>1.000000</td>\n",
       "      <td>0.000000</td>\n",
       "      <td>NaN</td>\n",
       "      <td>1.000000</td>\n",
       "      <td>618.000000</td>\n",
       "      <td>1.000000</td>\n",
       "      <td>1.000000</td>\n",
       "    </tr>\n",
       "    <tr>\n",
       "      <th>max</th>\n",
       "      <td>NaN</td>\n",
       "      <td>NaN</td>\n",
       "      <td>NaN</td>\n",
       "      <td>NaN</td>\n",
       "      <td>NaN</td>\n",
       "      <td>100.000000</td>\n",
       "      <td>32.000000</td>\n",
       "      <td>5.000000</td>\n",
       "      <td>3.000000</td>\n",
       "      <td>3.000000</td>\n",
       "      <td>NaN</td>\n",
       "      <td>1.000000</td>\n",
       "      <td>456000.000000</td>\n",
       "      <td>1998.000000</td>\n",
       "      <td>4134.000000</td>\n",
       "    </tr>\n",
       "  </tbody>\n",
       "</table>\n",
       "</div>"
      ],
      "text/plain": [
       "       Item_Author  Company_ID Item_Title             title   \n",
       "count       588866    588866.0     588866            588866  \\\n",
       "unique        1812      1812.0     588846            176985   \n",
       "top         贵州茅台资讯    600519.0   证券板块异动拉升  国联 获 沪 股通 增持 万股    \n",
       "freq          2307      2307.0          5               224   \n",
       "mean           NaN         NaN        NaN               NaN   \n",
       "std            NaN         NaN        NaN               NaN   \n",
       "min            NaN         NaN        NaN               NaN   \n",
       "25%            NaN         NaN        NaN               NaN   \n",
       "50%            NaN         NaN        NaN               NaN   \n",
       "75%            NaN         NaN        NaN               NaN   \n",
       "max            NaN         NaN        NaN               NaN   \n",
       "\n",
       "                                                news_text  sentence_length   \n",
       "count                                              588866    588866.000000  \\\n",
       "unique                                             588807              NaN   \n",
       "top      来源：东方财富研究中心   　　数据挖掘机，纵览A股市场，上市公司实时追踪！个股评级、增减...              NaN   \n",
       "freq                                                   34              NaN   \n",
       "mean                                                  NaN        27.455136   \n",
       "std                                                   NaN         8.798880   \n",
       "min                                                   NaN         5.000000   \n",
       "25%                                                   NaN        22.000000   \n",
       "50%                                                   NaN        29.000000   \n",
       "75%                                                   NaN        35.000000   \n",
       "max                                                   NaN       100.000000   \n",
       "\n",
       "          word_length         word_!         word_:         word_? sentiment   \n",
       "count   588866.000000  588866.000000  588866.000000  588866.000000    588866  \\\n",
       "unique            NaN            NaN            NaN            NaN         3   \n",
       "top               NaN            NaN            NaN            NaN   neutral   \n",
       "freq              NaN            NaN            NaN            NaN    287165   \n",
       "mean         6.885760       0.017163       0.548492       0.005443       NaN   \n",
       "std          2.412618       0.140071       0.497981       0.076737       NaN   \n",
       "min          1.000000       0.000000       0.000000       0.000000       NaN   \n",
       "25%          6.000000       0.000000       0.000000       0.000000       NaN   \n",
       "50%          7.000000       0.000000       1.000000       0.000000       NaN   \n",
       "75%          8.000000       0.000000       1.000000       0.000000       NaN   \n",
       "max         32.000000       5.000000       3.000000       3.000000       NaN   \n",
       "\n",
       "                score     Item_Views     Item_Likes  Item_Comments  \n",
       "count   588866.000000  588866.000000  588866.000000  588866.000000  \n",
       "unique            NaN            NaN            NaN            NaN  \n",
       "top               NaN            NaN            NaN            NaN  \n",
       "freq              NaN            NaN            NaN            NaN  \n",
       "mean         0.167199     673.132582       2.142301       3.303400  \n",
       "std          0.691702    1734.579997      13.302431      22.408038  \n",
       "min         -1.000000      59.000000       0.000000       0.000000  \n",
       "25%          0.000000     286.000000       0.000000       0.000000  \n",
       "50%          0.000000     382.000000       0.000000       0.000000  \n",
       "75%          1.000000     618.000000       1.000000       1.000000  \n",
       "max          1.000000  456000.000000    1998.000000    4134.000000  "
      ]
     },
     "execution_count": 12,
     "metadata": {},
     "output_type": "execute_result"
    }
   ],
   "source": [
    "data.describe(include='all')"
   ]
  },
  {
   "cell_type": "code",
   "execution_count": 13,
   "metadata": {},
   "outputs": [],
   "source": [
    "data_1hot = pd.get_dummies(data, columns=['Item_Author', 'sentiment'])"
   ]
  },
  {
   "cell_type": "code",
   "execution_count": 14,
   "metadata": {},
   "outputs": [
    {
     "data": {
      "text/plain": [
       "Index(['Company_ID', 'Item_Title', 'title', 'news_text', 'sentence_length',\n",
       "       'word_length', 'word_!', 'word_:', 'word_?', 'score',\n",
       "       ...\n",
       "       'Item_Author_龙版传媒资讯', 'Item_Author_龙竹科技资讯', 'Item_Author_龙腾光电资讯',\n",
       "       'Item_Author_龙蟠科技资讯', 'Item_Author_龙软科技资讯', 'Item_Author_龙韵股份资讯',\n",
       "       'Item_Author_龙高股份资讯', 'sentiment_negative', 'sentiment_neutral',\n",
       "       'sentiment_positive'],\n",
       "      dtype='object', length=1828)"
      ]
     },
     "execution_count": 14,
     "metadata": {},
     "output_type": "execute_result"
    }
   ],
   "source": [
    "data_1hot.columns"
   ]
  },
  {
   "cell_type": "code",
   "execution_count": 15,
   "metadata": {},
   "outputs": [],
   "source": [
    "data.to_csv(\"./data/processed_data.csv\")"
   ]
  }
 ],
 "metadata": {
  "kernelspec": {
   "display_name": "MTL_project-BiIXOKA8",
   "language": "python",
   "name": "python3"
  },
  "language_info": {
   "codemirror_mode": {
    "name": "ipython",
    "version": 3
   },
   "file_extension": ".py",
   "mimetype": "text/x-python",
   "name": "python",
   "nbconvert_exporter": "python",
   "pygments_lexer": "ipython3",
   "version": "3.9.9"
  },
  "orig_nbformat": 4,
  "vscode": {
   "interpreter": {
    "hash": "8392efa26ec8d26040f4f1e4cc5c1986a387a872adfcf96c371bd3357db72877"
   }
  }
 },
 "nbformat": 4,
 "nbformat_minor": 2
}
