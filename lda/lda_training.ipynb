{
 "cells": [
  {
   "cell_type": "markdown",
   "metadata": {},
   "source": [
    "# Split data"
   ]
  },
  {
   "cell_type": "code",
   "execution_count": 1,
   "metadata": {},
   "outputs": [
    {
     "name": "stderr",
     "output_type": "stream",
     "text": [
      "C:\\Users\\ZIQING002\\AppData\\Local\\Temp\\ipykernel_2204\\3919460183.py:4: DtypeWarning: Columns (2) have mixed types. Specify dtype option on import or set low_memory=False.\n",
      "  data = pd.read_csv('../data/eastmoney_bert.csv')\n"
     ]
    },
    {
     "ename": "KeyboardInterrupt",
     "evalue": "",
     "output_type": "error",
     "traceback": [
      "\u001b[1;31m---------------------------------------------------------------------------\u001b[0m",
      "\u001b[1;31mKeyboardInterrupt\u001b[0m                         Traceback (most recent call last)",
      "Cell \u001b[1;32mIn[1], line 4\u001b[0m\n\u001b[0;32m      2\u001b[0m \u001b[38;5;28;01mimport\u001b[39;00m \u001b[38;5;21;01mpandas\u001b[39;00m \u001b[38;5;28;01mas\u001b[39;00m \u001b[38;5;21;01mpd\u001b[39;00m\n\u001b[0;32m      3\u001b[0m \u001b[38;5;66;03m# Read data into papers\u001b[39;00m\n\u001b[1;32m----> 4\u001b[0m data \u001b[38;5;241m=\u001b[39m \u001b[43mpd\u001b[49m\u001b[38;5;241;43m.\u001b[39;49m\u001b[43mread_csv\u001b[49m\u001b[43m(\u001b[49m\u001b[38;5;124;43m'\u001b[39;49m\u001b[38;5;124;43m../data/eastmoney_bert.csv\u001b[39;49m\u001b[38;5;124;43m'\u001b[39;49m\u001b[43m)\u001b[49m\n\u001b[0;32m      5\u001b[0m \u001b[38;5;66;03m# data = pd.concat([data1, data2], axis=0)\u001b[39;00m\n\u001b[0;32m      6\u001b[0m \u001b[38;5;28mprint\u001b[39m(\u001b[38;5;28mlen\u001b[39m(data))\n",
      "File \u001b[1;32mc:\\Users\\ZIQING002\\.virtualenvs\\MTL-4YFQ4-cY\\lib\\site-packages\\pandas\\io\\parsers\\readers.py:1026\u001b[0m, in \u001b[0;36mread_csv\u001b[1;34m(filepath_or_buffer, sep, delimiter, header, names, index_col, usecols, dtype, engine, converters, true_values, false_values, skipinitialspace, skiprows, skipfooter, nrows, na_values, keep_default_na, na_filter, verbose, skip_blank_lines, parse_dates, infer_datetime_format, keep_date_col, date_parser, date_format, dayfirst, cache_dates, iterator, chunksize, compression, thousands, decimal, lineterminator, quotechar, quoting, doublequote, escapechar, comment, encoding, encoding_errors, dialect, on_bad_lines, delim_whitespace, low_memory, memory_map, float_precision, storage_options, dtype_backend)\u001b[0m\n\u001b[0;32m   1013\u001b[0m kwds_defaults \u001b[38;5;241m=\u001b[39m _refine_defaults_read(\n\u001b[0;32m   1014\u001b[0m     dialect,\n\u001b[0;32m   1015\u001b[0m     delimiter,\n\u001b[1;32m   (...)\u001b[0m\n\u001b[0;32m   1022\u001b[0m     dtype_backend\u001b[38;5;241m=\u001b[39mdtype_backend,\n\u001b[0;32m   1023\u001b[0m )\n\u001b[0;32m   1024\u001b[0m kwds\u001b[38;5;241m.\u001b[39mupdate(kwds_defaults)\n\u001b[1;32m-> 1026\u001b[0m \u001b[38;5;28;01mreturn\u001b[39;00m \u001b[43m_read\u001b[49m\u001b[43m(\u001b[49m\u001b[43mfilepath_or_buffer\u001b[49m\u001b[43m,\u001b[49m\u001b[43m \u001b[49m\u001b[43mkwds\u001b[49m\u001b[43m)\u001b[49m\n",
      "File \u001b[1;32mc:\\Users\\ZIQING002\\.virtualenvs\\MTL-4YFQ4-cY\\lib\\site-packages\\pandas\\io\\parsers\\readers.py:626\u001b[0m, in \u001b[0;36m_read\u001b[1;34m(filepath_or_buffer, kwds)\u001b[0m\n\u001b[0;32m    623\u001b[0m     \u001b[38;5;28;01mreturn\u001b[39;00m parser\n\u001b[0;32m    625\u001b[0m \u001b[38;5;28;01mwith\u001b[39;00m parser:\n\u001b[1;32m--> 626\u001b[0m     \u001b[38;5;28;01mreturn\u001b[39;00m \u001b[43mparser\u001b[49m\u001b[38;5;241;43m.\u001b[39;49m\u001b[43mread\u001b[49m\u001b[43m(\u001b[49m\u001b[43mnrows\u001b[49m\u001b[43m)\u001b[49m\n",
      "File \u001b[1;32mc:\\Users\\ZIQING002\\.virtualenvs\\MTL-4YFQ4-cY\\lib\\site-packages\\pandas\\io\\parsers\\readers.py:1968\u001b[0m, in \u001b[0;36mTextFileReader.read\u001b[1;34m(self, nrows)\u001b[0m\n\u001b[0;32m   1965\u001b[0m     \u001b[38;5;28;01melse\u001b[39;00m:\n\u001b[0;32m   1966\u001b[0m         new_col_dict \u001b[38;5;241m=\u001b[39m col_dict\n\u001b[1;32m-> 1968\u001b[0m     df \u001b[38;5;241m=\u001b[39m \u001b[43mDataFrame\u001b[49m\u001b[43m(\u001b[49m\n\u001b[0;32m   1969\u001b[0m \u001b[43m        \u001b[49m\u001b[43mnew_col_dict\u001b[49m\u001b[43m,\u001b[49m\n\u001b[0;32m   1970\u001b[0m \u001b[43m        \u001b[49m\u001b[43mcolumns\u001b[49m\u001b[38;5;241;43m=\u001b[39;49m\u001b[43mcolumns\u001b[49m\u001b[43m,\u001b[49m\n\u001b[0;32m   1971\u001b[0m \u001b[43m        \u001b[49m\u001b[43mindex\u001b[49m\u001b[38;5;241;43m=\u001b[39;49m\u001b[43mindex\u001b[49m\u001b[43m,\u001b[49m\n\u001b[0;32m   1972\u001b[0m \u001b[43m        \u001b[49m\u001b[43mcopy\u001b[49m\u001b[38;5;241;43m=\u001b[39;49m\u001b[38;5;129;43;01mnot\u001b[39;49;00m\u001b[43m \u001b[49m\u001b[43musing_copy_on_write\u001b[49m\u001b[43m(\u001b[49m\u001b[43m)\u001b[49m\u001b[43m,\u001b[49m\n\u001b[0;32m   1973\u001b[0m \u001b[43m    \u001b[49m\u001b[43m)\u001b[49m\n\u001b[0;32m   1975\u001b[0m     \u001b[38;5;28mself\u001b[39m\u001b[38;5;241m.\u001b[39m_currow \u001b[38;5;241m+\u001b[39m\u001b[38;5;241m=\u001b[39m new_rows\n\u001b[0;32m   1976\u001b[0m \u001b[38;5;28;01mreturn\u001b[39;00m df\n",
      "File \u001b[1;32mc:\\Users\\ZIQING002\\.virtualenvs\\MTL-4YFQ4-cY\\lib\\site-packages\\pandas\\core\\frame.py:778\u001b[0m, in \u001b[0;36mDataFrame.__init__\u001b[1;34m(self, data, index, columns, dtype, copy)\u001b[0m\n\u001b[0;32m    772\u001b[0m     mgr \u001b[38;5;241m=\u001b[39m \u001b[38;5;28mself\u001b[39m\u001b[38;5;241m.\u001b[39m_init_mgr(\n\u001b[0;32m    773\u001b[0m         data, axes\u001b[38;5;241m=\u001b[39m{\u001b[38;5;124m\"\u001b[39m\u001b[38;5;124mindex\u001b[39m\u001b[38;5;124m\"\u001b[39m: index, \u001b[38;5;124m\"\u001b[39m\u001b[38;5;124mcolumns\u001b[39m\u001b[38;5;124m\"\u001b[39m: columns}, dtype\u001b[38;5;241m=\u001b[39mdtype, copy\u001b[38;5;241m=\u001b[39mcopy\n\u001b[0;32m    774\u001b[0m     )\n\u001b[0;32m    776\u001b[0m \u001b[38;5;28;01melif\u001b[39;00m \u001b[38;5;28misinstance\u001b[39m(data, \u001b[38;5;28mdict\u001b[39m):\n\u001b[0;32m    777\u001b[0m     \u001b[38;5;66;03m# GH#38939 de facto copy defaults to False only in non-dict cases\u001b[39;00m\n\u001b[1;32m--> 778\u001b[0m     mgr \u001b[38;5;241m=\u001b[39m \u001b[43mdict_to_mgr\u001b[49m\u001b[43m(\u001b[49m\u001b[43mdata\u001b[49m\u001b[43m,\u001b[49m\u001b[43m \u001b[49m\u001b[43mindex\u001b[49m\u001b[43m,\u001b[49m\u001b[43m \u001b[49m\u001b[43mcolumns\u001b[49m\u001b[43m,\u001b[49m\u001b[43m \u001b[49m\u001b[43mdtype\u001b[49m\u001b[38;5;241;43m=\u001b[39;49m\u001b[43mdtype\u001b[49m\u001b[43m,\u001b[49m\u001b[43m \u001b[49m\u001b[43mcopy\u001b[49m\u001b[38;5;241;43m=\u001b[39;49m\u001b[43mcopy\u001b[49m\u001b[43m,\u001b[49m\u001b[43m \u001b[49m\u001b[43mtyp\u001b[49m\u001b[38;5;241;43m=\u001b[39;49m\u001b[43mmanager\u001b[49m\u001b[43m)\u001b[49m\n\u001b[0;32m    779\u001b[0m \u001b[38;5;28;01melif\u001b[39;00m \u001b[38;5;28misinstance\u001b[39m(data, ma\u001b[38;5;241m.\u001b[39mMaskedArray):\n\u001b[0;32m    780\u001b[0m     \u001b[38;5;28;01mfrom\u001b[39;00m \u001b[38;5;21;01mnumpy\u001b[39;00m\u001b[38;5;21;01m.\u001b[39;00m\u001b[38;5;21;01mma\u001b[39;00m \u001b[38;5;28;01mimport\u001b[39;00m mrecords\n",
      "File \u001b[1;32mc:\\Users\\ZIQING002\\.virtualenvs\\MTL-4YFQ4-cY\\lib\\site-packages\\pandas\\core\\internals\\construction.py:503\u001b[0m, in \u001b[0;36mdict_to_mgr\u001b[1;34m(data, index, columns, dtype, typ, copy)\u001b[0m\n\u001b[0;32m    499\u001b[0m     \u001b[38;5;28;01melse\u001b[39;00m:\n\u001b[0;32m    500\u001b[0m         \u001b[38;5;66;03m# dtype check to exclude e.g. range objects, scalars\u001b[39;00m\n\u001b[0;32m    501\u001b[0m         arrays \u001b[38;5;241m=\u001b[39m [x\u001b[38;5;241m.\u001b[39mcopy() \u001b[38;5;28;01mif\u001b[39;00m \u001b[38;5;28mhasattr\u001b[39m(x, \u001b[38;5;124m\"\u001b[39m\u001b[38;5;124mdtype\u001b[39m\u001b[38;5;124m\"\u001b[39m) \u001b[38;5;28;01melse\u001b[39;00m x \u001b[38;5;28;01mfor\u001b[39;00m x \u001b[38;5;129;01min\u001b[39;00m arrays]\n\u001b[1;32m--> 503\u001b[0m \u001b[38;5;28;01mreturn\u001b[39;00m \u001b[43marrays_to_mgr\u001b[49m\u001b[43m(\u001b[49m\u001b[43marrays\u001b[49m\u001b[43m,\u001b[49m\u001b[43m \u001b[49m\u001b[43mcolumns\u001b[49m\u001b[43m,\u001b[49m\u001b[43m \u001b[49m\u001b[43mindex\u001b[49m\u001b[43m,\u001b[49m\u001b[43m \u001b[49m\u001b[43mdtype\u001b[49m\u001b[38;5;241;43m=\u001b[39;49m\u001b[43mdtype\u001b[49m\u001b[43m,\u001b[49m\u001b[43m \u001b[49m\u001b[43mtyp\u001b[49m\u001b[38;5;241;43m=\u001b[39;49m\u001b[43mtyp\u001b[49m\u001b[43m,\u001b[49m\u001b[43m \u001b[49m\u001b[43mconsolidate\u001b[49m\u001b[38;5;241;43m=\u001b[39;49m\u001b[43mcopy\u001b[49m\u001b[43m)\u001b[49m\n",
      "File \u001b[1;32mc:\\Users\\ZIQING002\\.virtualenvs\\MTL-4YFQ4-cY\\lib\\site-packages\\pandas\\core\\internals\\construction.py:152\u001b[0m, in \u001b[0;36marrays_to_mgr\u001b[1;34m(arrays, columns, index, dtype, verify_integrity, typ, consolidate)\u001b[0m\n\u001b[0;32m    149\u001b[0m axes \u001b[38;5;241m=\u001b[39m [columns, index]\n\u001b[0;32m    151\u001b[0m \u001b[38;5;28;01mif\u001b[39;00m typ \u001b[38;5;241m==\u001b[39m \u001b[38;5;124m\"\u001b[39m\u001b[38;5;124mblock\u001b[39m\u001b[38;5;124m\"\u001b[39m:\n\u001b[1;32m--> 152\u001b[0m     \u001b[38;5;28;01mreturn\u001b[39;00m \u001b[43mcreate_block_manager_from_column_arrays\u001b[49m\u001b[43m(\u001b[49m\n\u001b[0;32m    153\u001b[0m \u001b[43m        \u001b[49m\u001b[43marrays\u001b[49m\u001b[43m,\u001b[49m\u001b[43m \u001b[49m\u001b[43maxes\u001b[49m\u001b[43m,\u001b[49m\u001b[43m \u001b[49m\u001b[43mconsolidate\u001b[49m\u001b[38;5;241;43m=\u001b[39;49m\u001b[43mconsolidate\u001b[49m\u001b[43m,\u001b[49m\u001b[43m \u001b[49m\u001b[43mrefs\u001b[49m\u001b[38;5;241;43m=\u001b[39;49m\u001b[43mrefs\u001b[49m\n\u001b[0;32m    154\u001b[0m \u001b[43m    \u001b[49m\u001b[43m)\u001b[49m\n\u001b[0;32m    155\u001b[0m \u001b[38;5;28;01melif\u001b[39;00m typ \u001b[38;5;241m==\u001b[39m \u001b[38;5;124m\"\u001b[39m\u001b[38;5;124marray\u001b[39m\u001b[38;5;124m\"\u001b[39m:\n\u001b[0;32m    156\u001b[0m     \u001b[38;5;28;01mreturn\u001b[39;00m ArrayManager(arrays, [index, columns])\n",
      "File \u001b[1;32mc:\\Users\\ZIQING002\\.virtualenvs\\MTL-4YFQ4-cY\\lib\\site-packages\\pandas\\core\\internals\\managers.py:2139\u001b[0m, in \u001b[0;36mcreate_block_manager_from_column_arrays\u001b[1;34m(arrays, axes, consolidate, refs)\u001b[0m\n\u001b[0;32m   2121\u001b[0m \u001b[38;5;28;01mdef\u001b[39;00m \u001b[38;5;21mcreate_block_manager_from_column_arrays\u001b[39m(\n\u001b[0;32m   2122\u001b[0m     arrays: \u001b[38;5;28mlist\u001b[39m[ArrayLike],\n\u001b[0;32m   2123\u001b[0m     axes: \u001b[38;5;28mlist\u001b[39m[Index],\n\u001b[1;32m   (...)\u001b[0m\n\u001b[0;32m   2135\u001b[0m     \u001b[38;5;66;03m# These last three are sufficient to allow us to safely pass\u001b[39;00m\n\u001b[0;32m   2136\u001b[0m     \u001b[38;5;66;03m#  verify_integrity=False below.\u001b[39;00m\n\u001b[0;32m   2138\u001b[0m     \u001b[38;5;28;01mtry\u001b[39;00m:\n\u001b[1;32m-> 2139\u001b[0m         blocks \u001b[38;5;241m=\u001b[39m \u001b[43m_form_blocks\u001b[49m\u001b[43m(\u001b[49m\u001b[43marrays\u001b[49m\u001b[43m,\u001b[49m\u001b[43m \u001b[49m\u001b[43mconsolidate\u001b[49m\u001b[43m,\u001b[49m\u001b[43m \u001b[49m\u001b[43mrefs\u001b[49m\u001b[43m)\u001b[49m\n\u001b[0;32m   2140\u001b[0m         mgr \u001b[38;5;241m=\u001b[39m BlockManager(blocks, axes, verify_integrity\u001b[38;5;241m=\u001b[39m\u001b[38;5;28;01mFalse\u001b[39;00m)\n\u001b[0;32m   2141\u001b[0m     \u001b[38;5;28;01mexcept\u001b[39;00m \u001b[38;5;167;01mValueError\u001b[39;00m \u001b[38;5;28;01mas\u001b[39;00m e:\n",
      "File \u001b[1;32mc:\\Users\\ZIQING002\\.virtualenvs\\MTL-4YFQ4-cY\\lib\\site-packages\\pandas\\core\\internals\\managers.py:2212\u001b[0m, in \u001b[0;36m_form_blocks\u001b[1;34m(arrays, consolidate, refs)\u001b[0m\n\u001b[0;32m   2209\u001b[0m \u001b[38;5;28;01mif\u001b[39;00m \u001b[38;5;28missubclass\u001b[39m(dtype\u001b[38;5;241m.\u001b[39mtype, (\u001b[38;5;28mstr\u001b[39m, \u001b[38;5;28mbytes\u001b[39m)):\n\u001b[0;32m   2210\u001b[0m     dtype \u001b[38;5;241m=\u001b[39m np\u001b[38;5;241m.\u001b[39mdtype(\u001b[38;5;28mobject\u001b[39m)\n\u001b[1;32m-> 2212\u001b[0m values, placement \u001b[38;5;241m=\u001b[39m \u001b[43m_stack_arrays\u001b[49m\u001b[43m(\u001b[49m\u001b[38;5;28;43mlist\u001b[39;49m\u001b[43m(\u001b[49m\u001b[43mtup_block\u001b[49m\u001b[43m)\u001b[49m\u001b[43m,\u001b[49m\u001b[43m \u001b[49m\u001b[43mdtype\u001b[49m\u001b[43m)\u001b[49m\n\u001b[0;32m   2213\u001b[0m \u001b[38;5;28;01mif\u001b[39;00m is_dtlike:\n\u001b[0;32m   2214\u001b[0m     values \u001b[38;5;241m=\u001b[39m ensure_wrapped_if_datetimelike(values)\n",
      "File \u001b[1;32mc:\\Users\\ZIQING002\\.virtualenvs\\MTL-4YFQ4-cY\\lib\\site-packages\\pandas\\core\\internals\\managers.py:2254\u001b[0m, in \u001b[0;36m_stack_arrays\u001b[1;34m(tuples, dtype)\u001b[0m\n\u001b[0;32m   2252\u001b[0m stacked \u001b[38;5;241m=\u001b[39m np\u001b[38;5;241m.\u001b[39mempty(shape, dtype\u001b[38;5;241m=\u001b[39mdtype)\n\u001b[0;32m   2253\u001b[0m \u001b[38;5;28;01mfor\u001b[39;00m i, arr \u001b[38;5;129;01min\u001b[39;00m \u001b[38;5;28menumerate\u001b[39m(arrays):\n\u001b[1;32m-> 2254\u001b[0m     \u001b[43mstacked\u001b[49m\u001b[43m[\u001b[49m\u001b[43mi\u001b[49m\u001b[43m]\u001b[49m \u001b[38;5;241m=\u001b[39m arr\n\u001b[0;32m   2256\u001b[0m \u001b[38;5;28;01mreturn\u001b[39;00m stacked, placement\n",
      "\u001b[1;31mKeyboardInterrupt\u001b[0m: "
     ]
    }
   ],
   "source": [
    "# Importing modules\n",
    "import pandas as pd\n",
    "# Read data into papers\n",
    "data = pd.read_csv('../data/eastmoney_bert.csv')\n",
    "# data = pd.concat([data1, data2], axis=0)\n",
    "print(len(data))\n",
    "# Print head\n",
    "data.head()"
   ]
  },
  {
   "cell_type": "code",
   "execution_count": 59,
   "metadata": {},
   "outputs": [],
   "source": [
    "data = data[['item_title', 'year', 'month']]\n",
    "data['year'] = data['year'].astype(int)\n",
    "data['month'] = data['month'].astype(int)\n",
    "data['year_month'] = pd.to_datetime(data['year'].astype(str) + '-' + data['month'].astype(str) + '-01')"
   ]
  },
  {
   "cell_type": "code",
   "execution_count": 60,
   "metadata": {},
   "outputs": [],
   "source": [
    "def split_data(data, start_time, end_time):\n",
    "    # Create a 'year_month' column by combining 'year' and 'month'\n",
    "    data['year_month'] = pd.to_datetime(data['year'].astype(str) + '-' + data['month'].astype(str) + '-01')\n",
    "\n",
    "    # Split the data based on the defined ranges\n",
    "    splited_data = data[(data['year_month'] >= start_time) & (data['year_month'] <= end_time)]\n",
    "    print(len(splited_data))\n",
    "    return splited_data"
   ]
  },
  {
   "cell_type": "code",
   "execution_count": 62,
   "metadata": {},
   "outputs": [
    {
     "name": "stdout",
     "output_type": "stream",
     "text": [
      "4320858\n",
      "451944\n",
      "423289\n",
      "426113\n",
      "981492\n"
     ]
    }
   ],
   "source": [
    "train = split_data(data,'2017-01-01', '2022-06-30')\n",
    "fit1 = split_data(data, '2022-07-01', '2022-09-30')\n",
    "fit2 = split_data(data, '2022-10-01', '2022-12-31')\n",
    "fit3 = split_data(data, '2023-01-01', '2023-03-31')\n",
    "fit4 = split_data(data, '2023-04-01', '2023-08-31')\n",
    "\n",
    "train.to_csv(\"./train.csv\", index=False)\n",
    "fit1.to_csv(\"./fit1.csv\", index=False)\n",
    "fit2.to_csv(\"./fit2.csv\", index=False)\n",
    "fit3.to_csv(\"./fit3.csv\", index=False)\n",
    "fit4.to_csv(\"./fit4.csv\", index=False)\n"
   ]
  },
  {
   "cell_type": "markdown",
   "metadata": {},
   "source": [
    "# Mine Topics with LDA"
   ]
  },
  {
   "cell_type": "code",
   "execution_count": 2,
   "metadata": {},
   "outputs": [],
   "source": [
    "data = pd.read_csv('./train.csv')"
   ]
  },
  {
   "cell_type": "code",
   "execution_count": 15,
   "metadata": {},
   "outputs": [],
   "source": [
    "import jieba\n",
    "from gensim import corpora, models\n",
    "import re\n",
    "\n",
    "# 去除文本中的标点符号\n",
    "def remove_punctuation(text):\n",
    "    # 使用正则表达式去除标点\n",
    "    text = re.sub(r'\\s+', ' ', text)\n",
    "    text = re.sub(r'[^\\w\\s]', '', text)\n",
    "    text = re.sub(r'\\d+', '', text)\n",
    "    text = re.sub(r' ', '', text)\n",
    "    return text\n",
    "\n",
    "# 加载停用词列表\n",
    "stop_words = set()\n",
    "with open('./hit_stopwords.txt', 'r', encoding='utf-8') as file:  # 假设停用词列表文件名为 chinese_stop_words.txt\n",
    "    for word in file:\n",
    "        stop_words.add(word.strip())\n",
    "def remove_stopwords(words):\n",
    "    words = [word for word in words if word not in stop_words]\n",
    "    return words\n",
    "\n",
    "# eastmoney['sentiment_score'] 为情感得分列\n",
    "# 分词处理\n",
    "data['cut_titles'] = data['item_title'].apply(lambda x: remove_stopwords(list(jieba.cut(remove_punctuation(x)))))"
   ]
  },
  {
   "cell_type": "code",
   "execution_count": 16,
   "metadata": {},
   "outputs": [
    {
     "data": {
      "text/plain": [
       "0                        [平安, 银行, 年度, 派元]\n",
       "1              [平安, 银行, 上半年, 净利润, 同比, 下降]\n",
       "2          [平安, 银行, 主力, 净流入, 亿元, 两市, 排名第]\n",
       "3    [平安, 银行, 主力, 资金, 连续, 天, 净流入, 累计, 亿元]\n",
       "4          [平安, 银行, 主力, 净流入, 亿元, 两市, 排名第]\n",
       "Name: cut_titles, dtype: object"
      ]
     },
     "execution_count": 16,
     "metadata": {},
     "output_type": "execute_result"
    }
   ],
   "source": [
    "data['cut_titles'].head()"
   ]
  },
  {
   "cell_type": "code",
   "execution_count": 17,
   "metadata": {},
   "outputs": [
    {
     "name": "stdout",
     "output_type": "stream",
     "text": [
      "[(0, 1), (1, 1), (2, 1), (3, 1)]\n"
     ]
    }
   ],
   "source": [
    "import gensim.corpora as corpora\n",
    "# Create Dictionary\n",
    "id2word = corpora.Dictionary(data['cut_titles'])\n",
    "# Create Corpus\n",
    "texts = data['cut_titles']\n",
    "# Term Document Frequency\n",
    "corpus = [id2word.doc2bow(text) for text in texts]\n",
    "# View\n",
    "print(corpus[:1][0][:30])"
   ]
  },
  {
   "cell_type": "code",
   "execution_count": 18,
   "metadata": {},
   "outputs": [
    {
     "name": "stdout",
     "output_type": "stream",
     "text": [
      "[(0,\n",
      "  '0.067*\"万股\" + 0.054*\"股通\" + 0.050*\"累计\" + 0.047*\"连续\" + 0.044*\"减持\" + 0.044*\"万元\" '\n",
      "  '+ 0.033*\"增持\" + 0.032*\"股东\" + 0.032*\"沪\" + 0.027*\"股份\"'),\n",
      " (1,\n",
      "  '0.215*\"融资\" + 0.112*\"万元\" + 0.084*\"亿元\" + 0.069*\"余额\" + 0.054*\"偿还\" + 0.052*\"买入\" '\n",
      "  '+ 0.041*\"信息\" + 0.038*\"融券\" + 0.015*\"股份\" + 0.012*\"科技\"'),\n",
      " (2,\n",
      "  '0.023*\"公司\" + 0.020*\"股份\" + 0.012*\"净利润\" + 0.010*\"同比\" + 0.010*\"证券\" + '\n",
      "  '0.010*\"科技\" + 0.008*\"快速\" + 0.007*\"约\" + 0.006*\"增长\" + 0.006*\"评级\"')]\n"
     ]
    }
   ],
   "source": [
    "from pprint import pprint\n",
    "import numpy\n",
    "import gensim.models\n",
    "# number of topics\n",
    "num_topics = 3\n",
    "# Build LDA model\n",
    "lda_model = gensim.models.LdaMulticore(corpus=corpus,\n",
    "                                       id2word=id2word,\n",
    "                                       num_topics=num_topics,\n",
    "                                       random_state=numpy.random.RandomState(10))\n",
    "# Print the Keyword in the 10 topics\n",
    "pprint(lda_model.print_topics())\n",
    "doc_lda = lda_model[corpus]"
   ]
  },
  {
   "cell_type": "code",
   "execution_count": 19,
   "metadata": {},
   "outputs": [
    {
     "name": "stderr",
     "output_type": "stream",
     "text": [
      "Calculating topics: 100%|██████████| 4320858/4320858 [09:32<00:00, 7550.45it/s]\n"
     ]
    }
   ],
   "source": [
    "from tqdm import tqdm\n",
    "# 如果需要将主题分布加入原DataFrame\n",
    "data['topics'] = [lda_model[id2word.doc2bow(text)] for text in tqdm(data['cut_titles'], desc=\"Calculating topics\")]"
   ]
  },
  {
   "cell_type": "code",
   "execution_count": 20,
   "metadata": {},
   "outputs": [
    {
     "name": "stderr",
     "output_type": "stream",
     "text": [
      "Extracting dominant topics: 100%|██████████| 4320858/4320858 [00:03<00:00, 1213620.30it/s]\n"
     ]
    }
   ],
   "source": [
    "# 为每个文档提取最大概率的主题，并加入DataFrame\n",
    "dominant_topics = []\n",
    "for topic_tuple in tqdm(data['topics'], desc=\"Extracting dominant topics\"):\n",
    "    if topic_tuple:  # 确保topics元组不为空\n",
    "        topic_list = topic_tuple  # 获取主题概率列表\n",
    "        if topic_list:  # 确保主题列表不为空\n",
    "            dominant_topic = max(topic_list, key=lambda x: x[1])[0]\n",
    "            dominant_topics.append(dominant_topic)\n",
    "        else:\n",
    "            dominant_topics.append(None)  # 如果没有主题，则添加None\n",
    "    else:\n",
    "        dominant_topics.append(None)  # 如果topics元组为空，添加None\n",
    "\n",
    "data['dominant_topic'] = dominant_topics"
   ]
  },
  {
   "cell_type": "code",
   "execution_count": 21,
   "metadata": {},
   "outputs": [
    {
     "name": "stdout",
     "output_type": "stream",
     "text": [
      "                       item_title  \\\n",
      "0              平安银行2019年度10派2.18元   \n",
      "1        平安银行：2020上半年净利润同比下降11.2%   \n",
      "2  平安银行：主力净流入1.05亿元，两市排名第17（09-16   \n",
      "3  平安银行：主力资金连续4天净流入累计4.11亿元（09-17   \n",
      "4  平安银行：主力净流入3.09亿元，两市排名第14（09-18   \n",
      "\n",
      "                                              topics  dominant_topic  year  \\\n",
      "0  [(0, 0.069995634), (1, 0.06736348), (2, 0.8626...               2  2020   \n",
      "1  [(0, 0.05199994), (1, 0.047945883), (2, 0.9000...               2  2020   \n",
      "2  [(0, 0.66676366), (1, 0.28648892), (2, 0.04674...               0  2020   \n",
      "3  [(0, 0.92560095), (1, 0.0388861), (2, 0.035512...               0  2020   \n",
      "4  [(0, 0.66666585), (1, 0.2865842), (2, 0.046749...               0  2020   \n",
      "\n",
      "   month  \n",
      "0      5  \n",
      "1      8  \n",
      "2      9  \n",
      "3      9  \n",
      "4      9  \n"
     ]
    },
    {
     "name": "stderr",
     "output_type": "stream",
     "text": [
      "c:\\Users\\ZIQING002\\.virtualenvs\\MTL-4YFQ4-cY\\lib\\site-packages\\gensim\\interfaces.py:92: UserWarning: corpus.save() stores only the (tiny) iteration object in memory; to serialize the actual corpus content, use e.g. MmCorpus.serialize(corpus)\n",
      "  warnings.warn(\n"
     ]
    }
   ],
   "source": [
    "path = './eastmoney_topic1.csv'\n",
    "data = data[['item_title','topics','dominant_topic', 'year','month']]\n",
    "print(data.head())\n",
    "# data.to_csv(path, index=False)\n",
    "doc_lda.save('./lda_model.gensim')"
   ]
  },
  {
   "cell_type": "code",
   "execution_count": 22,
   "metadata": {},
   "outputs": [
    {
     "name": "stderr",
     "output_type": "stream",
     "text": [
      "c:\\Users\\ZIQING002\\.virtualenvs\\MTL-4YFQ4-cY\\lib\\site-packages\\gensim\\interfaces.py:92: UserWarning: corpus.save() stores only the (tiny) iteration object in memory; to serialize the actual corpus content, use e.g. MmCorpus.serialize(corpus)\n",
      "  warnings.warn(\n"
     ]
    }
   ],
   "source": [
    "doc_lda.save('./lda_model.gensim')"
   ]
  },
  {
   "cell_type": "code",
   "execution_count": 23,
   "metadata": {},
   "outputs": [
    {
     "data": {
      "text/plain": [
       "<Figure size 1200x600 with 0 Axes>"
      ]
     },
     "metadata": {},
     "output_type": "display_data"
    },
    {
     "data": {
      "image/png": "[encoded data removed]",
      "text/plain": [
       "<Figure size 1200x600 with 1 Axes>"
      ]
     },
     "metadata": {},
     "output_type": "display_data"
    }
   ],
   "source": [
    "import pandas as pd\n",
    "import matplotlib.pyplot as plt\n",
    "import seaborn as sns\n",
    "\n",
    "# Step 1: Combine 'year' and 'month' into a datetime column\n",
    "data['date'] = pd.to_datetime(data['year'].astype(str) + '-' + data['month'].astype(str))\n",
    "\n",
    "# Step 2: Create a \"three-month period\" column\n",
    "data['period'] = data['date'].dt.to_period(\"Y\")\n",
    "\n",
    "# Step 3: Group by 'period' and 'dominant_topic', and count occurrences\n",
    "topic_distribution = data.groupby(['period', 'dominant_topic']).size().unstack(fill_value=0)\n",
    "\n",
    "# Step 4: Plot the distribution of dominant topics across three-month periods\n",
    "plt.figure(figsize=(12, 6))\n",
    "topic_distribution.plot(kind='bar', stacked=True, colormap='tab20', figsize=(12, 6))\n",
    "\n",
    "plt.title('Distribution of Dominant Topics per Three-Month Period')\n",
    "plt.xlabel('Year')\n",
    "plt.ylabel('Frequency')\n",
    "plt.legend(title='Dominant Topic')\n",
    "plt.xticks(rotation=45)\n",
    "plt.tight_layout()\n",
    "plt.show()"
   ]
  },
  {
   "cell_type": "markdown",
   "metadata": {},
   "source": [
    "# Train Topic Classification Model"
   ]
  },
  {
   "cell_type": "code",
   "execution_count": 1,
   "metadata": {},
   "outputs": [
    {
     "data": {
      "text/html": [
       "<div>\n",
       "<style scoped>\n",
       "    .dataframe tbody tr th:only-of-type {\n",
       "        vertical-align: middle;\n",
       "    }\n",
       "\n",
       "    .dataframe tbody tr th {\n",
       "        vertical-align: top;\n",
       "    }\n",
       "\n",
       "    .dataframe thead th {\n",
       "        text-align: right;\n",
       "    }\n",
       "</style>\n",
       "<table border=\"1\" class=\"dataframe\">\n",
       "  <thead>\n",
       "    <tr style=\"text-align: right;\">\n",
       "      <th></th>\n",
       "      <th>item_title</th>\n",
       "      <th>topics</th>\n",
       "      <th>dominant_topic</th>\n",
       "      <th>year</th>\n",
       "      <th>month</th>\n",
       "    </tr>\n",
       "  </thead>\n",
       "  <tbody>\n",
       "    <tr>\n",
       "      <th>0</th>\n",
       "      <td>平安银行2019年度10派2.18元</td>\n",
       "      <td>[(0, 0.4513538), (1, 0.42719546), (2, 0.040402...</td>\n",
       "      <td>0</td>\n",
       "      <td>2020</td>\n",
       "      <td>5</td>\n",
       "    </tr>\n",
       "    <tr>\n",
       "      <th>1</th>\n",
       "      <td>平安银行：2020上半年净利润同比下降11.2%</td>\n",
       "      <td>[(0, 0.028599624), (1, 0.029249543), (2, 0.028...</td>\n",
       "      <td>3</td>\n",
       "      <td>2020</td>\n",
       "      <td>8</td>\n",
       "    </tr>\n",
       "    <tr>\n",
       "      <th>2</th>\n",
       "      <td>平安银行：主力净流入1.05亿元，两市排名第17（09-16</td>\n",
       "      <td>[(0, 0.025011698), (1, 0.49090013), (2, 0.4337...</td>\n",
       "      <td>1</td>\n",
       "      <td>2020</td>\n",
       "      <td>9</td>\n",
       "    </tr>\n",
       "    <tr>\n",
       "      <th>3</th>\n",
       "      <td>平安银行：主力资金连续4天净流入累计4.11亿元（09-17</td>\n",
       "      <td>[(0, 0.020005248), (1, 0.72062945), (2, 0.0207...</td>\n",
       "      <td>1</td>\n",
       "      <td>2020</td>\n",
       "      <td>9</td>\n",
       "    </tr>\n",
       "    <tr>\n",
       "      <th>4</th>\n",
       "      <td>平安银行：主力净流入3.09亿元，两市排名第14（09-18</td>\n",
       "      <td>[(0, 0.025011696), (1, 0.49087447), (2, 0.4338...</td>\n",
       "      <td>1</td>\n",
       "      <td>2020</td>\n",
       "      <td>9</td>\n",
       "    </tr>\n",
       "  </tbody>\n",
       "</table>\n",
       "</div>"
      ],
      "text/plain": [
       "                       item_title  \\\n",
       "0              平安银行2019年度10派2.18元   \n",
       "1        平安银行：2020上半年净利润同比下降11.2%   \n",
       "2  平安银行：主力净流入1.05亿元，两市排名第17（09-16   \n",
       "3  平安银行：主力资金连续4天净流入累计4.11亿元（09-17   \n",
       "4  平安银行：主力净流入3.09亿元，两市排名第14（09-18   \n",
       "\n",
       "                                              topics  dominant_topic  year  \\\n",
       "0  [(0, 0.4513538), (1, 0.42719546), (2, 0.040402...               0  2020   \n",
       "1  [(0, 0.028599624), (1, 0.029249543), (2, 0.028...               3  2020   \n",
       "2  [(0, 0.025011698), (1, 0.49090013), (2, 0.4337...               1  2020   \n",
       "3  [(0, 0.020005248), (1, 0.72062945), (2, 0.0207...               1  2020   \n",
       "4  [(0, 0.025011696), (1, 0.49087447), (2, 0.4338...               1  2020   \n",
       "\n",
       "   month  \n",
       "0      5  \n",
       "1      8  \n",
       "2      9  \n",
       "3      9  \n",
       "4      9  "
      ]
     },
     "execution_count": 1,
     "metadata": {},
     "output_type": "execute_result"
    }
   ],
   "source": [
    "# only run if not continued from previous block\n",
    "import pandas as pd\n",
    "data = pd.read_csv('./eastmoney_topic1.csv')\n",
    "data.head()\n"
   ]
  },
  {
   "cell_type": "code",
   "execution_count": 24,
   "metadata": {},
   "outputs": [
    {
     "data": {
      "text/plain": [
       "'cuda'"
      ]
     },
     "execution_count": 24,
     "metadata": {},
     "output_type": "execute_result"
    }
   ],
   "source": [
    "import torch\n",
    "# device = 'mps' if torch.backends.mps.is_available() else 'cpu'\n",
    "device = 'cuda' if torch.cuda.is_available() else 'cpu'\n",
    "device"
   ]
  },
  {
   "cell_type": "code",
   "execution_count": 25,
   "metadata": {},
   "outputs": [
    {
     "name": "stderr",
     "output_type": "stream",
     "text": [
      "c:\\Users\\ZIQING002\\.virtualenvs\\MTL-4YFQ4-cY\\lib\\site-packages\\tqdm\\auto.py:21: TqdmWarning: IProgress not found. Please update jupyter and ipywidgets. See https://ipywidgets.readthedocs.io/en/stable/user_install.html\n",
      "  from .autonotebook import tqdm as notebook_tqdm\n"
     ]
    }
   ],
   "source": [
    "from transformers import BertTokenizer, BertModel\n",
    "tokenizer = BertTokenizer.from_pretrained(\"Langboat/mengzi-bert-base-fin\")\n",
    "model = BertModel.from_pretrained(\"Langboat/mengzi-bert-base-fin\").to(device)"
   ]
  },
  {
   "cell_type": "code",
   "execution_count": 26,
   "metadata": {},
   "outputs": [],
   "source": [
    "from tqdm import tqdm\n",
    "def get_bert_embedding(titles, model, device, batch_size=16):\n",
    "    embeddings = []\n",
    "    for i in tqdm(range(0, len(titles), batch_size)):\n",
    "        batch_titles = titles[i:i+batch_size]\n",
    "        inputs = tokenizer(batch_titles.tolist(), return_tensors='pt', padding=True, truncation=True, max_length=32)\n",
    "        inputs = {key:val.to(device) for key, val in inputs.items()}\n",
    "\n",
    "        with torch.no_grad():\n",
    "            outputs = model(**inputs)\n",
    "        batch_embeddings = outputs.last_hidden_state.mean(dim=1)\n",
    "\n",
    "        embeddings.extend(batch_embeddings.cpu().numpy())\n",
    "    return embeddings"
   ]
  },
  {
   "cell_type": "code",
   "execution_count": 27,
   "metadata": {},
   "outputs": [
    {
     "name": "stderr",
     "output_type": "stream",
     "text": [
      " 23%|██▎       | 15398/67514 [20:26<1:09:12, 12.55it/s]\n"
     ]
    },
    {
     "ename": "KeyboardInterrupt",
     "evalue": "",
     "output_type": "error",
     "traceback": [
      "\u001b[1;31m---------------------------------------------------------------------------\u001b[0m",
      "\u001b[1;31mKeyboardInterrupt\u001b[0m                         Traceback (most recent call last)",
      "Cell \u001b[1;32mIn[27], line 1\u001b[0m\n\u001b[1;32m----> 1\u001b[0m data[\u001b[38;5;124m'\u001b[39m\u001b[38;5;124mtitle_embed\u001b[39m\u001b[38;5;124m'\u001b[39m] \u001b[38;5;241m=\u001b[39m \u001b[43mget_bert_embedding\u001b[49m\u001b[43m(\u001b[49m\u001b[43mdata\u001b[49m\u001b[43m[\u001b[49m\u001b[38;5;124;43m'\u001b[39;49m\u001b[38;5;124;43mitem_title\u001b[39;49m\u001b[38;5;124;43m'\u001b[39;49m\u001b[43m]\u001b[49m\u001b[43m,\u001b[49m\u001b[43m \u001b[49m\u001b[43mmodel\u001b[49m\u001b[43m,\u001b[49m\u001b[43m \u001b[49m\u001b[43mdevice\u001b[49m\u001b[43m,\u001b[49m\u001b[43m \u001b[49m\u001b[43mbatch_size\u001b[49m\u001b[38;5;241;43m=\u001b[39;49m\u001b[38;5;241;43m64\u001b[39;49m\u001b[43m)\u001b[49m\n",
      "Cell \u001b[1;32mIn[26], line 13\u001b[0m, in \u001b[0;36mget_bert_embedding\u001b[1;34m(titles, model, device, batch_size)\u001b[0m\n\u001b[0;32m     10\u001b[0m         outputs \u001b[38;5;241m=\u001b[39m model(\u001b[38;5;241m*\u001b[39m\u001b[38;5;241m*\u001b[39minputs)\n\u001b[0;32m     11\u001b[0m     batch_embeddings \u001b[38;5;241m=\u001b[39m outputs\u001b[38;5;241m.\u001b[39mlast_hidden_state\u001b[38;5;241m.\u001b[39mmean(dim\u001b[38;5;241m=\u001b[39m\u001b[38;5;241m1\u001b[39m)\n\u001b[1;32m---> 13\u001b[0m     embeddings\u001b[38;5;241m.\u001b[39mextend(\u001b[43mbatch_embeddings\u001b[49m\u001b[38;5;241;43m.\u001b[39;49m\u001b[43mcpu\u001b[49m\u001b[43m(\u001b[49m\u001b[43m)\u001b[49m\u001b[38;5;241m.\u001b[39mnumpy())\n\u001b[0;32m     14\u001b[0m \u001b[38;5;28;01mreturn\u001b[39;00m embeddings\n",
      "\u001b[1;31mKeyboardInterrupt\u001b[0m: "
     ]
    }
   ],
   "source": [
    "data['title_embed'] = get_bert_embedding(data['item_title'], model, device, batch_size=64)"
   ]
  },
  {
   "cell_type": "code",
   "execution_count": 9,
   "metadata": {},
   "outputs": [
    {
     "name": "stdout",
     "output_type": "stream",
     "text": [
      "                       item_title  \\\n",
      "0              平安银行2019年度10派2.18元   \n",
      "1        平安银行：2020上半年净利润同比下降11.2%   \n",
      "2  平安银行：主力净流入1.05亿元，两市排名第17（09-16   \n",
      "3  平安银行：主力资金连续4天净流入累计4.11亿元（09-17   \n",
      "4  平安银行：主力净流入3.09亿元，两市排名第14（09-18   \n",
      "\n",
      "                                              topics  dominant_topic  year  \\\n",
      "0  [(0, 0.4513538), (1, 0.42719546), (2, 0.040402...               0  2020   \n",
      "1  [(0, 0.028599624), (1, 0.029249543), (2, 0.028...               3  2020   \n",
      "2  [(0, 0.025011698), (1, 0.49090013), (2, 0.4337...               1  2020   \n",
      "3  [(0, 0.020005248), (1, 0.72062945), (2, 0.0207...               1  2020   \n",
      "4  [(0, 0.025011696), (1, 0.49087447), (2, 0.4338...               1  2020   \n",
      "\n",
      "   month                                        title_embed  \n",
      "0      5  [0.035107475, 0.042284798, -0.1718109, 0.03115...  \n",
      "1      8  [0.12992123, 0.007185275, -0.1144319, -0.11513...  \n",
      "2      9  [0.10176392, -0.037375703, -0.15134309, -0.133...  \n",
      "3      9  [0.11925174, -0.07625077, -0.22930394, -0.1816...  \n",
      "4      9  [0.09249952, -0.03729573, -0.16958681, -0.0821...  \n"
     ]
    }
   ],
   "source": [
    "print(data.head())"
   ]
  },
  {
   "cell_type": "code",
   "execution_count": 31,
   "metadata": {},
   "outputs": [],
   "source": [
    "data.to_csv('./eastmoney_topic1.csv', index=False) #took long time"
   ]
  },
  {
   "cell_type": "code",
   "execution_count": 32,
   "metadata": {},
   "outputs": [],
   "source": [
    "class LDADataset(torch.utils.data.Dataset):\n",
    "    def __init__(self, dataset, device):\n",
    "        self.data = dataset\n",
    "        self.device = device\n",
    "        \n",
    "    # get sample\n",
    "    def __getitem__(self, idx):\n",
    "        batch = self.data.iloc[idx,:]\n",
    "\n",
    "        input = batch['title_embed']\n",
    "        target = batch['dominant_topic']\n",
    "\n",
    "        input = torch.tensor(input).to(self.device)\n",
    "        target = torch.tensor(target).to(self.device)\n",
    "\n",
    "        return input , target\n",
    "\n",
    "    def __len__(self):\n",
    "        return len(self.data)"
   ]
  },
  {
   "cell_type": "code",
   "execution_count": 33,
   "metadata": {},
   "outputs": [
    {
     "name": "stdout",
     "output_type": "stream",
     "text": [
      "3772284 548574\n"
     ]
    }
   ],
   "source": [
    "from torch.utils.data import DataLoader\n",
    "\n",
    "# Create a 'year_month' column by combining 'year' and 'month'\n",
    "data['year_month'] = pd.to_datetime(data['year'].astype(str) + '-' + data['month'].astype(str) + '-01')\n",
    "\n",
    "# Define the date ranges for train, valid, and test sets\n",
    "train_start = '2017-01-01'\n",
    "train_end = '2022-03-31'\n",
    "test_start = '2022-04-01'\n",
    "test_end = '2022-06-30'\n",
    "\n",
    "# Split the data based on the defined ranges\n",
    "train_set = data[(data['year_month'] >= train_start) & (data['year_month'] <= train_end)]\n",
    "test_set = data[(data['year_month'] >= test_start) & (data['year_month'] <= test_end)]\n",
    "train_len, test_len = len(train_set), len(test_set)\n",
    "print(train_len, test_len)\n",
    "\n",
    "train_data = LDADataset(train_set, device)\n",
    "test_data = LDADataset(test_set, device)"
   ]
  },
  {
   "cell_type": "code",
   "execution_count": 34,
   "metadata": {},
   "outputs": [],
   "source": [
    "# classifier hyper parameters \n",
    "bs = 64\n",
    "lr = 0.001\n",
    "input_size = 768  # Number of features\n",
    "hidden_size = 128  # Hidden layer size\n",
    "output_size = 3\n",
    "dropout = 0.5"
   ]
  },
  {
   "cell_type": "code",
   "execution_count": 35,
   "metadata": {},
   "outputs": [],
   "source": [
    "train_loader = DataLoader(train_data, batch_size=bs, shuffle=True)\n",
    "test_loader = DataLoader(test_data, batch_size=bs, shuffle=True)"
   ]
  },
  {
   "cell_type": "code",
   "execution_count": 36,
   "metadata": {},
   "outputs": [],
   "source": [
    "import torch.nn as nn\n",
    "import torch.nn.functional as F\n",
    "class MLPClassifier(nn.Module):\n",
    "    def __init__(self, input_size, hidden_size, output_size):\n",
    "        super(MLPClassifier, self).__init__()\n",
    "        # Define layers\n",
    "        self.fc1 = nn.Linear(input_size, hidden_size)\n",
    "        self.fc2 = nn.Linear(hidden_size, hidden_size)\n",
    "        self.fc3 = nn.Linear(hidden_size, output_size)\n",
    "        self.dropout = nn.Dropout(dropout)  # Dropout layer for regularization\n",
    "\n",
    "    def forward(self, x):\n",
    "        # Define the forward pass\n",
    "        x = F.relu(self.fc1(x))\n",
    "        x = F.relu(self.fc2(x))\n",
    "        x = self.dropout(x)\n",
    "        x = self.fc3(x)\n",
    "        return x"
   ]
  },
  {
   "cell_type": "code",
   "execution_count": 37,
   "metadata": {},
   "outputs": [],
   "source": [
    "classifier = MLPClassifier(input_size, hidden_size, output_size).to(device)\n",
    "\n",
    "# Loss function and optimizer\n",
    "criterion = nn.CrossEntropyLoss()  # Use CrossEntropy for classification\n",
    "optimizer = torch.optim.Adam(classifier.parameters(), lr=lr)"
   ]
  },
  {
   "cell_type": "code",
   "execution_count": 38,
   "metadata": {},
   "outputs": [],
   "source": [
    "# Training function\n",
    "def train(model, train_loader, criterion, optimizer, epochs=20):\n",
    "    model.train()\n",
    "    for epoch in range(epochs):\n",
    "        running_loss = 0.0\n",
    "        for inputs, labels in tqdm(train_loader, desc=f\"Training Epoch {epoch}\"):\n",
    "            optimizer.zero_grad()  # Zero out the gradients\n",
    "            outputs = model(inputs)  # Forward pass\n",
    "            loss = criterion(outputs, labels)  # Calculate loss\n",
    "            loss.backward()  # Backpropagate\n",
    "            optimizer.step()  # Update the weights\n",
    "\n",
    "            running_loss += loss.item()\n",
    "\n",
    "        print(f'Epoch [{epoch+1}/{epochs}], Loss: {running_loss/len(train_loader):.4f}')"
   ]
  },
  {
   "cell_type": "code",
   "execution_count": 39,
   "metadata": {},
   "outputs": [
    {
     "name": "stderr",
     "output_type": "stream",
     "text": [
      "Training Epoch 0: 100%|██████████| 58942/58942 [19:27<00:00, 50.47it/s]\n"
     ]
    },
    {
     "name": "stdout",
     "output_type": "stream",
     "text": [
      "Epoch [1/20], Loss: 0.1512\n"
     ]
    },
    {
     "name": "stderr",
     "output_type": "stream",
     "text": [
      "Training Epoch 1: 100%|██████████| 58942/58942 [19:35<00:00, 50.14it/s]\n"
     ]
    },
    {
     "name": "stdout",
     "output_type": "stream",
     "text": [
      "Epoch [2/20], Loss: 0.1254\n"
     ]
    },
    {
     "name": "stderr",
     "output_type": "stream",
     "text": [
      "Training Epoch 2: 100%|██████████| 58942/58942 [19:32<00:00, 50.28it/s]\n"
     ]
    },
    {
     "name": "stdout",
     "output_type": "stream",
     "text": [
      "Epoch [3/20], Loss: 0.1165\n"
     ]
    },
    {
     "name": "stderr",
     "output_type": "stream",
     "text": [
      "Training Epoch 3: 100%|██████████| 58942/58942 [19:32<00:00, 50.26it/s]\n"
     ]
    },
    {
     "name": "stdout",
     "output_type": "stream",
     "text": [
      "Epoch [4/20], Loss: 0.1109\n"
     ]
    },
    {
     "name": "stderr",
     "output_type": "stream",
     "text": [
      "Training Epoch 4: 100%|██████████| 58942/58942 [19:32<00:00, 50.26it/s]\n"
     ]
    },
    {
     "name": "stdout",
     "output_type": "stream",
     "text": [
      "Epoch [5/20], Loss: 0.1073\n"
     ]
    },
    {
     "name": "stderr",
     "output_type": "stream",
     "text": [
      "Training Epoch 5: 100%|██████████| 58942/58942 [19:33<00:00, 50.23it/s]\n"
     ]
    },
    {
     "name": "stdout",
     "output_type": "stream",
     "text": [
      "Epoch [6/20], Loss: 0.1046\n"
     ]
    },
    {
     "name": "stderr",
     "output_type": "stream",
     "text": [
      "Training Epoch 6: 100%|██████████| 58942/58942 [19:33<00:00, 50.22it/s]\n"
     ]
    },
    {
     "name": "stdout",
     "output_type": "stream",
     "text": [
      "Epoch [7/20], Loss: 0.1025\n"
     ]
    },
    {
     "name": "stderr",
     "output_type": "stream",
     "text": [
      "Training Epoch 7: 100%|██████████| 58942/58942 [19:37<00:00, 50.04it/s]\n"
     ]
    },
    {
     "name": "stdout",
     "output_type": "stream",
     "text": [
      "Epoch [8/20], Loss: 0.1009\n"
     ]
    },
    {
     "name": "stderr",
     "output_type": "stream",
     "text": [
      "Training Epoch 8: 100%|██████████| 58942/58942 [19:32<00:00, 50.29it/s]\n"
     ]
    },
    {
     "name": "stdout",
     "output_type": "stream",
     "text": [
      "Epoch [9/20], Loss: 0.0995\n"
     ]
    },
    {
     "name": "stderr",
     "output_type": "stream",
     "text": [
      "Training Epoch 9: 100%|██████████| 58942/58942 [19:33<00:00, 50.21it/s]\n"
     ]
    },
    {
     "name": "stdout",
     "output_type": "stream",
     "text": [
      "Epoch [10/20], Loss: 0.0983\n"
     ]
    },
    {
     "name": "stderr",
     "output_type": "stream",
     "text": [
      "Training Epoch 10: 100%|██████████| 58942/58942 [19:31<00:00, 50.30it/s]\n"
     ]
    },
    {
     "name": "stdout",
     "output_type": "stream",
     "text": [
      "Epoch [11/20], Loss: 0.0974\n"
     ]
    },
    {
     "name": "stderr",
     "output_type": "stream",
     "text": [
      "Training Epoch 11: 100%|██████████| 58942/58942 [19:32<00:00, 50.26it/s]\n"
     ]
    },
    {
     "name": "stdout",
     "output_type": "stream",
     "text": [
      "Epoch [12/20], Loss: 0.0967\n"
     ]
    },
    {
     "name": "stderr",
     "output_type": "stream",
     "text": [
      "Training Epoch 12: 100%|██████████| 58942/58942 [19:32<00:00, 50.25it/s]\n"
     ]
    },
    {
     "name": "stdout",
     "output_type": "stream",
     "text": [
      "Epoch [13/20], Loss: 0.0961\n"
     ]
    },
    {
     "name": "stderr",
     "output_type": "stream",
     "text": [
      "Training Epoch 13: 100%|██████████| 58942/58942 [19:34<00:00, 50.18it/s]\n"
     ]
    },
    {
     "name": "stdout",
     "output_type": "stream",
     "text": [
      "Epoch [14/20], Loss: 0.0954\n"
     ]
    },
    {
     "name": "stderr",
     "output_type": "stream",
     "text": [
      "Training Epoch 14: 100%|██████████| 58942/58942 [19:34<00:00, 50.20it/s]\n"
     ]
    },
    {
     "name": "stdout",
     "output_type": "stream",
     "text": [
      "Epoch [15/20], Loss: 0.0951\n"
     ]
    },
    {
     "name": "stderr",
     "output_type": "stream",
     "text": [
      "Training Epoch 15: 100%|██████████| 58942/58942 [19:08<00:00, 51.32it/s]\n"
     ]
    },
    {
     "name": "stdout",
     "output_type": "stream",
     "text": [
      "Epoch [16/20], Loss: 0.0945\n"
     ]
    },
    {
     "name": "stderr",
     "output_type": "stream",
     "text": [
      "Training Epoch 16: 100%|██████████| 58942/58942 [19:49<00:00, 49.57it/s]\n"
     ]
    },
    {
     "name": "stdout",
     "output_type": "stream",
     "text": [
      "Epoch [17/20], Loss: 0.0942\n"
     ]
    },
    {
     "name": "stderr",
     "output_type": "stream",
     "text": [
      "Training Epoch 17: 100%|██████████| 58942/58942 [19:38<00:00, 50.00it/s]\n"
     ]
    },
    {
     "name": "stdout",
     "output_type": "stream",
     "text": [
      "Epoch [18/20], Loss: 0.0937\n"
     ]
    },
    {
     "name": "stderr",
     "output_type": "stream",
     "text": [
      "Training Epoch 18: 100%|██████████| 58942/58942 [19:35<00:00, 50.16it/s]\n"
     ]
    },
    {
     "name": "stdout",
     "output_type": "stream",
     "text": [
      "Epoch [19/20], Loss: 0.0938\n"
     ]
    },
    {
     "name": "stderr",
     "output_type": "stream",
     "text": [
      "Training Epoch 19: 100%|██████████| 58942/58942 [19:35<00:00, 50.16it/s]"
     ]
    },
    {
     "name": "stdout",
     "output_type": "stream",
     "text": [
      "Epoch [20/20], Loss: 0.0934\n"
     ]
    },
    {
     "name": "stderr",
     "output_type": "stream",
     "text": [
      "\n"
     ]
    }
   ],
   "source": [
    "# Train the model\n",
    "train(classifier, train_loader, criterion, optimizer, epochs=20)"
   ]
  },
  {
   "cell_type": "code",
   "execution_count": 40,
   "metadata": {},
   "outputs": [],
   "source": [
    "# Evaluation function\n",
    "from sklearn.metrics import classification_report, accuracy_score\n",
    "def evaluate(model, test_loader):\n",
    "    model.eval()\n",
    "    preds = []\n",
    "    trues = []\n",
    "    # correct = 0\n",
    "    # total = 0\n",
    "    with torch.no_grad():  # Disable gradient computation for inference\n",
    "        for inputs, labels in tqdm(test_loader):\n",
    "            outputs = model(inputs)\n",
    "            _, predicted = torch.max(outputs.data, 1)\n",
    "            # total += labels.size(0)\n",
    "            # correct += (predicted == labels).sum().item()\n",
    "            preds.extend(predicted.cpu().numpy())\n",
    "            trues.extend(labels.cpu().numpy())\n",
    "\n",
    "    # accuracy = 100 * correct / total\n",
    "    # print(f'Accuracy: {accuracy:.2f}%')\n",
    "    # 1. Classification Report: Precision, Recall, F1-Score per class\n",
    "    report = classification_report(trues, preds, output_dict=True)\n",
    "    print(\"Classification Report (Precision, Recall, F1 per class):\\n\")\n",
    "    print(report)\n",
    "\n",
    "    # 2. Overall Accuracy\n",
    "    accuracy = accuracy_score(trues, preds)\n",
    "    print(\"\\nOverall Accuracy:\", accuracy)"
   ]
  },
  {
   "cell_type": "code",
   "execution_count": 41,
   "metadata": {},
   "outputs": [
    {
     "name": "stderr",
     "output_type": "stream",
     "text": [
      "100%|██████████| 8572/8572 [02:25<00:00, 58.98it/s]\n"
     ]
    },
    {
     "name": "stdout",
     "output_type": "stream",
     "text": [
      "Classification Report (Precision, Recall, F1 per class):\n",
      "\n",
      "{'0': {'precision': 0.9686551082378294, 'recall': 0.9395947647212523, 'f1-score': 0.9539036594923735, 'support': 84198.0}, '1': {'precision': 0.953528153955809, 'recall': 0.7592508513053349, 'f1-score': 0.8453712480252766, 'support': 8810.0}, '2': {'precision': 0.9937805031873709, 'recall': 0.9885625488625286, 'f1-score': 0.9911646586345382, 'support': 207214.0}, '3': {'precision': 0.9347011244821464, 'recall': 0.9815406422068363, 'f1-score': 0.9575484241541062, 'support': 183430.0}, '4': {'precision': 0.951978279003582, 'recall': 0.8965065771233172, 'f1-score': 0.9234100951126836, 'support': 64922.0}, 'accuracy': 0.9641215223470306, 'macro avg': {'precision': 0.9605286337733474, 'recall': 0.9130910768438539, 'f1-score': 0.9342796170837957, 'support': 548574.0}, 'weighted avg': {'precision': 0.9645757912705631, 'recall': 0.9641215223470306, 'f1-score': 0.963845228225968, 'support': 548574.0}}\n",
      "\n",
      "Overall Accuracy: 0.9641215223470306\n"
     ]
    }
   ],
   "source": [
    "evaluate(classifier, test_loader)"
   ]
  },
  {
   "cell_type": "code",
   "execution_count": 43,
   "metadata": {},
   "outputs": [
    {
     "name": "stdout",
     "output_type": "stream",
     "text": [
      "Model saved to classifier.pth\n"
     ]
    }
   ],
   "source": [
    "model_path = 'classifier.pth'\n",
    "\n",
    "# Save the model's state dictionary\n",
    "torch.save(classifier.state_dict(), model_path)\n",
    "print(f\"Model saved to {model_path}\")"
   ]
  },
  {
   "cell_type": "markdown",
   "metadata": {},
   "source": [
    "# Apply classifier on new data"
   ]
  },
  {
   "cell_type": "code",
   "execution_count": 80,
   "metadata": {},
   "outputs": [
    {
     "data": {
      "text/plain": [
       "'cuda'"
      ]
     },
     "execution_count": 80,
     "metadata": {},
     "output_type": "execute_result"
    }
   ],
   "source": [
    "import torch\n",
    "# device = 'mps' if torch.backends.mps.is_available() else 'cpu'\n",
    "device = 'cuda' if torch.cuda.is_available() else 'cpu'\n",
    "device"
   ]
  },
  {
   "cell_type": "code",
   "execution_count": 81,
   "metadata": {},
   "outputs": [],
   "source": [
    "import torch.nn as nn\n",
    "import torch.nn.functional as F\n",
    "class MLPClassifier(nn.Module):\n",
    "    def __init__(self, input_size, hidden_size, output_size):\n",
    "        super(MLPClassifier, self).__init__()\n",
    "        # Define layers\n",
    "        self.fc1 = nn.Linear(input_size, hidden_size)\n",
    "        self.fc2 = nn.Linear(hidden_size, hidden_size)\n",
    "        self.fc3 = nn.Linear(hidden_size, output_size)\n",
    "        self.dropout = nn.Dropout(dropout)  # Dropout layer for regularization\n",
    "\n",
    "    def forward(self, x):\n",
    "        # Define the forward pass\n",
    "        x = F.relu(self.fc1(x))\n",
    "        x = F.relu(self.fc2(x))\n",
    "        x = self.dropout(x)\n",
    "        x = self.fc3(x)\n",
    "        return x"
   ]
  },
  {
   "cell_type": "code",
   "execution_count": 82,
   "metadata": {},
   "outputs": [
    {
     "data": {
      "text/plain": [
       "MLPClassifier(\n",
       "  (fc1): Linear(in_features=768, out_features=128, bias=True)\n",
       "  (fc2): Linear(in_features=128, out_features=128, bias=True)\n",
       "  (fc3): Linear(in_features=128, out_features=5, bias=True)\n",
       "  (dropout): Dropout(p=0.5, inplace=False)\n",
       ")"
      ]
     },
     "execution_count": 82,
     "metadata": {},
     "output_type": "execute_result"
    }
   ],
   "source": [
    "classifier = MLPClassifier(input_size, hidden_size, output_size).to(device)\n",
    "classifier.load_state_dict(torch.load('./classifier.pth'))\n",
    "classifier.eval()  # Set to evaluation mode"
   ]
  },
  {
   "cell_type": "code",
   "execution_count": 84,
   "metadata": {},
   "outputs": [],
   "source": [
    "from transformers import BertTokenizer, BertModel\n",
    "tokenizer = BertTokenizer.from_pretrained(\"Langboat/mengzi-bert-base-fin\")\n",
    "bert = BertModel.from_pretrained(\"Langboat/mengzi-bert-base-fin\").to(device)"
   ]
  },
  {
   "cell_type": "code",
   "execution_count": 85,
   "metadata": {},
   "outputs": [],
   "source": [
    "from tqdm import tqdm\n",
    "def get_bert_embedding(titles, bert_model, device, batch_size=16):\n",
    "    embeddings = []\n",
    "    for i in tqdm(range(0, len(titles), batch_size)):\n",
    "        batch_titles = titles[i:i+batch_size]\n",
    "        inputs = tokenizer(batch_titles.tolist(), return_tensors='pt', padding=True, truncation=True, max_length=32)\n",
    "        inputs = {key:val.to(device) for key, val in inputs.items()}\n",
    "\n",
    "        with torch.no_grad():\n",
    "            outputs = bert_model(**inputs)\n",
    "        batch_embeddings = outputs.last_hidden_state.mean(dim=1)\n",
    "\n",
    "        embeddings.extend(batch_embeddings.cpu().numpy())\n",
    "    return embeddings"
   ]
  },
  {
   "cell_type": "code",
   "execution_count": 86,
   "metadata": {},
   "outputs": [],
   "source": [
    "class TopicClassifierDataset(torch.utils.data.Dataset):\n",
    "    def __init__(self, dataset, device):\n",
    "        self.data = dataset\n",
    "        self.device = device\n",
    "        \n",
    "    # get sample\n",
    "    def __getitem__(self, idx):\n",
    "        batch = self.data.iloc[idx,:]\n",
    "\n",
    "        input = batch['title_embed']\n",
    "        # target = batch['dominant_topic']\n",
    "\n",
    "        input = torch.tensor(input).to(self.device)\n",
    "        # target = torch.tensor(target).to(self.device)\n",
    "\n",
    "        return input\n",
    "\n",
    "    def __len__(self):\n",
    "        return len(self.data)"
   ]
  },
  {
   "cell_type": "code",
   "execution_count": 87,
   "metadata": {},
   "outputs": [],
   "source": [
    "def predict_topic(data_loader, model):\n",
    "    preds = []\n",
    "    with torch.no_grad():  # Disable gradient computation for inference\n",
    "        for inputs in tqdm(data_loader):\n",
    "            outputs = model(inputs)\n",
    "            _, predicted = torch.max(outputs.data, 1)\n",
    "            preds.extend(predicted.cpu().numpy())\n",
    "    return preds"
   ]
  },
  {
   "cell_type": "code",
   "execution_count": 121,
   "metadata": {},
   "outputs": [],
   "source": [
    "def classify_topics(in_data_path, out_data_path, device, classifier_model, bert_model):\n",
    "    data = pd.read_csv(in_data_path)\n",
    "    print(len(data), data.columns)\n",
    "    print('generate title embedding')\n",
    "    data['title_embed'] = get_bert_embedding(data['item_title'], bert_model, device, batch_size=64)\n",
    "    print('classify model topic')\n",
    "    data_loader = DataLoader(TopicClassifierDataset(data, device), batch_size=64, shuffle=False)\n",
    "    topics = predict_topic(data_loader, classifier_model)\n",
    "    data['dominant_topic'] = topics\n",
    "    print('save results')\n",
    "    data.to_csv(out_data_path, index=False)"
   ]
  },
  {
   "cell_type": "code",
   "execution_count": 95,
   "metadata": {},
   "outputs": [
    {
     "name": "stdout",
     "output_type": "stream",
     "text": [
      "451944 Index(['item_title', 'year', 'month', 'year_month'], dtype='object')\n",
      "generate title embedding\n"
     ]
    },
    {
     "name": "stderr",
     "output_type": "stream",
     "text": [
      "100%|██████████| 7062/7062 [09:29<00:00, 12.40it/s]\n"
     ]
    },
    {
     "name": "stdout",
     "output_type": "stream",
     "text": [
      "classify model topic\n"
     ]
    },
    {
     "name": "stderr",
     "output_type": "stream",
     "text": [
      "100%|██████████| 7062/7062 [01:21<00:00, 86.79it/s]\n"
     ]
    }
   ],
   "source": [
    "classify_topics('./fit1.csv', './eastmoney_topic2.csv', device, classifier_model=classifier, bert_model=bert)"
   ]
  },
  {
   "cell_type": "code",
   "execution_count": 102,
   "metadata": {},
   "outputs": [
    {
     "name": "stdout",
     "output_type": "stream",
     "text": [
      "423289 Index(['item_title', 'year', 'month', 'year_month'], dtype='object')\n",
      "generate title embedding\n"
     ]
    },
    {
     "name": "stderr",
     "output_type": "stream",
     "text": [
      "100%|██████████| 6614/6614 [08:49<00:00, 12.48it/s]\n"
     ]
    },
    {
     "name": "stdout",
     "output_type": "stream",
     "text": [
      "classify model topic\n"
     ]
    },
    {
     "name": "stderr",
     "output_type": "stream",
     "text": [
      "100%|██████████| 6614/6614 [01:13<00:00, 90.11it/s] \n"
     ]
    },
    {
     "name": "stdout",
     "output_type": "stream",
     "text": [
      "save results\n"
     ]
    }
   ],
   "source": [
    "classify_topics('./fit2.csv', './eastmoney_topic3.csv', device, classifier_model=classifier, bert_model=bert)"
   ]
  },
  {
   "cell_type": "code",
   "execution_count": 122,
   "metadata": {},
   "outputs": [
    {
     "name": "stdout",
     "output_type": "stream",
     "text": [
      "426113 Index(['item_title', 'year', 'month', 'year_month'], dtype='object')\n",
      "generate title embedding\n"
     ]
    },
    {
     "name": "stderr",
     "output_type": "stream",
     "text": [
      "100%|██████████| 6659/6659 [08:45<00:00, 12.67it/s]\n"
     ]
    },
    {
     "name": "stdout",
     "output_type": "stream",
     "text": [
      "classify model topic\n"
     ]
    },
    {
     "name": "stderr",
     "output_type": "stream",
     "text": [
      "100%|██████████| 6659/6659 [01:15<00:00, 88.44it/s]\n"
     ]
    },
    {
     "name": "stdout",
     "output_type": "stream",
     "text": [
      "save results\n"
     ]
    }
   ],
   "source": [
    "classify_topics('./fit3.csv', './eastmoney_topic4.csv', device, classifier_model=classifier, bert_model=bert)"
   ]
  },
  {
   "cell_type": "code",
   "execution_count": 112,
   "metadata": {},
   "outputs": [
    {
     "name": "stdout",
     "output_type": "stream",
     "text": [
      "981492 Index(['item_title', 'year', 'month', 'year_month'], dtype='object')\n",
      "generate title embedding\n"
     ]
    },
    {
     "name": "stderr",
     "output_type": "stream",
     "text": [
      "100%|██████████| 15336/15336 [20:02<00:00, 12.76it/s]\n"
     ]
    },
    {
     "name": "stdout",
     "output_type": "stream",
     "text": [
      "classify model topic\n"
     ]
    },
    {
     "name": "stderr",
     "output_type": "stream",
     "text": [
      "100%|██████████| 15336/15336 [02:48<00:00, 90.99it/s]\n"
     ]
    },
    {
     "name": "stdout",
     "output_type": "stream",
     "text": [
      "save results\n"
     ]
    }
   ],
   "source": [
    "classify_topics('./fit4.csv', './eastmoney_topic5.csv', device, classifier_model=classifier, bert_model=bert)"
   ]
  },
  {
   "cell_type": "code",
   "execution_count": 131,
   "metadata": {},
   "outputs": [],
   "source": [
    "columns_to_load = ['item_title', 'year', 'month', 'dominant_topic']\n",
    "fit1 = pd.read_csv('./eastmoney_topic2.csv', usecols=columns_to_load)\n",
    "fit2 = pd.read_csv('./eastmoney_topic3.csv', usecols=columns_to_load)\n",
    "fit3 = pd.read_csv('./eastmoney_topic4.csv', usecols=columns_to_load)\n",
    "fit4 = pd.read_csv('./eastmoney_topic5.csv', usecols=columns_to_load)\n",
    "data = pd.concat([fit1, fit2, fit3, fit4], axis=0)"
   ]
  },
  {
   "cell_type": "code",
   "execution_count": 132,
   "metadata": {},
   "outputs": [
    {
     "data": {
      "text/plain": [
       "<Figure size 1200x600 with 0 Axes>"
      ]
     },
     "metadata": {},
     "output_type": "display_data"
    },
    {
     "data": {
      "image/png": "[encoded data removed]",
      "text/plain": [
       "<Figure size 1200x600 with 1 Axes>"
      ]
     },
     "metadata": {},
     "output_type": "display_data"
    }
   ],
   "source": [
    "# plot fitted topic distribution\n",
    "\n",
    "# Step 1: Combine 'year' and 'month' into a datetime column\n",
    "data['date'] = pd.to_datetime(data['year'].astype(str) + '-' + data['month'].astype(str))\n",
    "\n",
    "# Step 2: Create a \"three-month period\" column\n",
    "data['period'] = data['date'].dt.to_period(\"Q\")\n",
    "\n",
    "# Step 3: Group by 'period' and 'dominant_topic', and count occurrences\n",
    "topic_distribution = data.groupby(['period', 'dominant_topic']).size().unstack(fill_value=0)\n",
    "\n",
    "# Step 4: Plot the distribution of dominant topics across three-month periods\n",
    "plt.figure(figsize=(12, 6))\n",
    "topic_distribution.plot(kind='bar', stacked=True, colormap='tab20', figsize=(12, 6))\n",
    "\n",
    "plt.title('Distribution of Dominant Topics per Three-Month Period')\n",
    "plt.xlabel('Three-Month Period')\n",
    "plt.ylabel('Frequency')\n",
    "plt.legend(title='Dominant Topic')\n",
    "plt.xticks(rotation=45)\n",
    "plt.tight_layout()\n",
    "plt.show()"
   ]
  },
  {
   "cell_type": "code",
   "execution_count": 133,
   "metadata": {},
   "outputs": [],
   "source": [
    "train = pd.read_csv('./eastmoney_topic1.csv', usecols=columns_to_load)\n",
    "data = pd.concat([train, data], axis=0)\n",
    "data.to_csv('eastmoney_topic.csv',index=False)"
   ]
  },
  {
   "cell_type": "code",
   "execution_count": 136,
   "metadata": {},
   "outputs": [
    {
     "name": "stdout",
     "output_type": "stream",
     "text": [
      "6603696\n",
      "Index(['item_title', 'dominant_topic', 'year', 'month', 'date', 'period'], dtype='object')\n"
     ]
    }
   ],
   "source": [
    "print(len(data))\n",
    "print(data.columns)"
   ]
  },
  {
   "cell_type": "markdown",
   "metadata": {},
   "source": [
    "# Compute sentiment using FinBert"
   ]
  },
  {
   "cell_type": "code",
   "execution_count": 151,
   "metadata": {},
   "outputs": [
    {
     "name": "stderr",
     "output_type": "stream",
     "text": [
      "C:\\Users\\ZIQING002\\AppData\\Local\\Temp\\ipykernel_46632\\1788611792.py:1: DtypeWarning: Columns (2) have mixed types. Specify dtype option on import or set low_memory=False.\n",
      "  data = pd.read_csv('../data/eastmoney_bert.csv')\n"
     ]
    }
   ],
   "source": [
    "data = pd.read_csv('../data/eastmoney_bert.csv')"
   ]
  },
  {
   "cell_type": "code",
   "execution_count": 152,
   "metadata": {},
   "outputs": [
    {
     "data": {
      "text/plain": [
       "Index(['item_title', 'item_author', 'article_author', 'article_source',\n",
       "       'item_views', 'item_comment_counts', 'article_likes', 'year', 'month',\n",
       "       'eastmoney_robo_journalism', 'media_robo_journalism',\n",
       "       'SMA_robo_journalism', 'viral', 'article_source_cate',\n",
       "       'item_author_cate', 'sentiment_score', 'cut_titles', 'topics',\n",
       "       'dominant_topic', 'topics_val', 'stock_code', 'topics_val1',\n",
       "       'topics_val2', 'topics_val3', 'topics_val4', 'topics_val5',\n",
       "       'topics_val6', 'topics_val7', 'topics_val8'],\n",
       "      dtype='object')"
      ]
     },
     "execution_count": 152,
     "metadata": {},
     "output_type": "execute_result"
    }
   ],
   "source": [
    "data.columns"
   ]
  },
  {
   "cell_type": "code",
   "execution_count": 162,
   "metadata": {},
   "outputs": [
    {
     "name": "stderr",
     "output_type": "stream",
     "text": [
      "c:\\Users\\ZIQING002\\.virtualenvs\\MTL-4YFQ4-cY\\lib\\site-packages\\transformers\\pipelines\\text_classification.py:104: UserWarning: `return_all_scores` is now deprecated,  if want a similar functionality use `top_k=None` instead of `return_all_scores=True` or `top_k=1` instead of `return_all_scores=False`.\n",
      "  warnings.warn(\n",
      "Score sentiment: 1000it [00:16, 59.95it/s]\n"
     ]
    },
    {
     "data": {
      "text/html": [
       "<div>\n",
       "<style scoped>\n",
       "    .dataframe tbody tr th:only-of-type {\n",
       "        vertical-align: middle;\n",
       "    }\n",
       "\n",
       "    .dataframe tbody tr th {\n",
       "        vertical-align: top;\n",
       "    }\n",
       "\n",
       "    .dataframe thead th {\n",
       "        text-align: right;\n",
       "    }\n",
       "</style>\n",
       "<table border=\"1\" class=\"dataframe\">\n",
       "  <thead>\n",
       "    <tr style=\"text-align: right;\">\n",
       "      <th></th>\n",
       "      <th>title</th>\n",
       "      <th>Original Dict Score</th>\n",
       "      <th>New FinBert Categorization</th>\n",
       "    </tr>\n",
       "  </thead>\n",
       "  <tbody>\n",
       "    <tr>\n",
       "      <th>0</th>\n",
       "      <td>宝鹰股份(002047)融资融券信息(05-19)</td>\n",
       "      <td>0.146426</td>\n",
       "      <td>Neutral</td>\n",
       "    </tr>\n",
       "    <tr>\n",
       "      <th>1</th>\n",
       "      <td>四川路桥10月19日获沪股通增持198.89万股</td>\n",
       "      <td>-0.040335</td>\n",
       "      <td>Neutral</td>\n",
       "    </tr>\n",
       "    <tr>\n",
       "      <th>2</th>\n",
       "      <td>四川路桥盘前必读(09-28)</td>\n",
       "      <td>0.016736</td>\n",
       "      <td>Neutral</td>\n",
       "    </tr>\n",
       "    <tr>\n",
       "      <th>3</th>\n",
       "      <td>铂力特本周融资净偿还1368.3万元，居通用设备板块第六</td>\n",
       "      <td>0.004530</td>\n",
       "      <td>Neutral</td>\n",
       "    </tr>\n",
       "    <tr>\n",
       "      <th>4</th>\n",
       "      <td>共进股份：主力资金连续3天净流出累计1701.78万元（01</td>\n",
       "      <td>0.105217</td>\n",
       "      <td>Negative</td>\n",
       "    </tr>\n",
       "    <tr>\n",
       "      <th>...</th>\n",
       "      <td>...</td>\n",
       "      <td>...</td>\n",
       "      <td>...</td>\n",
       "    </tr>\n",
       "    <tr>\n",
       "      <th>995</th>\n",
       "      <td>日月明：主力资金净流出1.16亿元，净占比-17.20%（02-</td>\n",
       "      <td>0.059895</td>\n",
       "      <td>Neutral</td>\n",
       "    </tr>\n",
       "    <tr>\n",
       "      <th>996</th>\n",
       "      <td>中核钛白：连续6日融资净买入累计3133.78万元（01-20</td>\n",
       "      <td>0.100460</td>\n",
       "      <td>Neutral</td>\n",
       "    </tr>\n",
       "    <tr>\n",
       "      <th>997</th>\n",
       "      <td>益丰药房：“益丰转债”赎回登记日3月4日 3月5日起停</td>\n",
       "      <td>-0.131958</td>\n",
       "      <td>Neutral</td>\n",
       "    </tr>\n",
       "    <tr>\n",
       "      <th>998</th>\n",
       "      <td>嘉寓股份：融资净买入64.46万元，融资余额1972万元（0</td>\n",
       "      <td>0.145315</td>\n",
       "      <td>Neutral</td>\n",
       "    </tr>\n",
       "    <tr>\n",
       "      <th>999</th>\n",
       "      <td>莫高股份：连续3日融资净偿还累计714.52万元（01-26）</td>\n",
       "      <td>0.045634</td>\n",
       "      <td>Neutral</td>\n",
       "    </tr>\n",
       "  </tbody>\n",
       "</table>\n",
       "<p>1000 rows × 3 columns</p>\n",
       "</div>"
      ],
      "text/plain": [
       "                                title  Original Dict Score  \\\n",
       "0           宝鹰股份(002047)融资融券信息(05-19)             0.146426   \n",
       "1            四川路桥10月19日获沪股通增持198.89万股            -0.040335   \n",
       "2                     四川路桥盘前必读(09-28)             0.016736   \n",
       "3        铂力特本周融资净偿还1368.3万元，居通用设备板块第六             0.004530   \n",
       "4      共进股份：主力资金连续3天净流出累计1701.78万元（01             0.105217   \n",
       "..                                ...                  ...   \n",
       "995  日月明：主力资金净流出1.16亿元，净占比-17.20%（02-             0.059895   \n",
       "996   中核钛白：连续6日融资净买入累计3133.78万元（01-20             0.100460   \n",
       "997       益丰药房：“益丰转债”赎回登记日3月4日 3月5日起停            -0.131958   \n",
       "998    嘉寓股份：融资净买入64.46万元，融资余额1972万元（0             0.145315   \n",
       "999   莫高股份：连续3日融资净偿还累计714.52万元（01-26）             0.045634   \n",
       "\n",
       "    New FinBert Categorization  \n",
       "0                      Neutral  \n",
       "1                      Neutral  \n",
       "2                      Neutral  \n",
       "3                      Neutral  \n",
       "4                     Negative  \n",
       "..                         ...  \n",
       "995                    Neutral  \n",
       "996                    Neutral  \n",
       "997                    Neutral  \n",
       "998                    Neutral  \n",
       "999                    Neutral  \n",
       "\n",
       "[1000 rows x 3 columns]"
      ]
     },
     "execution_count": 162,
     "metadata": {},
     "output_type": "execute_result"
    }
   ],
   "source": [
    "from transformers import TextClassificationPipeline\n",
    "from transformers import AutoModelForSequenceClassification, TrainingArguments, Trainer\n",
    "from transformers import BertTokenizerFast\n",
    "model_path=\"yiyanghkust/finbert-tone-chinese\"\n",
    "new_model = AutoModelForSequenceClassification.from_pretrained(model_path,output_attentions=True)\n",
    "tokenizer = BertTokenizerFast.from_pretrained(model_path)\n",
    "PipelineInterface = TextClassificationPipeline(model=new_model, tokenizer=tokenizer, return_all_scores=True, device=device)\n",
    "titles, scores, labels = [], [], []\n",
    "for _, row in tqdm(data.sample(n=1000).iterrows(), desc=\"Score sentiment\"):\n",
    "    titles.append(row['item_title'])\n",
    "    label = PipelineInterface(row['item_title'])\n",
    "    highest_score_label = max(label[0], key=lambda x: x['score'])['label']\n",
    "    scores.append(row['sentiment_score'])\n",
    "    labels.append(highest_score_label)\n",
    "\n",
    "df = pd.DataFrame({\n",
    "    'title': titles,\n",
    "    'Original Dict Score': scores,\n",
    "    'New FinBert Categorization': labels\n",
    "})\n",
    "df.to_csv('./sentiment_comparison.csv', index=False)"
   ]
  },
  {
   "cell_type": "code",
   "execution_count": 171,
   "metadata": {},
   "outputs": [
    {
     "data": {
      "text/html": [
       "<div>\n",
       "<style scoped>\n",
       "    .dataframe tbody tr th:only-of-type {\n",
       "        vertical-align: middle;\n",
       "    }\n",
       "\n",
       "    .dataframe tbody tr th {\n",
       "        vertical-align: top;\n",
       "    }\n",
       "\n",
       "    .dataframe thead th {\n",
       "        text-align: right;\n",
       "    }\n",
       "</style>\n",
       "<table border=\"1\" class=\"dataframe\">\n",
       "  <thead>\n",
       "    <tr style=\"text-align: right;\">\n",
       "      <th></th>\n",
       "      <th>title</th>\n",
       "      <th>Original Dict Score</th>\n",
       "      <th>New FinBert Categorization</th>\n",
       "    </tr>\n",
       "  </thead>\n",
       "  <tbody>\n",
       "    <tr>\n",
       "      <th>0</th>\n",
       "      <td>宝鹰股份(002047)融资融券信息(05-19)</td>\n",
       "      <td>0.146426</td>\n",
       "      <td>Neutral</td>\n",
       "    </tr>\n",
       "    <tr>\n",
       "      <th>1</th>\n",
       "      <td>四川路桥10月19日获沪股通增持198.89万股</td>\n",
       "      <td>-0.040335</td>\n",
       "      <td>Neutral</td>\n",
       "    </tr>\n",
       "    <tr>\n",
       "      <th>2</th>\n",
       "      <td>四川路桥盘前必读(09-28)</td>\n",
       "      <td>0.016736</td>\n",
       "      <td>Neutral</td>\n",
       "    </tr>\n",
       "    <tr>\n",
       "      <th>3</th>\n",
       "      <td>铂力特本周融资净偿还1368.3万元，居通用设备板块第六</td>\n",
       "      <td>0.004530</td>\n",
       "      <td>Neutral</td>\n",
       "    </tr>\n",
       "    <tr>\n",
       "      <th>4</th>\n",
       "      <td>共进股份：主力资金连续3天净流出累计1701.78万元（01</td>\n",
       "      <td>0.105217</td>\n",
       "      <td>Negative</td>\n",
       "    </tr>\n",
       "    <tr>\n",
       "      <th>5</th>\n",
       "      <td>高测股份：主力资金连续4天净流出累计2422.75万元（10</td>\n",
       "      <td>0.063107</td>\n",
       "      <td>Negative</td>\n",
       "    </tr>\n",
       "    <tr>\n",
       "      <th>6</th>\n",
       "      <td>绿地控股08月19日被沪股通减持426.28万股</td>\n",
       "      <td>-0.243129</td>\n",
       "      <td>Neutral</td>\n",
       "    </tr>\n",
       "    <tr>\n",
       "      <th>7</th>\n",
       "      <td>苏垦农发12月22日被沪股通减持234.58万股</td>\n",
       "      <td>-0.196365</td>\n",
       "      <td>Neutral</td>\n",
       "    </tr>\n",
       "    <tr>\n",
       "      <th>8</th>\n",
       "      <td>申联生物本周融资净买入306.56万元，居农药兽药板块第</td>\n",
       "      <td>0.272708</td>\n",
       "      <td>Neutral</td>\n",
       "    </tr>\n",
       "    <tr>\n",
       "      <th>9</th>\n",
       "      <td>新元科技从传统制造商向高端智能制造业转型</td>\n",
       "      <td>0.320457</td>\n",
       "      <td>Neutral</td>\n",
       "    </tr>\n",
       "    <tr>\n",
       "      <th>10</th>\n",
       "      <td>桐昆股份股价创逾27个月新低</td>\n",
       "      <td>-0.081413</td>\n",
       "      <td>Negative</td>\n",
       "    </tr>\n",
       "    <tr>\n",
       "      <th>11</th>\n",
       "      <td>国风塑业：融资净买入748.47万元，融资余额2.6亿元（0</td>\n",
       "      <td>0.130394</td>\n",
       "      <td>Neutral</td>\n",
       "    </tr>\n",
       "    <tr>\n",
       "      <th>12</th>\n",
       "      <td>国安达：融资净买入10.8万元，融资余额1.08亿元（06-2</td>\n",
       "      <td>0.147227</td>\n",
       "      <td>Neutral</td>\n",
       "    </tr>\n",
       "    <tr>\n",
       "      <th>13</th>\n",
       "      <td>中兵红箭05月07日获深股通增持167.83万股</td>\n",
       "      <td>0.123382</td>\n",
       "      <td>Neutral</td>\n",
       "    </tr>\n",
       "    <tr>\n",
       "      <th>14</th>\n",
       "      <td>商络电子日内换手率33.43% 东方财富证券拉萨东环路第</td>\n",
       "      <td>0.004853</td>\n",
       "      <td>Neutral</td>\n",
       "    </tr>\n",
       "    <tr>\n",
       "      <th>15</th>\n",
       "      <td>华大基因：前三季净利3.12亿 同比增逾两成</td>\n",
       "      <td>0.132770</td>\n",
       "      <td>Positive</td>\n",
       "    </tr>\n",
       "    <tr>\n",
       "      <th>16</th>\n",
       "      <td>华特气体07月03日沪股通持有量36.95万股</td>\n",
       "      <td>-0.098363</td>\n",
       "      <td>Neutral</td>\n",
       "    </tr>\n",
       "    <tr>\n",
       "      <th>17</th>\n",
       "      <td>达华智能预计大后晚（周日晚）披露三季报</td>\n",
       "      <td>-0.063421</td>\n",
       "      <td>Neutral</td>\n",
       "    </tr>\n",
       "    <tr>\n",
       "      <th>18</th>\n",
       "      <td>卫信康：向16名核心骨干人员授予157万股预留限制性股</td>\n",
       "      <td>-0.039554</td>\n",
       "      <td>Neutral</td>\n",
       "    </tr>\n",
       "    <tr>\n",
       "      <th>19</th>\n",
       "      <td>思特威封涨停板 机构资金净卖出181万元</td>\n",
       "      <td>0.224340</td>\n",
       "      <td>Neutral</td>\n",
       "    </tr>\n",
       "  </tbody>\n",
       "</table>\n",
       "</div>"
      ],
      "text/plain": [
       "                              title  Original Dict Score  \\\n",
       "0         宝鹰股份(002047)融资融券信息(05-19)             0.146426   \n",
       "1          四川路桥10月19日获沪股通增持198.89万股            -0.040335   \n",
       "2                   四川路桥盘前必读(09-28)             0.016736   \n",
       "3      铂力特本周融资净偿还1368.3万元，居通用设备板块第六             0.004530   \n",
       "4    共进股份：主力资金连续3天净流出累计1701.78万元（01             0.105217   \n",
       "5    高测股份：主力资金连续4天净流出累计2422.75万元（10             0.063107   \n",
       "6          绿地控股08月19日被沪股通减持426.28万股            -0.243129   \n",
       "7          苏垦农发12月22日被沪股通减持234.58万股            -0.196365   \n",
       "8      申联生物本周融资净买入306.56万元，居农药兽药板块第             0.272708   \n",
       "9              新元科技从传统制造商向高端智能制造业转型             0.320457   \n",
       "10                   桐昆股份股价创逾27个月新低            -0.081413   \n",
       "11   国风塑业：融资净买入748.47万元，融资余额2.6亿元（0             0.130394   \n",
       "12  国安达：融资净买入10.8万元，融资余额1.08亿元（06-2             0.147227   \n",
       "13         中兵红箭05月07日获深股通增持167.83万股             0.123382   \n",
       "14     商络电子日内换手率33.43% 东方财富证券拉萨东环路第             0.004853   \n",
       "15           华大基因：前三季净利3.12亿 同比增逾两成             0.132770   \n",
       "16          华特气体07月03日沪股通持有量36.95万股            -0.098363   \n",
       "17              达华智能预计大后晚（周日晚）披露三季报            -0.063421   \n",
       "18      卫信康：向16名核心骨干人员授予157万股预留限制性股            -0.039554   \n",
       "19             思特威封涨停板 机构资金净卖出181万元             0.224340   \n",
       "\n",
       "   New FinBert Categorization  \n",
       "0                     Neutral  \n",
       "1                     Neutral  \n",
       "2                     Neutral  \n",
       "3                     Neutral  \n",
       "4                    Negative  \n",
       "5                    Negative  \n",
       "6                     Neutral  \n",
       "7                     Neutral  \n",
       "8                     Neutral  \n",
       "9                     Neutral  \n",
       "10                   Negative  \n",
       "11                    Neutral  \n",
       "12                    Neutral  \n",
       "13                    Neutral  \n",
       "14                    Neutral  \n",
       "15                   Positive  \n",
       "16                    Neutral  \n",
       "17                    Neutral  \n",
       "18                    Neutral  \n",
       "19                    Neutral  "
      ]
     },
     "execution_count": 171,
     "metadata": {},
     "output_type": "execute_result"
    }
   ],
   "source": [
    "df.head(20)"
   ]
  },
  {
   "cell_type": "code",
   "execution_count": 173,
   "metadata": {},
   "outputs": [
    {
     "name": "stderr",
     "output_type": "stream",
     "text": [
      "c:\\Users\\ZIQING002\\.virtualenvs\\MTL-4YFQ4-cY\\lib\\site-packages\\transformers\\pipelines\\text_classification.py:104: UserWarning: `return_all_scores` is now deprecated,  if want a similar functionality use `top_k=None` instead of `return_all_scores=True` or `top_k=1` instead of `return_all_scores=False`.\n",
      "  warnings.warn(\n",
      "Score sentiment: 100%|██████████| 6603696/6603696 [28:42:31<00:00, 63.90it/s]   \n"
     ]
    }
   ],
   "source": [
    "from transformers import TextClassificationPipeline\n",
    "from transformers import AutoModelForSequenceClassification, TrainingArguments, Trainer\n",
    "from transformers import BertTokenizerFast\n",
    "model_path=\"yiyanghkust/finbert-tone-chinese\"\n",
    "new_model = AutoModelForSequenceClassification.from_pretrained(model_path,output_attentions=True)\n",
    "tokenizer = BertTokenizerFast.from_pretrained(model_path)\n",
    "PipelineInterface = TextClassificationPipeline(model=new_model, tokenizer=tokenizer, return_all_scores=True, device=device)\n",
    "titles, scores, labels = [], [], []\n",
    "for _, row in tqdm(data.iterrows(), total=len(data), desc=\"Score sentiment\"):\n",
    "    titles.append(row['item_title'])\n",
    "    label = PipelineInterface(row['item_title'])\n",
    "    highest_score_label = max(label[0], key=lambda x: x['score'])['label']\n",
    "    scores.append(row['sentiment_score'])\n",
    "    labels.append(highest_score_label)\n",
    "\n",
    "df = pd.DataFrame({\n",
    "    'title': titles,\n",
    "    'sentiment_score': scores,\n",
    "    'sentiment_label': labels\n",
    "})\n",
    "df.to_csv('./sentiment_score.csv', index=False)"
   ]
  },
  {
   "cell_type": "code",
   "execution_count": 175,
   "metadata": {},
   "outputs": [
    {
     "data": {
      "text/plain": [
       "sentiment_label\n",
       "Neutral     5068124\n",
       "Positive    1036911\n",
       "Negative     498661\n",
       "Name: count, dtype: int64"
      ]
     },
     "execution_count": 175,
     "metadata": {},
     "output_type": "execute_result"
    }
   ],
   "source": [
    "df['sentiment_label'].value_counts()"
   ]
  },
  {
   "cell_type": "code",
   "execution_count": 176,
   "metadata": {},
   "outputs": [
    {
     "data": {
      "text/plain": [
       "6603696"
      ]
     },
     "execution_count": 176,
     "metadata": {},
     "output_type": "execute_result"
    }
   ],
   "source": [
    "len(df)"
   ]
  }
 ],
 "metadata": {
  "kernelspec": {
   "display_name": "MTL-4YFQ4-cY",
   "language": "python",
   "name": "python3"
  },
  "language_info": {
   "codemirror_mode": {
    "name": "ipython",
    "version": 3
   },
   "file_extension": ".py",
   "mimetype": "text/x-python",
   "name": "python",
   "nbconvert_exporter": "python",
   "pygments_lexer": "ipython3",
   "version": "3.9.9"
  }
 },
 "nbformat": 4,
 "nbformat_minor": 2
}
