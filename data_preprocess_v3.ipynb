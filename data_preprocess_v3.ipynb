{
 "cells": [
  {
   "cell_type": "markdown",
   "metadata": {},
   "source": [
    "# Merge original data with new sentiment and topic classification"
   ]
  },
  {
   "cell_type": "code",
   "execution_count": 1,
   "metadata": {},
   "outputs": [],
   "source": [
    "import pandas as pd"
   ]
  },
  {
   "cell_type": "code",
   "execution_count": 2,
   "metadata": {},
   "outputs": [
    {
     "name": "stderr",
     "output_type": "stream",
     "text": [
      "C:\\Users\\ZIQING002\\AppData\\Local\\Temp\\ipykernel_26456\\3179780348.py:1: DtypeWarning: Columns (2) have mixed types. Specify dtype option on import or set low_memory=False.\n",
      "  data = pd.read_csv(\"./data/eastmoney_bert.csv\", usecols=['item_title', 'item_author_cate', 'article_author', 'article_source_cate',\n"
     ]
    }
   ],
   "source": [
    "data = pd.read_csv(\"./data/eastmoney_bert.csv\", usecols=['item_title', 'item_author_cate', 'article_author', 'article_source_cate',\n",
    "       'year', 'month',\n",
    "       'eastmoney_robo_journalism', 'media_robo_journalism', 'SMA_robo_journalism', \n",
    "       'stock_code',\n",
    "       'viral'])"
   ]
  },
  {
   "cell_type": "code",
   "execution_count": 3,
   "metadata": {},
   "outputs": [
    {
     "data": {
      "text/plain": [
       "Index(['sentiment_label'], dtype='object')"
      ]
     },
     "execution_count": 3,
     "metadata": {},
     "output_type": "execute_result"
    }
   ],
   "source": [
    "sentiment_data = pd.read_csv(\"./lda/sentiment_score.csv\", usecols=['sentiment_label'])\n",
    "sentiment_data.columns"
   ]
  },
  {
   "cell_type": "code",
   "execution_count": 4,
   "metadata": {},
   "outputs": [],
   "source": [
    "data['sentiment'] = sentiment_data['sentiment_label']"
   ]
  },
  {
   "cell_type": "code",
   "execution_count": 5,
   "metadata": {},
   "outputs": [],
   "source": [
    "topic_data = pd.read_csv(\"./lda/eastmoney_topic.csv\",usecols=['dominant_topic'])"
   ]
  },
  {
   "cell_type": "code",
   "execution_count": 6,
   "metadata": {},
   "outputs": [],
   "source": [
    "data['topic'] = topic_data['dominant_topic']"
   ]
  },
  {
   "cell_type": "code",
   "execution_count": 7,
   "metadata": {},
   "outputs": [
    {
     "data": {
      "text/plain": [
       "Index(['item_title', 'article_author', 'year', 'month',\n",
       "       'eastmoney_robo_journalism', 'media_robo_journalism',\n",
       "       'SMA_robo_journalism', 'viral', 'article_source_cate',\n",
       "       'item_author_cate', 'stock_code', 'sentiment', 'topic'],\n",
       "      dtype='object')"
      ]
     },
     "execution_count": 7,
     "metadata": {},
     "output_type": "execute_result"
    }
   ],
   "source": [
    "data.columns"
   ]
  },
  {
   "cell_type": "code",
   "execution_count": 8,
   "metadata": {},
   "outputs": [],
   "source": [
    "data['year'] = data['year'].astype(int)\n",
    "data['month'] = data['month'].astype(int)\n",
    "data['eastmoney_robo_journalism'] = data['eastmoney_robo_journalism'].astype(int)\n",
    "data['media_robo_journalism'] = data['media_robo_journalism'].astype(int)\n",
    "data['SMA_robo_journalism'] = data['SMA_robo_journalism'].astype(int)\n",
    "data['stock_code'] = data['stock_code'].astype(int)\n",
    "data['topic'] = data['topic'].astype(int)\n",
    "data['sentiment'] = data['sentiment'].map({'Neutral': 1, 'Positive': 2, 'Negative': 0}).astype(int)\n",
    "data['viral'] = data['viral'].astype(int)\n",
    "data['item_author'] = data['item_author_cate'].astype(str)\n",
    "data['article_author'] = data['article_author'].astype(str)\n",
    "data['article_source'] = data['article_source_cate'].astype(str)\n",
    "data.loc[data['article_source'].str.len() > 40, 'article_source'] = \"东方财富Choice数据\"\n",
    "data.loc[data['article_source']=='东方财富Choice数据■', 'article_source'] = \"东方财富Choice数据\""
   ]
  },
  {
   "cell_type": "code",
   "execution_count": 39,
   "metadata": {},
   "outputs": [
    {
     "data": {
      "text/html": [
       "<div>\n",
       "<style scoped>\n",
       "    .dataframe tbody tr th:only-of-type {\n",
       "        vertical-align: middle;\n",
       "    }\n",
       "\n",
       "    .dataframe tbody tr th {\n",
       "        vertical-align: top;\n",
       "    }\n",
       "\n",
       "    .dataframe thead th {\n",
       "        text-align: right;\n",
       "    }\n",
       "</style>\n",
       "<table border=\"1\" class=\"dataframe\">\n",
       "  <thead>\n",
       "    <tr style=\"text-align: right;\">\n",
       "      <th></th>\n",
       "      <th>item_title</th>\n",
       "      <th>item_author_cate</th>\n",
       "      <th>article_author</th>\n",
       "      <th>article_source_cate</th>\n",
       "      <th>year</th>\n",
       "      <th>month</th>\n",
       "      <th>eastmoney_robo_journalism</th>\n",
       "      <th>media_robo_journalism</th>\n",
       "      <th>SMA_robo_journalism</th>\n",
       "      <th>stock_code</th>\n",
       "      <th>viral</th>\n",
       "      <th>sentiment</th>\n",
       "      <th>topic</th>\n",
       "    </tr>\n",
       "  </thead>\n",
       "  <tbody>\n",
       "    <tr>\n",
       "      <th>count</th>\n",
       "      <td>6603696</td>\n",
       "      <td>6603696</td>\n",
       "      <td>6603696</td>\n",
       "      <td>6603696</td>\n",
       "      <td>6.603696e+06</td>\n",
       "      <td>6.603696e+06</td>\n",
       "      <td>6.603696e+06</td>\n",
       "      <td>6.603696e+06</td>\n",
       "      <td>6.603696e+06</td>\n",
       "      <td>6.603696e+06</td>\n",
       "      <td>6.603696e+06</td>\n",
       "      <td>6.603696e+06</td>\n",
       "      <td>6.603696e+06</td>\n",
       "    </tr>\n",
       "    <tr>\n",
       "      <th>unique</th>\n",
       "      <td>6405069</td>\n",
       "      <td>5158</td>\n",
       "      <td>5800</td>\n",
       "      <td>219</td>\n",
       "      <td>NaN</td>\n",
       "      <td>NaN</td>\n",
       "      <td>NaN</td>\n",
       "      <td>NaN</td>\n",
       "      <td>NaN</td>\n",
       "      <td>NaN</td>\n",
       "      <td>NaN</td>\n",
       "      <td>NaN</td>\n",
       "      <td>NaN</td>\n",
       "    </tr>\n",
       "    <tr>\n",
       "      <th>top</th>\n",
       "      <td>百联股份今日热门盘点</td>\n",
       "      <td>股市胖虎</td>\n",
       "      <td>财智星</td>\n",
       "      <td>东方财富</td>\n",
       "      <td>NaN</td>\n",
       "      <td>NaN</td>\n",
       "      <td>NaN</td>\n",
       "      <td>NaN</td>\n",
       "      <td>NaN</td>\n",
       "      <td>NaN</td>\n",
       "      <td>NaN</td>\n",
       "      <td>NaN</td>\n",
       "      <td>NaN</td>\n",
       "    </tr>\n",
       "    <tr>\n",
       "      <th>freq</th>\n",
       "      <td>116</td>\n",
       "      <td>426876</td>\n",
       "      <td>3039821</td>\n",
       "      <td>4181680</td>\n",
       "      <td>NaN</td>\n",
       "      <td>NaN</td>\n",
       "      <td>NaN</td>\n",
       "      <td>NaN</td>\n",
       "      <td>NaN</td>\n",
       "      <td>NaN</td>\n",
       "      <td>NaN</td>\n",
       "      <td>NaN</td>\n",
       "      <td>NaN</td>\n",
       "    </tr>\n",
       "    <tr>\n",
       "      <th>mean</th>\n",
       "      <td>NaN</td>\n",
       "      <td>NaN</td>\n",
       "      <td>NaN</td>\n",
       "      <td>NaN</td>\n",
       "      <td>2.021472e+03</td>\n",
       "      <td>6.593989e+00</td>\n",
       "      <td>5.504324e-01</td>\n",
       "      <td>1.353547e-01</td>\n",
       "      <td>2.612287e-01</td>\n",
       "      <td>3.414867e+05</td>\n",
       "      <td>4.778476e-02</td>\n",
       "      <td>1.081507e+00</td>\n",
       "      <td>2.177143e+00</td>\n",
       "    </tr>\n",
       "    <tr>\n",
       "      <th>std</th>\n",
       "      <td>NaN</td>\n",
       "      <td>NaN</td>\n",
       "      <td>NaN</td>\n",
       "      <td>NaN</td>\n",
       "      <td>1.164505e+00</td>\n",
       "      <td>3.552674e+00</td>\n",
       "      <td>4.974501e-01</td>\n",
       "      <td>3.421020e-01</td>\n",
       "      <td>4.393043e-01</td>\n",
       "      <td>2.724346e+05</td>\n",
       "      <td>2.133105e-01</td>\n",
       "      <td>4.752776e-01</td>\n",
       "      <td>1.072451e+00</td>\n",
       "    </tr>\n",
       "    <tr>\n",
       "      <th>min</th>\n",
       "      <td>NaN</td>\n",
       "      <td>NaN</td>\n",
       "      <td>NaN</td>\n",
       "      <td>NaN</td>\n",
       "      <td>2.017000e+03</td>\n",
       "      <td>1.000000e+00</td>\n",
       "      <td>0.000000e+00</td>\n",
       "      <td>0.000000e+00</td>\n",
       "      <td>0.000000e+00</td>\n",
       "      <td>1.000000e+00</td>\n",
       "      <td>0.000000e+00</td>\n",
       "      <td>0.000000e+00</td>\n",
       "      <td>0.000000e+00</td>\n",
       "    </tr>\n",
       "    <tr>\n",
       "      <th>25%</th>\n",
       "      <td>NaN</td>\n",
       "      <td>NaN</td>\n",
       "      <td>NaN</td>\n",
       "      <td>NaN</td>\n",
       "      <td>2.021000e+03</td>\n",
       "      <td>4.000000e+00</td>\n",
       "      <td>0.000000e+00</td>\n",
       "      <td>0.000000e+00</td>\n",
       "      <td>0.000000e+00</td>\n",
       "      <td>2.522000e+03</td>\n",
       "      <td>0.000000e+00</td>\n",
       "      <td>1.000000e+00</td>\n",
       "      <td>2.000000e+00</td>\n",
       "    </tr>\n",
       "    <tr>\n",
       "      <th>50%</th>\n",
       "      <td>NaN</td>\n",
       "      <td>NaN</td>\n",
       "      <td>NaN</td>\n",
       "      <td>NaN</td>\n",
       "      <td>2.022000e+03</td>\n",
       "      <td>7.000000e+00</td>\n",
       "      <td>1.000000e+00</td>\n",
       "      <td>0.000000e+00</td>\n",
       "      <td>0.000000e+00</td>\n",
       "      <td>3.008900e+05</td>\n",
       "      <td>0.000000e+00</td>\n",
       "      <td>1.000000e+00</td>\n",
       "      <td>2.000000e+00</td>\n",
       "    </tr>\n",
       "    <tr>\n",
       "      <th>75%</th>\n",
       "      <td>NaN</td>\n",
       "      <td>NaN</td>\n",
       "      <td>NaN</td>\n",
       "      <td>NaN</td>\n",
       "      <td>2.022000e+03</td>\n",
       "      <td>1.000000e+01</td>\n",
       "      <td>1.000000e+00</td>\n",
       "      <td>0.000000e+00</td>\n",
       "      <td>1.000000e+00</td>\n",
       "      <td>6.010000e+05</td>\n",
       "      <td>0.000000e+00</td>\n",
       "      <td>1.000000e+00</td>\n",
       "      <td>3.000000e+00</td>\n",
       "    </tr>\n",
       "    <tr>\n",
       "      <th>max</th>\n",
       "      <td>NaN</td>\n",
       "      <td>NaN</td>\n",
       "      <td>NaN</td>\n",
       "      <td>NaN</td>\n",
       "      <td>2.023000e+03</td>\n",
       "      <td>1.200000e+01</td>\n",
       "      <td>1.000000e+00</td>\n",
       "      <td>1.000000e+00</td>\n",
       "      <td>1.000000e+00</td>\n",
       "      <td>6.889810e+05</td>\n",
       "      <td>1.000000e+00</td>\n",
       "      <td>2.000000e+00</td>\n",
       "      <td>4.000000e+00</td>\n",
       "    </tr>\n",
       "  </tbody>\n",
       "</table>\n",
       "</div>"
      ],
      "text/plain": [
       "        item_title item_author_cate article_author article_source_cate  \\\n",
       "count      6603696          6603696        6603696             6603696   \n",
       "unique     6405069             5158           5800                 219   \n",
       "top     百联股份今日热门盘点             股市胖虎            财智星                东方财富   \n",
       "freq           116           426876        3039821             4181680   \n",
       "mean           NaN              NaN            NaN                 NaN   \n",
       "std            NaN              NaN            NaN                 NaN   \n",
       "min            NaN              NaN            NaN                 NaN   \n",
       "25%            NaN              NaN            NaN                 NaN   \n",
       "50%            NaN              NaN            NaN                 NaN   \n",
       "75%            NaN              NaN            NaN                 NaN   \n",
       "max            NaN              NaN            NaN                 NaN   \n",
       "\n",
       "                year         month  eastmoney_robo_journalism  \\\n",
       "count   6.603696e+06  6.603696e+06               6.603696e+06   \n",
       "unique           NaN           NaN                        NaN   \n",
       "top              NaN           NaN                        NaN   \n",
       "freq             NaN           NaN                        NaN   \n",
       "mean    2.021472e+03  6.593989e+00               5.504324e-01   \n",
       "std     1.164505e+00  3.552674e+00               4.974501e-01   \n",
       "min     2.017000e+03  1.000000e+00               0.000000e+00   \n",
       "25%     2.021000e+03  4.000000e+00               0.000000e+00   \n",
       "50%     2.022000e+03  7.000000e+00               1.000000e+00   \n",
       "75%     2.022000e+03  1.000000e+01               1.000000e+00   \n",
       "max     2.023000e+03  1.200000e+01               1.000000e+00   \n",
       "\n",
       "        media_robo_journalism  SMA_robo_journalism    stock_code  \\\n",
       "count            6.603696e+06         6.603696e+06  6.603696e+06   \n",
       "unique                    NaN                  NaN           NaN   \n",
       "top                       NaN                  NaN           NaN   \n",
       "freq                      NaN                  NaN           NaN   \n",
       "mean             1.353547e-01         2.612287e-01  3.414867e+05   \n",
       "std              3.421020e-01         4.393043e-01  2.724346e+05   \n",
       "min              0.000000e+00         0.000000e+00  1.000000e+00   \n",
       "25%              0.000000e+00         0.000000e+00  2.522000e+03   \n",
       "50%              0.000000e+00         0.000000e+00  3.008900e+05   \n",
       "75%              0.000000e+00         1.000000e+00  6.010000e+05   \n",
       "max              1.000000e+00         1.000000e+00  6.889810e+05   \n",
       "\n",
       "               viral     sentiment         topic  \n",
       "count   6.603696e+06  6.603696e+06  6.603696e+06  \n",
       "unique           NaN           NaN           NaN  \n",
       "top              NaN           NaN           NaN  \n",
       "freq             NaN           NaN           NaN  \n",
       "mean    4.778476e-02  1.081507e+00  2.177143e+00  \n",
       "std     2.133105e-01  4.752776e-01  1.072451e+00  \n",
       "min     0.000000e+00  0.000000e+00  0.000000e+00  \n",
       "25%     0.000000e+00  1.000000e+00  2.000000e+00  \n",
       "50%     0.000000e+00  1.000000e+00  2.000000e+00  \n",
       "75%     0.000000e+00  1.000000e+00  3.000000e+00  \n",
       "max     1.000000e+00  2.000000e+00  4.000000e+00  "
      ]
     },
     "execution_count": 39,
     "metadata": {},
     "output_type": "execute_result"
    }
   ],
   "source": [
    "data.describe(include='all')"
   ]
  },
  {
   "cell_type": "markdown",
   "metadata": {},
   "source": [
    "index categorical features"
   ]
  },
  {
   "cell_type": "code",
   "execution_count": 9,
   "metadata": {},
   "outputs": [],
   "source": [
    "data['item_author_index'], uniques = pd.factorize(data['item_author'])"
   ]
  },
  {
   "cell_type": "code",
   "execution_count": 10,
   "metadata": {},
   "outputs": [],
   "source": [
    "data['article_author_index'], uniques = pd.factorize(data['article_author'])"
   ]
  },
  {
   "cell_type": "code",
   "execution_count": 11,
   "metadata": {},
   "outputs": [],
   "source": [
    "data['article_source_index'], uniques = pd.factorize(data['article_source'])"
   ]
  },
  {
   "cell_type": "code",
   "execution_count": 12,
   "metadata": {},
   "outputs": [],
   "source": [
    "data['stock_code_index'], uniques = pd.factorize(data['stock_code'])"
   ]
  },
  {
   "cell_type": "code",
   "execution_count": 13,
   "metadata": {},
   "outputs": [],
   "source": [
    "data.to_csv('./data/eastmoney_full.csv', index=False)"
   ]
  },
  {
   "cell_type": "markdown",
   "metadata": {},
   "source": [
    "## Rank author info based on past month's stats"
   ]
  },
  {
   "cell_type": "code",
   "execution_count": 39,
   "metadata": {},
   "outputs": [
    {
     "name": "stderr",
     "output_type": "stream",
     "text": [
      "C:\\Users\\ZIQING002\\AppData\\Local\\Temp\\ipykernel_26456\\2751206451.py:2: DtypeWarning: Columns (1) have mixed types. Specify dtype option on import or set low_memory=False.\n",
      "  data = pd.read_csv('./data/eastmoney_full.csv')\n"
     ]
    }
   ],
   "source": [
    "import pandas as pd\n",
    "data = pd.read_csv('./data/eastmoney_full.csv')"
   ]
  },
  {
   "cell_type": "code",
   "execution_count": 40,
   "metadata": {},
   "outputs": [
    {
     "data": {
      "text/plain": [
       "Index(['item_title', 'article_author', 'year', 'month',\n",
       "       'eastmoney_robo_journalism', 'media_robo_journalism',\n",
       "       'SMA_robo_journalism', 'viral', 'article_source_cate',\n",
       "       'item_author_cate', 'stock_code', 'sentiment', 'topic', 'item_author',\n",
       "       'article_source', 'item_author_index', 'article_author_index',\n",
       "       'article_source_index', 'stock_code_index'],\n",
       "      dtype='object')"
      ]
     },
     "execution_count": 40,
     "metadata": {},
     "output_type": "execute_result"
    }
   ],
   "source": [
    "data.columns"
   ]
  },
  {
   "cell_type": "code",
   "execution_count": 41,
   "metadata": {},
   "outputs": [],
   "source": [
    "# Create a 'year_month' column for easier handling\n",
    "data['year_month'] = pd.to_datetime(data['year'].astype(str) + '-' + data['month'].astype(str) + '-01')"
   ]
  },
  {
   "cell_type": "code",
   "execution_count": 42,
   "metadata": {},
   "outputs": [],
   "source": [
    "def rank_by_prev_month(data, col):\n",
    "    # Group by 'year', 'month', and col to be ranked to count the number of posts by each author in each month\n",
    "    monthly_count = data.groupby(['year', 'month', col]).size().reset_index(name='post_count')\n",
    "\n",
    "    # Create a shifted version of 'author_monthly_posts' to simulate the \"previous month\"\n",
    "    monthly_count['year_month'] = pd.to_datetime(monthly_count['year'].astype(str) + '-' + monthly_count['month'].astype(str) + '-01')\n",
    "    monthly_count['previous_year_month'] = monthly_count['year_month'] - pd.DateOffset(months=1)\n",
    "\n",
    "    # Split 'previous_year_month' into year and month to prepare for the merge\n",
    "    monthly_count['previous_year'] = monthly_count['previous_year_month'].dt.year\n",
    "    monthly_count['previous_month'] = monthly_count['previous_year_month'].dt.month\n",
    "\n",
    "    # Split 'previous_year_month' into year and month to prepare for the merge\n",
    "    monthly_count['previous_year'] = monthly_count['previous_year_month'].dt.year\n",
    "    monthly_count['previous_month'] = monthly_count['previous_year_month'].dt.month\n",
    "\n",
    "    # Rank authors by their post count within the previous month\n",
    "    monthly_count[f\"{col}_rank\"] = monthly_count.groupby(['previous_year', 'previous_month'])['post_count'].rank(ascending=False, method='dense')\n",
    "\n",
    "    # Merge the rank information back into the original data by matching on 'year', 'month', and 'item_author_index'\n",
    "    data_with_rank = pd.merge(data, \n",
    "                            monthly_count[[col, 'year', 'month', f\"{col}_rank\"]], \n",
    "                            how='left', \n",
    "                            left_on=[col, 'year', 'month'], \n",
    "                            right_on=[col, 'year', 'month'])\n",
    "\n",
    "    # Display the updated data with the author rank in the previous month\n",
    "    print(data_with_rank[['year', 'month', col, f\"{col}_rank\"]])\n",
    "\n",
    "    return data_with_rank"
   ]
  },
  {
   "cell_type": "code",
   "execution_count": 43,
   "metadata": {},
   "outputs": [],
   "source": [
    "def reduce_dim_by_rank(df, col, max_rank=10):\n",
    "    # Create a mask for ranks that are greater than max_rank\n",
    "    rank_mask = df[f\"{col}_rank\"] > max_rank\n",
    "\n",
    "    # Set ranks exceeding max_rank to max_rank + 1\n",
    "    df.loc[rank_mask, f\"{col}_rank\"] = max_rank + 1\n",
    "    \n",
    "    # Set corresponding column values (e.g., 'item' or 'author') to max_index + 1\n",
    "    # df.loc[rank_mask, col] = max_index + 1\n",
    "\n",
    "    return df"
   ]
  },
  {
   "cell_type": "code",
   "execution_count": 44,
   "metadata": {},
   "outputs": [
    {
     "name": "stdout",
     "output_type": "stream",
     "text": [
      "         year  month  item_author_index  item_author_index_rank\n",
      "0        2020      5                  0                     3.0\n",
      "1        2020      8                  1                     2.0\n",
      "2        2020      9                  2                     1.0\n",
      "3        2020      9                  2                     1.0\n",
      "4        2020      9                  2                     1.0\n",
      "...       ...    ...                ...                     ...\n",
      "6603691  2023      8               5111                    55.0\n",
      "6603692  2023      8               5111                    55.0\n",
      "6603693  2023      8               5111                    55.0\n",
      "6603694  2023      8               5111                    55.0\n",
      "6603695  2023      8               5111                    55.0\n",
      "\n",
      "[6603696 rows x 4 columns]\n"
     ]
    }
   ],
   "source": [
    "data = rank_by_prev_month(data, 'item_author_index')"
   ]
  },
  {
   "cell_type": "code",
   "execution_count": 47,
   "metadata": {},
   "outputs": [
    {
     "name": "stdout",
     "output_type": "stream",
     "text": [
      "         year  month  item_author_index  item_author_index_rank\n",
      "0        2020      5                  0                     3.0\n",
      "1        2020      8                  1                     2.0\n",
      "2        2020      9                  2                     1.0\n",
      "3        2020      9                  2                     1.0\n",
      "4        2020      9                  2                     1.0\n",
      "...       ...    ...                ...                     ...\n",
      "6603691  2023      8               5111                    11.0\n",
      "6603692  2023      8               5111                    11.0\n",
      "6603693  2023      8               5111                    11.0\n",
      "6603694  2023      8               5111                    11.0\n",
      "6603695  2023      8               5111                    11.0\n",
      "\n",
      "[6603696 rows x 4 columns]\n"
     ]
    }
   ],
   "source": [
    "# data = data.apply(reduce_dim_by_rank, axis=1, col='item_author_index', max_index=data['item_author_index'].max())\n",
    "data = reduce_dim_by_rank(data, 'item_author_index', max_rank=10)\n",
    "print(data[['year', 'month', 'item_author_index', \"item_author_index_rank\"]])"
   ]
  },
  {
   "cell_type": "code",
   "execution_count": 48,
   "metadata": {},
   "outputs": [
    {
     "name": "stdout",
     "output_type": "stream",
     "text": [
      "         year  month  article_author_index  article_author_index_rank\n",
      "0        2020      5                     0                        1.0\n",
      "1        2020      8                     0                        1.0\n",
      "2        2020      9                     0                        1.0\n",
      "3        2020      9                     0                        1.0\n",
      "4        2020      9                     0                        1.0\n",
      "...       ...    ...                   ...                        ...\n",
      "6603691  2023      8                     0                        2.0\n",
      "6603692  2023      8                     0                        2.0\n",
      "6603693  2023      8                   452                       48.0\n",
      "6603694  2023      8                     0                        2.0\n",
      "6603695  2023      8                     0                        2.0\n",
      "\n",
      "[6603696 rows x 4 columns]\n"
     ]
    }
   ],
   "source": [
    "data = rank_by_prev_month(data, 'article_author_index')"
   ]
  },
  {
   "cell_type": "code",
   "execution_count": 49,
   "metadata": {},
   "outputs": [
    {
     "name": "stdout",
     "output_type": "stream",
     "text": [
      "         year  month  article_author_index  article_author_index_rank\n",
      "0        2020      5                     0                        1.0\n",
      "1        2020      8                     0                        1.0\n",
      "2        2020      9                     0                        1.0\n",
      "3        2020      9                     0                        1.0\n",
      "4        2020      9                     0                        1.0\n",
      "...       ...    ...                   ...                        ...\n",
      "6603691  2023      8                     0                        2.0\n",
      "6603692  2023      8                     0                        2.0\n",
      "6603693  2023      8                   452                       11.0\n",
      "6603694  2023      8                     0                        2.0\n",
      "6603695  2023      8                     0                        2.0\n",
      "\n",
      "[6603696 rows x 4 columns]\n"
     ]
    }
   ],
   "source": [
    "data = reduce_dim_by_rank(data, 'article_author_index', max_rank=10)\n",
    "print(data[['year', 'month', 'article_author_index', \"article_author_index_rank\"]])"
   ]
  },
  {
   "cell_type": "code",
   "execution_count": 50,
   "metadata": {},
   "outputs": [
    {
     "name": "stdout",
     "output_type": "stream",
     "text": [
      "         year  month  article_source_index  article_source_index_rank\n",
      "0        2020      5                     0                        1.0\n",
      "1        2020      8                     0                        1.0\n",
      "2        2020      9                     1                        1.0\n",
      "3        2020      9                     1                        1.0\n",
      "4        2020      9                     1                        1.0\n",
      "...       ...    ...                   ...                        ...\n",
      "6603691  2023      8                    30                       14.0\n",
      "6603692  2023      8                    57                       20.0\n",
      "6603693  2023      8                     6                       15.0\n",
      "6603694  2023      8                    21                       21.0\n",
      "6603695  2023      8                    15                        8.0\n",
      "\n",
      "[6603696 rows x 4 columns]\n"
     ]
    }
   ],
   "source": [
    "data = rank_by_prev_month(data, 'article_source_index')"
   ]
  },
  {
   "cell_type": "code",
   "execution_count": 51,
   "metadata": {},
   "outputs": [
    {
     "name": "stdout",
     "output_type": "stream",
     "text": [
      "         year  month  article_source_index  article_source_index_rank\n",
      "0        2020      5                     0                        1.0\n",
      "1        2020      8                     0                        1.0\n",
      "2        2020      9                     1                        1.0\n",
      "3        2020      9                     1                        1.0\n",
      "4        2020      9                     1                        1.0\n",
      "...       ...    ...                   ...                        ...\n",
      "6603691  2023      8                    30                       11.0\n",
      "6603692  2023      8                    57                       11.0\n",
      "6603693  2023      8                     6                       11.0\n",
      "6603694  2023      8                    21                       11.0\n",
      "6603695  2023      8                    15                        8.0\n",
      "\n",
      "[6603696 rows x 4 columns]\n"
     ]
    }
   ],
   "source": [
    "data = reduce_dim_by_rank(data, 'article_source_index', max_rank=10)\n",
    "print(data[['year', 'month', 'article_source_index', \"article_source_index_rank\"]])"
   ]
  },
  {
   "cell_type": "code",
   "execution_count": 52,
   "metadata": {},
   "outputs": [],
   "source": [
    "data = data[['item_title', 'item_author', 'article_author',\n",
    "       'article_source', 'year', 'month', 'eastmoney_robo_journalism',\n",
    "       'media_robo_journalism', 'SMA_robo_journalism', 'stock_code', 'viral',\n",
    "       'sentiment', 'topic', 'item_author_index', 'article_author_index',\n",
    "       'article_source_index', 'stock_code_index', 'year_month',\n",
    "       'item_author_index_rank', 'article_author_index_rank', 'article_source_index_rank']]"
   ]
  },
  {
   "cell_type": "code",
   "execution_count": 53,
   "metadata": {},
   "outputs": [],
   "source": [
    "data.to_csv('./data/eastmoney_full_ranked.csv', index=False)"
   ]
  },
  {
   "cell_type": "markdown",
   "metadata": {},
   "source": [
    "# Sample negative BPR samples"
   ]
  },
  {
   "cell_type": "markdown",
   "metadata": {},
   "source": [
    "Split the data choronologically"
   ]
  },
  {
   "cell_type": "code",
   "execution_count": 121,
   "metadata": {},
   "outputs": [
    {
     "name": "stderr",
     "output_type": "stream",
     "text": [
      "C:\\Users\\ZIQING002\\AppData\\Local\\Temp\\ipykernel_26456\\3758115442.py:2: DtypeWarning: Columns (2) have mixed types. Specify dtype option on import or set low_memory=False.\n",
      "  data = pd.read_csv('./data/eastmoney_full_ranked.csv', usecols=['item_title', 'item_author', 'article_author',\n"
     ]
    }
   ],
   "source": [
    "import pandas as pd\n",
    "data = pd.read_csv('./data/eastmoney_full_ranked.csv', usecols=['item_title', 'item_author', 'article_author',\n",
    "       'article_source', 'year', 'month', 'eastmoney_robo_journalism',\n",
    "       'media_robo_journalism', 'SMA_robo_journalism', 'stock_code', 'viral',\n",
    "       'sentiment', 'topic', 'item_author_index', 'article_author_index',\n",
    "       'article_source_index', 'stock_code_index', 'year_month',\n",
    "       'item_author_index_rank', 'article_author_index_rank', 'article_source_index_rank'])"
   ]
  },
  {
   "cell_type": "markdown",
   "metadata": {},
   "source": [
    "First round:\n",
    "- Train 2017-01-01, 2021.12.13 --> train_bpr1.csv\n",
    "- Valid 2022-01-01, 2022-06-30 --> valid_bpr.csv\n",
    "- Test  2022-07-01, 2022-09-30 --> test1.csv\n",
    "\n",
    "Second round: \n",
    "- Train 2022-07-01, 2022-09-30 --> train_bpr2.csv (test1)\n",
    "- Test  2022-10-01, 2022-12-31 --> test2.csv\n",
    "\n",
    "Third round:\n",
    "- Train 2022-10-01, 2022-12-31 --> train_bpr3.csv (test2)\n",
    "- Test  2023-01-01, 2022-03-31 --> test3.csv\n",
    "\n",
    "Fourth round:\n",
    "- Train 2023-01-01, 2022-03-31 --> train_bpr4.csv\n",
    "- Test  2023-04-01, 2023-08-31 --> test4.csv"
   ]
  },
  {
   "cell_type": "code",
   "execution_count": 122,
   "metadata": {},
   "outputs": [],
   "source": [
    "## first round \n",
    "\n",
    "# Define the date ranges for train, valid, and test sets\n",
    "train1_start = '2017-01-01'\n",
    "train1_end = '2021-12-31'\n",
    "valid1_start = '2022-01-01'\n",
    "valid1_end = '2022-06-30'\n",
    "test1_start = '2022-07-01'\n",
    "test1_end = '2022-09-30'\n",
    "\n",
    "test2_start = '2022-10-01'\n",
    "test2_end = '2022-12-31'\n",
    "\n",
    "test3_start = '2023-01-01'\n",
    "test3_end = '2023-03-31'\n",
    "\n",
    "test4_start = '2023-04-01'\n",
    "test4_end = '2023-08-31'\n",
    "\n",
    "# Split the data based on the defined ranges\n",
    "train_set = data[(data['year_month'] >= train1_start) & (data['year_month'] <= train1_end)]\n",
    "valid_set = data[(data['year_month'] >= valid1_start) & (data['year_month'] <= valid1_end)]\n",
    "test1_set = data[(data['year_month'] >= test1_start) & (data['year_month'] <= test1_end)]\n",
    "test2_set = data[(data['year_month'] >= test2_start) & (data['year_month'] <= test2_end)]\n",
    "test3_set = data[(data['year_month'] >= test3_start) & (data['year_month'] <= test3_end)]\n",
    "test4_set = data[(data['year_month'] >= test4_start) & (data['year_month'] <= test4_end)]"
   ]
  },
  {
   "cell_type": "code",
   "execution_count": 56,
   "metadata": {},
   "outputs": [
    {
     "data": {
      "text/plain": [
       "(3208461, 1112397, 451944, 423289, 426113, 981492)"
      ]
     },
     "execution_count": 56,
     "metadata": {},
     "output_type": "execute_result"
    }
   ],
   "source": [
    "len(train_set), len(valid_set), len(test1_set), len(test2_set), len(test3_set), len(test4_set)"
   ]
  },
  {
   "cell_type": "code",
   "execution_count": 57,
   "metadata": {},
   "outputs": [
    {
     "data": {
      "text/plain": [
       "(259955, 9436, 4506, 9963, 11906, 19790)"
      ]
     },
     "execution_count": 57,
     "metadata": {},
     "output_type": "execute_result"
    }
   ],
   "source": [
    "len(train_set[train_set['viral']==1]), len(valid_set[valid_set['viral']==1]), len(test1_set[test1_set['viral']==1]), len(test2_set[test2_set['viral']==1]), len(test3_set[test3_set['viral']==1]), len(test4_set[test4_set['viral']==1])"
   ]
  },
  {
   "cell_type": "code",
   "execution_count": 58,
   "metadata": {},
   "outputs": [],
   "source": [
    "train_set.to_csv(\"./data/train1.csv\", index=False)\n",
    "valid_set.to_csv(\"./data/valid1.csv\", index=False)\n",
    "test1_set.to_csv(\"./data/test1.csv\", index=False)\n",
    "test2_set.to_csv(\"./data/test2.csv\", index=False)\n",
    "test3_set.to_csv(\"./data/test3.csv\", index=False)\n",
    "test4_set.to_csv(\"./data/test4.csv\", index=False)"
   ]
  },
  {
   "cell_type": "markdown",
   "metadata": {},
   "source": [
    "sample bpr data"
   ]
  },
  {
   "cell_type": "code",
   "execution_count": 111,
   "metadata": {},
   "outputs": [
    {
     "data": {
      "text/html": [
       "<div>\n",
       "<style scoped>\n",
       "    .dataframe tbody tr th:only-of-type {\n",
       "        vertical-align: middle;\n",
       "    }\n",
       "\n",
       "    .dataframe tbody tr th {\n",
       "        vertical-align: top;\n",
       "    }\n",
       "\n",
       "    .dataframe thead th {\n",
       "        text-align: right;\n",
       "    }\n",
       "</style>\n",
       "<table border=\"1\" class=\"dataframe\">\n",
       "  <thead>\n",
       "    <tr style=\"text-align: right;\">\n",
       "      <th></th>\n",
       "      <th>item_title</th>\n",
       "      <th>item_author</th>\n",
       "      <th>article_author</th>\n",
       "      <th>article_source</th>\n",
       "      <th>year</th>\n",
       "      <th>month</th>\n",
       "      <th>eastmoney_robo_journalism</th>\n",
       "      <th>media_robo_journalism</th>\n",
       "      <th>SMA_robo_journalism</th>\n",
       "      <th>stock_code</th>\n",
       "      <th>viral</th>\n",
       "      <th>sentiment</th>\n",
       "      <th>topic</th>\n",
       "      <th>item_author_index</th>\n",
       "      <th>article_author_index</th>\n",
       "      <th>article_source_index</th>\n",
       "      <th>stock_code_index</th>\n",
       "      <th>year_month</th>\n",
       "      <th>item_author_index_rank</th>\n",
       "      <th>article_author_index_rank</th>\n",
       "      <th>article_source_index_rank</th>\n",
       "    </tr>\n",
       "  </thead>\n",
       "  <tbody>\n",
       "    <tr>\n",
       "      <th>72190</th>\n",
       "      <td>2021年第三季度行业榜单：电力行业</td>\n",
       "      <td>小股友CiaqCQ</td>\n",
       "      <td>0</td>\n",
       "      <td>0</td>\n",
       "      <td>2021</td>\n",
       "      <td>9</td>\n",
       "      <td>0</td>\n",
       "      <td>0</td>\n",
       "      <td>1</td>\n",
       "      <td>690</td>\n",
       "      <td>1</td>\n",
       "      <td>1</td>\n",
       "      <td>2</td>\n",
       "      <td>44</td>\n",
       "      <td>0</td>\n",
       "      <td>0</td>\n",
       "      <td>241</td>\n",
       "      <td>2021-09-01</td>\n",
       "      <td>11.0</td>\n",
       "      <td>2.0</td>\n",
       "      <td>3.0</td>\n",
       "    </tr>\n",
       "    <tr>\n",
       "      <th>113501</th>\n",
       "      <td>2021年第三季度行业榜单：食品加工行业</td>\n",
       "      <td>小股友CiaqCQ</td>\n",
       "      <td>0</td>\n",
       "      <td>0</td>\n",
       "      <td>2021</td>\n",
       "      <td>9</td>\n",
       "      <td>0</td>\n",
       "      <td>0</td>\n",
       "      <td>1</td>\n",
       "      <td>895</td>\n",
       "      <td>1</td>\n",
       "      <td>1</td>\n",
       "      <td>1</td>\n",
       "      <td>44</td>\n",
       "      <td>0</td>\n",
       "      <td>0</td>\n",
       "      <td>376</td>\n",
       "      <td>2021-09-01</td>\n",
       "      <td>11.0</td>\n",
       "      <td>2.0</td>\n",
       "      <td>3.0</td>\n",
       "    </tr>\n",
       "    <tr>\n",
       "      <th>202232</th>\n",
       "      <td>2021年第三季度行业榜单：风电设备行业</td>\n",
       "      <td>小股友CiaqCQ</td>\n",
       "      <td>0</td>\n",
       "      <td>0</td>\n",
       "      <td>2021</td>\n",
       "      <td>9</td>\n",
       "      <td>0</td>\n",
       "      <td>0</td>\n",
       "      <td>1</td>\n",
       "      <td>2202</td>\n",
       "      <td>1</td>\n",
       "      <td>1</td>\n",
       "      <td>4</td>\n",
       "      <td>44</td>\n",
       "      <td>0</td>\n",
       "      <td>0</td>\n",
       "      <td>727</td>\n",
       "      <td>2021-09-01</td>\n",
       "      <td>11.0</td>\n",
       "      <td>2.0</td>\n",
       "      <td>3.0</td>\n",
       "    </tr>\n",
       "  </tbody>\n",
       "</table>\n",
       "</div>"
      ],
      "text/plain": [
       "                  item_title item_author article_author article_source  year  \\\n",
       "72190     2021年第三季度行业榜单：电力行业   小股友CiaqCQ              0              0  2021   \n",
       "113501  2021年第三季度行业榜单：食品加工行业   小股友CiaqCQ              0              0  2021   \n",
       "202232  2021年第三季度行业榜单：风电设备行业   小股友CiaqCQ              0              0  2021   \n",
       "\n",
       "        month  eastmoney_robo_journalism  media_robo_journalism  \\\n",
       "72190       9                          0                      0   \n",
       "113501      9                          0                      0   \n",
       "202232      9                          0                      0   \n",
       "\n",
       "        SMA_robo_journalism  stock_code  viral  sentiment  topic  \\\n",
       "72190                     1         690      1          1      2   \n",
       "113501                    1         895      1          1      1   \n",
       "202232                    1        2202      1          1      4   \n",
       "\n",
       "        item_author_index  article_author_index  article_source_index  \\\n",
       "72190                  44                     0                     0   \n",
       "113501                 44                     0                     0   \n",
       "202232                 44                     0                     0   \n",
       "\n",
       "        stock_code_index  year_month  item_author_index_rank  \\\n",
       "72190                241  2021-09-01                    11.0   \n",
       "113501               376  2021-09-01                    11.0   \n",
       "202232               727  2021-09-01                    11.0   \n",
       "\n",
       "        article_author_index_rank  article_source_index_rank  \n",
       "72190                         2.0                        3.0  \n",
       "113501                        2.0                        3.0  \n",
       "202232                        2.0                        3.0  "
      ]
     },
     "execution_count": 111,
     "metadata": {},
     "output_type": "execute_result"
    }
   ],
   "source": [
    "train_set[train_set['item_author']=='小股友CiaqCQ']"
   ]
  },
  {
   "cell_type": "code",
   "execution_count": 61,
   "metadata": {},
   "outputs": [
    {
     "name": "stderr",
     "output_type": "stream",
     "text": [
      "C:\\Users\\ZIQING002\\AppData\\Local\\Temp\\ipykernel_26456\\2589231190.py:1: DtypeWarning: Columns (2) have mixed types. Specify dtype option on import or set low_memory=False.\n",
      "  train_set = pd.read_csv(\"./data/train1.csv\")\n",
      "C:\\Users\\ZIQING002\\AppData\\Local\\Temp\\ipykernel_26456\\2589231190.py:2: DtypeWarning: Columns (2) have mixed types. Specify dtype option on import or set low_memory=False.\n",
      "  valid_set = pd.read_csv(\"./data/valid1.csv\")\n",
      "C:\\Users\\ZIQING002\\AppData\\Local\\Temp\\ipykernel_26456\\2589231190.py:3: DtypeWarning: Columns (2) have mixed types. Specify dtype option on import or set low_memory=False.\n",
      "  test1_set = pd.read_csv(\"./data/test1.csv\")\n",
      "C:\\Users\\ZIQING002\\AppData\\Local\\Temp\\ipykernel_26456\\2589231190.py:4: DtypeWarning: Columns (2) have mixed types. Specify dtype option on import or set low_memory=False.\n",
      "  test2_set = pd.read_csv(\"./data/test2.csv\")\n",
      "C:\\Users\\ZIQING002\\AppData\\Local\\Temp\\ipykernel_26456\\2589231190.py:5: DtypeWarning: Columns (2) have mixed types. Specify dtype option on import or set low_memory=False.\n",
      "  test3_set = pd.read_csv(\"./data/test3.csv\")\n",
      "C:\\Users\\ZIQING002\\AppData\\Local\\Temp\\ipykernel_26456\\2589231190.py:6: DtypeWarning: Columns (2) have mixed types. Specify dtype option on import or set low_memory=False.\n",
      "  test4_set = pd.read_csv(\"./data/test4.csv\")\n"
     ]
    }
   ],
   "source": [
    "train_set = pd.read_csv(\"./data/train1.csv\")\n",
    "valid_set = pd.read_csv(\"./data/valid1.csv\")\n",
    "test1_set = pd.read_csv(\"./data/test1.csv\")\n",
    "test2_set = pd.read_csv(\"./data/test2.csv\")\n",
    "test3_set = pd.read_csv(\"./data/test3.csv\")\n",
    "test4_set = pd.read_csv(\"./data/test4.csv\")"
   ]
  },
  {
   "cell_type": "code",
   "execution_count": 151,
   "metadata": {},
   "outputs": [],
   "source": [
    "from tqdm import tqdm\n",
    "def sample_bpr(data, aux_data=[]):\n",
    "\n",
    "    #combine data\n",
    "    ref_data = pd.concat([data] + aux_data, axis=0, ignore_index=True)\n",
    "\n",
    "    # Separate positive and negative samples\n",
    "    positive_samples = data[data['viral'] == 1]\n",
    "    negative_samples = ref_data[ref_data['viral'] == 0]\n",
    "\n",
    "    # Create dictionaries to group negative samples by criteria for faster lookup\n",
    "    negatives_by_criteria1 = negative_samples.groupby(['item_author', 'article_author', 'article_source'])\n",
    "    negatives_by_criteria21 = negative_samples.groupby('article_source')\n",
    "    negatives_by_criteria22 = negative_samples.groupby('stock_code')\n",
    "\n",
    "    # List to hold the result rows\n",
    "    sampled_negatives = []\n",
    "\n",
    "    # Loop over each positive sample\n",
    "    for _, positive_row in tqdm(positive_samples.iterrows(), total=len(positive_samples)):\n",
    "        # Try to get negative samples by Criteria 1\n",
    "        key1 = (positive_row['item_author'], positive_row['article_author'], positive_row['article_source'])\n",
    "        matching_negatives_criteria1 = negatives_by_criteria1.get_group(key1) if key1 in negatives_by_criteria1.groups else pd.DataFrame()\n",
    "\n",
    "        # If Criteria 1 matches fewer than 3 rows, add Criteria 2 matches\n",
    "        if len(matching_negatives_criteria1) < 3:\n",
    "            key2 = positive_row['article_source']\n",
    "            matching_negatives_criteria21 = negatives_by_criteria21.get_group(key2) if key2 in negatives_by_criteria21.groups else pd.DataFrame()\n",
    "            matching_negatives_criteria21 = matching_negatives_criteria21.sample(n=3, replace=False) if len(matching_negatives_criteria21) >= 3 else matching_negatives_criteria21\n",
    "            key3 = positive_row['stock_code']\n",
    "            matching_negatives_criteria22 = negatives_by_criteria22.get_group(key3) if key3 in negatives_by_criteria22.groups else pd.DataFrame()\n",
    "            matching_negatives_criteria22 = matching_negatives_criteria22.sample(n=3, replace=False) if len(matching_negatives_criteria22) >= 3 else matching_negatives_criteria22\n",
    "            combined_matches = pd.concat([matching_negatives_criteria1, matching_negatives_criteria21, matching_negatives_criteria22]).drop_duplicates()\n",
    "            sampled = combined_matches.sample(n=3, replace=False) if len(combined_matches) >= 3 else combined_matches\n",
    "        else:\n",
    "            # Criteria 1 provides enough matches\n",
    "            sampled = matching_negatives_criteria1.sample(n=3, replace=False)\n",
    "        \n",
    "        if len(sampled)<3:\n",
    "            print(key1, key2, key3)\n",
    "            print(negatives_by_criteria22.groups.keys())\n",
    "            return key3, negatives_by_criteria22\n",
    "        \n",
    "        # Prefix columns and append each pair to result list\n",
    "        for _, negative_row in sampled.iterrows():\n",
    "            combined_row = pd.concat([positive_row, negative_row.add_prefix('neg_')])\n",
    "            sampled_negatives.append(combined_row)\n",
    "\n",
    "    # Concatenate all combined rows into a final DataFrame\n",
    "    final_sampled_negatives = pd.DataFrame(sampled_negatives).reset_index(drop=True)\n",
    "\n",
    "    return final_sampled_negatives"
   ]
  },
  {
   "cell_type": "code",
   "execution_count": 152,
   "metadata": {},
   "outputs": [
    {
     "name": "stderr",
     "output_type": "stream",
     "text": [
      "100%|██████████| 259955/259955 [21:51<00:00, 198.18it/s] \n"
     ]
    }
   ],
   "source": [
    "# round1\n",
    "train_bpr1 = sample_bpr(train_set)"
   ]
  },
  {
   "cell_type": "code",
   "execution_count": 154,
   "metadata": {},
   "outputs": [
    {
     "name": "stdout",
     "output_type": "stream",
     "text": [
      "3208461 259955 779865\n"
     ]
    }
   ],
   "source": [
    "train_bpr1.to_csv('./data/train_bpr1.csv', index=False)\n",
    "print(len(train_set), len(train_set[train_set['viral']==1]), len(train_bpr1))"
   ]
  },
  {
   "cell_type": "code",
   "execution_count": 155,
   "metadata": {},
   "outputs": [
    {
     "name": "stderr",
     "output_type": "stream",
     "text": [
      "100%|██████████| 9436/9436 [00:35<00:00, 265.93it/s]\n"
     ]
    },
    {
     "name": "stdout",
     "output_type": "stream",
     "text": [
      "1112397 9436 28308\n"
     ]
    }
   ],
   "source": [
    "valid_bpr = sample_bpr(valid_set, [train_set])\n",
    "valid_bpr.to_csv('./data/valid_bpr.csv', index=False)\n",
    "print(len(valid_set), len(valid_set[valid_set['viral']==1]), len(valid_bpr))"
   ]
  },
  {
   "cell_type": "code",
   "execution_count": 156,
   "metadata": {},
   "outputs": [
    {
     "name": "stderr",
     "output_type": "stream",
     "text": [
      "100%|██████████| 4506/4506 [00:28<00:00, 156.26it/s]\n"
     ]
    },
    {
     "name": "stdout",
     "output_type": "stream",
     "text": [
      "451944 4506 13518\n"
     ]
    }
   ],
   "source": [
    "# round2\n",
    "train_bpr2 = sample_bpr(test1_set, [train_set, valid_set])\n",
    "train_bpr2.to_csv('./data/train_bpr2.csv', index=False)\n",
    "print(len(test1_set), len(test1_set[test1_set['viral']==1]), len(train_bpr2))"
   ]
  },
  {
   "cell_type": "code",
   "execution_count": 157,
   "metadata": {},
   "outputs": [
    {
     "name": "stderr",
     "output_type": "stream",
     "text": [
      "100%|██████████| 9963/9963 [00:48<00:00, 204.44it/s]\n"
     ]
    },
    {
     "name": "stdout",
     "output_type": "stream",
     "text": [
      "423289 9963 29889\n"
     ]
    }
   ],
   "source": [
    "# round3\n",
    "train_bpr3 = sample_bpr(test2_set, [train_set, valid_set, test1_set])\n",
    "train_bpr3.to_csv('./data/train_bpr3.csv', index=False)\n",
    "print(len(test2_set), len(test2_set[test2_set['viral']==1]), len(train_bpr3))"
   ]
  },
  {
   "cell_type": "code",
   "execution_count": 158,
   "metadata": {},
   "outputs": [
    {
     "name": "stderr",
     "output_type": "stream",
     "text": [
      "100%|██████████| 11906/11906 [01:13<00:00, 161.78it/s]\n"
     ]
    },
    {
     "name": "stdout",
     "output_type": "stream",
     "text": [
      "426113 11906 35718\n"
     ]
    }
   ],
   "source": [
    "# round4\n",
    "train_bpr4 = sample_bpr(test3_set, [train_set, valid_set, test1_set])\n",
    "train_bpr4.to_csv('./data/train_bpr4.csv', index=False)\n",
    "print(len(test3_set), len(test3_set[test3_set['viral']==1]), len(train_bpr4))"
   ]
  },
  {
   "cell_type": "markdown",
   "metadata": {},
   "source": [
    "Appendix: bpr sample analysis"
   ]
  },
  {
   "cell_type": "code",
   "execution_count": 112,
   "metadata": {},
   "outputs": [
    {
     "name": "stderr",
     "output_type": "stream",
     "text": [
      "C:\\Users\\ZIQING002\\AppData\\Local\\Temp\\ipykernel_26456\\2214158559.py:3: DtypeWarning: Columns (2) have mixed types. Specify dtype option on import or set low_memory=False.\n",
      "  raw_data = pd.read_csv('./data/eastmoney_bert.csv', usecols=['viral','item_author_cate', 'article_author', 'article_source_cate', 'stock_code', 'year', 'month'])\n"
     ]
    }
   ],
   "source": [
    "import pandas as pd\n",
    "# check avg matching statistics\n",
    "raw_data = pd.read_csv('./data/eastmoney_bert.csv', usecols=['viral','item_author_cate', 'article_author', 'article_source_cate', 'stock_code', 'year', 'month'])"
   ]
  },
  {
   "cell_type": "code",
   "execution_count": 113,
   "metadata": {},
   "outputs": [],
   "source": [
    "raw_data['item_author'] = raw_data['item_author_cate'].astype(str)\n",
    "raw_data['article_author'] = raw_data['article_author'].astype(str)\n",
    "raw_data['article_source'] = raw_data['article_source_cate'].astype(str)\n",
    "raw_data.loc[raw_data['article_source'].str.len() > 40, 'article_source'] = \"东方财富Choice数据\"\n",
    "raw_data.loc[raw_data['article_source']=='东方财富Choice数据■', 'article_source'] = \"东方财富Choice数据\""
   ]
  },
  {
   "cell_type": "code",
   "execution_count": 114,
   "metadata": {},
   "outputs": [
    {
     "name": "stdout",
     "output_type": "stream",
     "text": [
      "3208461\n"
     ]
    }
   ],
   "source": [
    "raw_data['year_month'] = pd.to_datetime(raw_data['year'].astype(int).astype(str) + '-' + raw_data['month'].astype(int).astype(str) + '-01')\n",
    "raw_train = raw_data[(raw_data['year_month'] >= '2017-01-01') & (raw_data['year_month'] <= '2021-12-31')]\n",
    "print(len(raw_train))"
   ]
  },
  {
   "cell_type": "code",
   "execution_count": 115,
   "metadata": {},
   "outputs": [
    {
     "data": {
      "text/html": [
       "<div>\n",
       "<style scoped>\n",
       "    .dataframe tbody tr th:only-of-type {\n",
       "        vertical-align: middle;\n",
       "    }\n",
       "\n",
       "    .dataframe tbody tr th {\n",
       "        vertical-align: top;\n",
       "    }\n",
       "\n",
       "    .dataframe thead th {\n",
       "        text-align: right;\n",
       "    }\n",
       "</style>\n",
       "<table border=\"1\" class=\"dataframe\">\n",
       "  <thead>\n",
       "    <tr style=\"text-align: right;\">\n",
       "      <th></th>\n",
       "      <th>article_author</th>\n",
       "      <th>year</th>\n",
       "      <th>month</th>\n",
       "      <th>viral</th>\n",
       "      <th>article_source_cate</th>\n",
       "      <th>item_author_cate</th>\n",
       "      <th>stock_code</th>\n",
       "      <th>item_author</th>\n",
       "      <th>article_source</th>\n",
       "      <th>year_month</th>\n",
       "    </tr>\n",
       "  </thead>\n",
       "  <tbody>\n",
       "    <tr>\n",
       "      <th>101942</th>\n",
       "      <td>0</td>\n",
       "      <td>2021.0</td>\n",
       "      <td>9.0</td>\n",
       "      <td>1.0</td>\n",
       "      <td>0</td>\n",
       "      <td>小股友CiaqCQ</td>\n",
       "      <td>690</td>\n",
       "      <td>小股友CiaqCQ</td>\n",
       "      <td>0</td>\n",
       "      <td>2021-09-01</td>\n",
       "    </tr>\n",
       "    <tr>\n",
       "      <th>160278</th>\n",
       "      <td>0</td>\n",
       "      <td>2021.0</td>\n",
       "      <td>9.0</td>\n",
       "      <td>1.0</td>\n",
       "      <td>0</td>\n",
       "      <td>小股友CiaqCQ</td>\n",
       "      <td>895</td>\n",
       "      <td>小股友CiaqCQ</td>\n",
       "      <td>0</td>\n",
       "      <td>2021-09-01</td>\n",
       "    </tr>\n",
       "    <tr>\n",
       "      <th>290761</th>\n",
       "      <td>0</td>\n",
       "      <td>2021.0</td>\n",
       "      <td>9.0</td>\n",
       "      <td>1.0</td>\n",
       "      <td>0</td>\n",
       "      <td>小股友CiaqCQ</td>\n",
       "      <td>2202</td>\n",
       "      <td>小股友CiaqCQ</td>\n",
       "      <td>0</td>\n",
       "      <td>2021-09-01</td>\n",
       "    </tr>\n",
       "  </tbody>\n",
       "</table>\n",
       "</div>"
      ],
      "text/plain": [
       "       article_author    year  month  viral article_source_cate  \\\n",
       "101942              0  2021.0    9.0    1.0                   0   \n",
       "160278              0  2021.0    9.0    1.0                   0   \n",
       "290761              0  2021.0    9.0    1.0                   0   \n",
       "\n",
       "       item_author_cate  stock_code item_author article_source year_month  \n",
       "101942        小股友CiaqCQ         690   小股友CiaqCQ              0 2021-09-01  \n",
       "160278        小股友CiaqCQ         895   小股友CiaqCQ              0 2021-09-01  \n",
       "290761        小股友CiaqCQ        2202   小股友CiaqCQ              0 2021-09-01  "
      ]
     },
     "execution_count": 115,
     "metadata": {},
     "output_type": "execute_result"
    }
   ],
   "source": [
    "raw_train[raw_train['item_author_cate']=='小股友CiaqCQ']"
   ]
  },
  {
   "cell_type": "code",
   "execution_count": 116,
   "metadata": {},
   "outputs": [],
   "source": [
    "negative_rows = raw_train[raw_train['viral'] == 0]"
   ]
  },
  {
   "cell_type": "code",
   "execution_count": 117,
   "metadata": {},
   "outputs": [
    {
     "data": {
      "text/html": [
       "<div>\n",
       "<style scoped>\n",
       "    .dataframe tbody tr th:only-of-type {\n",
       "        vertical-align: middle;\n",
       "    }\n",
       "\n",
       "    .dataframe tbody tr th {\n",
       "        vertical-align: top;\n",
       "    }\n",
       "\n",
       "    .dataframe thead th {\n",
       "        text-align: right;\n",
       "    }\n",
       "</style>\n",
       "<table border=\"1\" class=\"dataframe\">\n",
       "  <thead>\n",
       "    <tr style=\"text-align: right;\">\n",
       "      <th></th>\n",
       "      <th>article_author</th>\n",
       "      <th>year</th>\n",
       "      <th>month</th>\n",
       "      <th>viral</th>\n",
       "      <th>article_source_cate</th>\n",
       "      <th>item_author_cate</th>\n",
       "      <th>stock_code</th>\n",
       "      <th>item_author</th>\n",
       "      <th>article_source</th>\n",
       "      <th>year_month</th>\n",
       "    </tr>\n",
       "  </thead>\n",
       "  <tbody>\n",
       "  </tbody>\n",
       "</table>\n",
       "</div>"
      ],
      "text/plain": [
       "Empty DataFrame\n",
       "Columns: [article_author, year, month, viral, article_source_cate, item_author_cate, stock_code, item_author, article_source, year_month]\n",
       "Index: []"
      ]
     },
     "execution_count": 117,
     "metadata": {},
     "output_type": "execute_result"
    }
   ],
   "source": [
    "negative_rows[negative_rows['item_author_cate']=='小股友CiaqCQ']"
   ]
  },
  {
   "cell_type": "code",
   "execution_count": 118,
   "metadata": {},
   "outputs": [
    {
     "name": "stdout",
     "output_type": "stream",
     "text": [
      "  article_author    year  month  viral article_source_cate item_author_cate  \\\n",
      "0              0  2021.0    5.0    1.0                东方财富            胖猫周周见   \n",
      "1              0  2021.0    5.0    1.0                东方财富            大眼看两融   \n",
      "2              0  2021.0    5.0    1.0                东方财富            胖猫周周见   \n",
      "3              0  2021.0    5.0    1.0                东方财富            大眼看两融   \n",
      "4              0  2021.0    5.0    1.0            Choice数据     股友8635377Z3T   \n",
      "\n",
      "   stock_code   item_author article_source year_month  neg_count1  \n",
      "0           1         胖猫周周见           东方财富 2021-05-01     44390.0  \n",
      "1           1         大眼看两融           东方财富 2021-05-01     72999.0  \n",
      "2           1         胖猫周周见           东方财富 2021-05-01     44390.0  \n",
      "3           1         大眼看两融           东方财富 2021-05-01     72999.0  \n",
      "4           1  股友8635377Z3T       Choice数据 2021-05-01       311.0  \n"
     ]
    }
   ],
   "source": [
    "positive_rows = raw_train[raw_train['viral'] == 1]\n",
    "negative_rows = raw_train[raw_train['viral'] == 0]\n",
    "\n",
    "\n",
    "# C1\n",
    "neg_count_df = negative_rows.groupby(['item_author', 'article_author', 'article_source']).size().reset_index(name='neg_count1')\n",
    "# Merge with unique combinations to get primary counts\n",
    "merged = positive_rows.merge(neg_count_df, on=['item_author', 'article_author', 'article_source'], how='left',suffixes=('', '1')).fillna(0)\n",
    "print(merged.head())\n",
    "\n",
    "# C2\n",
    "neg_count_df21 = negative_rows.groupby(['item_author']).size().reset_index(name='neg_count21')\n",
    "neg_count_df22 = negative_rows.groupby(['article_author']).size().reset_index(name='neg_count22')\n",
    "neg_count_df23 = negative_rows.groupby(['article_source']).size().reset_index(name='neg_count23')\n",
    "\n",
    "merged = merged.merge(neg_count_df21, on='item_author', how='left', suffixes=('', '21')).fillna(0)\n",
    "merged = merged.merge(neg_count_df22, on='article_author', how='left', suffixes=('', '22')).fillna(0)\n",
    "merged = merged.merge(neg_count_df23, on='article_source', how='left', suffixes=('', '23')).fillna(0)\n",
    "merged['neg_count2'] = merged.apply(lambda row: row['neg_count21'] + row['neg_count22'] + row['neg_count23'], axis=1)\n",
    "\n",
    "# C3\n",
    "neg_count_df3 = negative_rows.groupby(['stock_code']).size().reset_index(name='neg_count3')\n",
    "# Merge with the previous result on stock_code\n",
    "merged = merged.merge(neg_count_df3, on='stock_code', how='left', suffixes=('', '3')).fillna(0)\n",
    "\n",
    "# Adjust neg_count2 based on whether neg_count was found\n",
    "# merged['neg_count2'] = merged.apply(lambda row: row['neg_count2'] if row['neg_count'] == 0 else 0, axis=1)\n",
    "merged['total'] = merged.apply(lambda row: row['neg_count1'] + row['neg_count2'] + row['neg_count3'], axis=1)\n",
    "\n",
    "# Convert to lists if needed\n",
    "neg_count1 = merged['neg_count1'].tolist()\n",
    "neg_count21 = merged['neg_count21'].tolist()\n",
    "neg_count22 = merged['neg_count22'].tolist()\n",
    "neg_count23 = merged['neg_count23'].tolist()\n",
    "neg_count2 = merged['neg_count2'].tolist()\n",
    "neg_count3 = merged['neg_count3'].tolist()\n",
    "neg_count_t = merged['total'].tolist()"
   ]
  },
  {
   "cell_type": "code",
   "execution_count": 120,
   "metadata": {},
   "outputs": [
    {
     "data": {
      "text/html": [
       "<div>\n",
       "<style scoped>\n",
       "    .dataframe tbody tr th:only-of-type {\n",
       "        vertical-align: middle;\n",
       "    }\n",
       "\n",
       "    .dataframe tbody tr th {\n",
       "        vertical-align: top;\n",
       "    }\n",
       "\n",
       "    .dataframe thead th {\n",
       "        text-align: right;\n",
       "    }\n",
       "</style>\n",
       "<table border=\"1\" class=\"dataframe\">\n",
       "  <thead>\n",
       "    <tr style=\"text-align: right;\">\n",
       "      <th></th>\n",
       "      <th>article_author</th>\n",
       "      <th>year</th>\n",
       "      <th>month</th>\n",
       "      <th>viral</th>\n",
       "      <th>article_source_cate</th>\n",
       "      <th>item_author_cate</th>\n",
       "      <th>stock_code</th>\n",
       "      <th>item_author</th>\n",
       "      <th>article_source</th>\n",
       "      <th>year_month</th>\n",
       "      <th>neg_count1</th>\n",
       "      <th>neg_count21</th>\n",
       "      <th>neg_count22</th>\n",
       "      <th>neg_count23</th>\n",
       "      <th>neg_count2</th>\n",
       "      <th>neg_count3</th>\n",
       "      <th>total</th>\n",
       "    </tr>\n",
       "  </thead>\n",
       "  <tbody>\n",
       "    <tr>\n",
       "      <th>481</th>\n",
       "      <td>0</td>\n",
       "      <td>2021.0</td>\n",
       "      <td>9.0</td>\n",
       "      <td>1.0</td>\n",
       "      <td>0</td>\n",
       "      <td>小股友CiaqCQ</td>\n",
       "      <td>690</td>\n",
       "      <td>小股友CiaqCQ</td>\n",
       "      <td>0</td>\n",
       "      <td>2021-09-01</td>\n",
       "      <td>0.0</td>\n",
       "      <td>0.0</td>\n",
       "      <td>1611177.0</td>\n",
       "      <td>462534.0</td>\n",
       "      <td>2073711.0</td>\n",
       "      <td>1094.0</td>\n",
       "      <td>2074805.0</td>\n",
       "    </tr>\n",
       "    <tr>\n",
       "      <th>4805</th>\n",
       "      <td>财智星</td>\n",
       "      <td>2021.0</td>\n",
       "      <td>2.0</td>\n",
       "      <td>1.0</td>\n",
       "      <td>东方财富</td>\n",
       "      <td>宝新能源资讯</td>\n",
       "      <td>690</td>\n",
       "      <td>宝新能源资讯</td>\n",
       "      <td>东方财富</td>\n",
       "      <td>2021-02-01</td>\n",
       "      <td>552.0</td>\n",
       "      <td>726.0</td>\n",
       "      <td>1114435.0</td>\n",
       "      <td>1906784.0</td>\n",
       "      <td>3021945.0</td>\n",
       "      <td>1094.0</td>\n",
       "      <td>3023591.0</td>\n",
       "    </tr>\n",
       "    <tr>\n",
       "      <th>37104</th>\n",
       "      <td>0</td>\n",
       "      <td>2017.0</td>\n",
       "      <td>1.0</td>\n",
       "      <td>1.0</td>\n",
       "      <td>中国证券网</td>\n",
       "      <td>宝新能源资讯</td>\n",
       "      <td>690</td>\n",
       "      <td>宝新能源资讯</td>\n",
       "      <td>中国证券网</td>\n",
       "      <td>2017-01-01</td>\n",
       "      <td>0.0</td>\n",
       "      <td>726.0</td>\n",
       "      <td>1611177.0</td>\n",
       "      <td>27051.0</td>\n",
       "      <td>1638954.0</td>\n",
       "      <td>1094.0</td>\n",
       "      <td>1640048.0</td>\n",
       "    </tr>\n",
       "    <tr>\n",
       "      <th>37105</th>\n",
       "      <td>0</td>\n",
       "      <td>2017.0</td>\n",
       "      <td>1.0</td>\n",
       "      <td>1.0</td>\n",
       "      <td>中国经营报</td>\n",
       "      <td>宝新能源资讯</td>\n",
       "      <td>690</td>\n",
       "      <td>宝新能源资讯</td>\n",
       "      <td>中国经营报</td>\n",
       "      <td>2017-01-01</td>\n",
       "      <td>0.0</td>\n",
       "      <td>726.0</td>\n",
       "      <td>1611177.0</td>\n",
       "      <td>320.0</td>\n",
       "      <td>1612223.0</td>\n",
       "      <td>1094.0</td>\n",
       "      <td>1613317.0</td>\n",
       "    </tr>\n",
       "    <tr>\n",
       "      <th>37106</th>\n",
       "      <td>0</td>\n",
       "      <td>2017.0</td>\n",
       "      <td>2.0</td>\n",
       "      <td>1.0</td>\n",
       "      <td>上海证券报</td>\n",
       "      <td>宝新能源资讯</td>\n",
       "      <td>690</td>\n",
       "      <td>宝新能源资讯</td>\n",
       "      <td>上海证券报</td>\n",
       "      <td>2017-02-01</td>\n",
       "      <td>0.0</td>\n",
       "      <td>726.0</td>\n",
       "      <td>1611177.0</td>\n",
       "      <td>7072.0</td>\n",
       "      <td>1618975.0</td>\n",
       "      <td>1094.0</td>\n",
       "      <td>1620069.0</td>\n",
       "    </tr>\n",
       "    <tr>\n",
       "      <th>37107</th>\n",
       "      <td>0</td>\n",
       "      <td>2017.0</td>\n",
       "      <td>3.0</td>\n",
       "      <td>1.0</td>\n",
       "      <td>中国经营报</td>\n",
       "      <td>宝新能源资讯</td>\n",
       "      <td>690</td>\n",
       "      <td>宝新能源资讯</td>\n",
       "      <td>中国经营报</td>\n",
       "      <td>2017-03-01</td>\n",
       "      <td>0.0</td>\n",
       "      <td>726.0</td>\n",
       "      <td>1611177.0</td>\n",
       "      <td>320.0</td>\n",
       "      <td>1612223.0</td>\n",
       "      <td>1094.0</td>\n",
       "      <td>1613317.0</td>\n",
       "    </tr>\n",
       "    <tr>\n",
       "      <th>37108</th>\n",
       "      <td>0</td>\n",
       "      <td>2017.0</td>\n",
       "      <td>3.0</td>\n",
       "      <td>1.0</td>\n",
       "      <td>中国证券报</td>\n",
       "      <td>宝新能源资讯</td>\n",
       "      <td>690</td>\n",
       "      <td>宝新能源资讯</td>\n",
       "      <td>中国证券报</td>\n",
       "      <td>2017-03-01</td>\n",
       "      <td>0.0</td>\n",
       "      <td>726.0</td>\n",
       "      <td>1611177.0</td>\n",
       "      <td>4671.0</td>\n",
       "      <td>1616574.0</td>\n",
       "      <td>1094.0</td>\n",
       "      <td>1617668.0</td>\n",
       "    </tr>\n",
       "    <tr>\n",
       "      <th>37109</th>\n",
       "      <td>0</td>\n",
       "      <td>2017.0</td>\n",
       "      <td>4.0</td>\n",
       "      <td>1.0</td>\n",
       "      <td>证券时报</td>\n",
       "      <td>宝新能源资讯</td>\n",
       "      <td>690</td>\n",
       "      <td>宝新能源资讯</td>\n",
       "      <td>证券时报</td>\n",
       "      <td>2017-04-01</td>\n",
       "      <td>0.0</td>\n",
       "      <td>726.0</td>\n",
       "      <td>1611177.0</td>\n",
       "      <td>14687.0</td>\n",
       "      <td>1626590.0</td>\n",
       "      <td>1094.0</td>\n",
       "      <td>1627684.0</td>\n",
       "    </tr>\n",
       "    <tr>\n",
       "      <th>37110</th>\n",
       "      <td>0</td>\n",
       "      <td>2017.0</td>\n",
       "      <td>6.0</td>\n",
       "      <td>1.0</td>\n",
       "      <td>中国证券网</td>\n",
       "      <td>宝新能源资讯</td>\n",
       "      <td>690</td>\n",
       "      <td>宝新能源资讯</td>\n",
       "      <td>中国证券网</td>\n",
       "      <td>2017-06-01</td>\n",
       "      <td>0.0</td>\n",
       "      <td>726.0</td>\n",
       "      <td>1611177.0</td>\n",
       "      <td>27051.0</td>\n",
       "      <td>1638954.0</td>\n",
       "      <td>1094.0</td>\n",
       "      <td>1640048.0</td>\n",
       "    </tr>\n",
       "    <tr>\n",
       "      <th>37111</th>\n",
       "      <td>0</td>\n",
       "      <td>2018.0</td>\n",
       "      <td>1.0</td>\n",
       "      <td>1.0</td>\n",
       "      <td>证券时报网</td>\n",
       "      <td>宝新能源资讯</td>\n",
       "      <td>690</td>\n",
       "      <td>宝新能源资讯</td>\n",
       "      <td>证券时报网</td>\n",
       "      <td>2018-01-01</td>\n",
       "      <td>4.0</td>\n",
       "      <td>726.0</td>\n",
       "      <td>1611177.0</td>\n",
       "      <td>19202.0</td>\n",
       "      <td>1631105.0</td>\n",
       "      <td>1094.0</td>\n",
       "      <td>1632203.0</td>\n",
       "    </tr>\n",
       "    <tr>\n",
       "      <th>37112</th>\n",
       "      <td>0</td>\n",
       "      <td>2018.0</td>\n",
       "      <td>4.0</td>\n",
       "      <td>1.0</td>\n",
       "      <td>证券时报</td>\n",
       "      <td>宝新能源资讯</td>\n",
       "      <td>690</td>\n",
       "      <td>宝新能源资讯</td>\n",
       "      <td>证券时报</td>\n",
       "      <td>2018-04-01</td>\n",
       "      <td>0.0</td>\n",
       "      <td>726.0</td>\n",
       "      <td>1611177.0</td>\n",
       "      <td>14687.0</td>\n",
       "      <td>1626590.0</td>\n",
       "      <td>1094.0</td>\n",
       "      <td>1627684.0</td>\n",
       "    </tr>\n",
       "    <tr>\n",
       "      <th>37113</th>\n",
       "      <td>0</td>\n",
       "      <td>2018.0</td>\n",
       "      <td>4.0</td>\n",
       "      <td>1.0</td>\n",
       "      <td>中国证券网</td>\n",
       "      <td>宝新能源资讯</td>\n",
       "      <td>690</td>\n",
       "      <td>宝新能源资讯</td>\n",
       "      <td>中国证券网</td>\n",
       "      <td>2018-04-01</td>\n",
       "      <td>0.0</td>\n",
       "      <td>726.0</td>\n",
       "      <td>1611177.0</td>\n",
       "      <td>27051.0</td>\n",
       "      <td>1638954.0</td>\n",
       "      <td>1094.0</td>\n",
       "      <td>1640048.0</td>\n",
       "    </tr>\n",
       "    <tr>\n",
       "      <th>37114</th>\n",
       "      <td>0</td>\n",
       "      <td>2018.0</td>\n",
       "      <td>5.0</td>\n",
       "      <td>1.0</td>\n",
       "      <td>中国证券网</td>\n",
       "      <td>宝新能源资讯</td>\n",
       "      <td>690</td>\n",
       "      <td>宝新能源资讯</td>\n",
       "      <td>中国证券网</td>\n",
       "      <td>2018-05-01</td>\n",
       "      <td>0.0</td>\n",
       "      <td>726.0</td>\n",
       "      <td>1611177.0</td>\n",
       "      <td>27051.0</td>\n",
       "      <td>1638954.0</td>\n",
       "      <td>1094.0</td>\n",
       "      <td>1640048.0</td>\n",
       "    </tr>\n",
       "    <tr>\n",
       "      <th>37115</th>\n",
       "      <td>0</td>\n",
       "      <td>2018.0</td>\n",
       "      <td>5.0</td>\n",
       "      <td>1.0</td>\n",
       "      <td>中国证券网</td>\n",
       "      <td>宝新能源资讯</td>\n",
       "      <td>690</td>\n",
       "      <td>宝新能源资讯</td>\n",
       "      <td>中国证券网</td>\n",
       "      <td>2018-05-01</td>\n",
       "      <td>0.0</td>\n",
       "      <td>726.0</td>\n",
       "      <td>1611177.0</td>\n",
       "      <td>27051.0</td>\n",
       "      <td>1638954.0</td>\n",
       "      <td>1094.0</td>\n",
       "      <td>1640048.0</td>\n",
       "    </tr>\n",
       "    <tr>\n",
       "      <th>37116</th>\n",
       "      <td>0</td>\n",
       "      <td>2018.0</td>\n",
       "      <td>9.0</td>\n",
       "      <td>1.0</td>\n",
       "      <td>证券时报网</td>\n",
       "      <td>宝新能源资讯</td>\n",
       "      <td>690</td>\n",
       "      <td>宝新能源资讯</td>\n",
       "      <td>证券时报网</td>\n",
       "      <td>2018-09-01</td>\n",
       "      <td>4.0</td>\n",
       "      <td>726.0</td>\n",
       "      <td>1611177.0</td>\n",
       "      <td>19202.0</td>\n",
       "      <td>1631105.0</td>\n",
       "      <td>1094.0</td>\n",
       "      <td>1632203.0</td>\n",
       "    </tr>\n",
       "    <tr>\n",
       "      <th>37117</th>\n",
       "      <td>0</td>\n",
       "      <td>2018.0</td>\n",
       "      <td>9.0</td>\n",
       "      <td>1.0</td>\n",
       "      <td>中国证券报</td>\n",
       "      <td>宝新能源资讯</td>\n",
       "      <td>690</td>\n",
       "      <td>宝新能源资讯</td>\n",
       "      <td>中国证券报</td>\n",
       "      <td>2018-09-01</td>\n",
       "      <td>0.0</td>\n",
       "      <td>726.0</td>\n",
       "      <td>1611177.0</td>\n",
       "      <td>4671.0</td>\n",
       "      <td>1616574.0</td>\n",
       "      <td>1094.0</td>\n",
       "      <td>1617668.0</td>\n",
       "    </tr>\n",
       "    <tr>\n",
       "      <th>37118</th>\n",
       "      <td>0</td>\n",
       "      <td>2018.0</td>\n",
       "      <td>10.0</td>\n",
       "      <td>1.0</td>\n",
       "      <td>证券时报网</td>\n",
       "      <td>宝新能源资讯</td>\n",
       "      <td>690</td>\n",
       "      <td>宝新能源资讯</td>\n",
       "      <td>证券时报网</td>\n",
       "      <td>2018-10-01</td>\n",
       "      <td>4.0</td>\n",
       "      <td>726.0</td>\n",
       "      <td>1611177.0</td>\n",
       "      <td>19202.0</td>\n",
       "      <td>1631105.0</td>\n",
       "      <td>1094.0</td>\n",
       "      <td>1632203.0</td>\n",
       "    </tr>\n",
       "    <tr>\n",
       "      <th>37119</th>\n",
       "      <td>0</td>\n",
       "      <td>2018.0</td>\n",
       "      <td>10.0</td>\n",
       "      <td>1.0</td>\n",
       "      <td>中国证券网</td>\n",
       "      <td>宝新能源资讯</td>\n",
       "      <td>690</td>\n",
       "      <td>宝新能源资讯</td>\n",
       "      <td>中国证券网</td>\n",
       "      <td>2018-10-01</td>\n",
       "      <td>0.0</td>\n",
       "      <td>726.0</td>\n",
       "      <td>1611177.0</td>\n",
       "      <td>27051.0</td>\n",
       "      <td>1638954.0</td>\n",
       "      <td>1094.0</td>\n",
       "      <td>1640048.0</td>\n",
       "    </tr>\n",
       "    <tr>\n",
       "      <th>37120</th>\n",
       "      <td>0</td>\n",
       "      <td>2018.0</td>\n",
       "      <td>11.0</td>\n",
       "      <td>1.0</td>\n",
       "      <td>证券时报</td>\n",
       "      <td>宝新能源资讯</td>\n",
       "      <td>690</td>\n",
       "      <td>宝新能源资讯</td>\n",
       "      <td>证券时报</td>\n",
       "      <td>2018-11-01</td>\n",
       "      <td>0.0</td>\n",
       "      <td>726.0</td>\n",
       "      <td>1611177.0</td>\n",
       "      <td>14687.0</td>\n",
       "      <td>1626590.0</td>\n",
       "      <td>1094.0</td>\n",
       "      <td>1627684.0</td>\n",
       "    </tr>\n",
       "    <tr>\n",
       "      <th>37121</th>\n",
       "      <td>0</td>\n",
       "      <td>2018.0</td>\n",
       "      <td>11.0</td>\n",
       "      <td>1.0</td>\n",
       "      <td>中证网</td>\n",
       "      <td>宝新能源资讯</td>\n",
       "      <td>690</td>\n",
       "      <td>宝新能源资讯</td>\n",
       "      <td>中证网</td>\n",
       "      <td>2018-11-01</td>\n",
       "      <td>2.0</td>\n",
       "      <td>726.0</td>\n",
       "      <td>1611177.0</td>\n",
       "      <td>19503.0</td>\n",
       "      <td>1631406.0</td>\n",
       "      <td>1094.0</td>\n",
       "      <td>1632502.0</td>\n",
       "    </tr>\n",
       "    <tr>\n",
       "      <th>37122</th>\n",
       "      <td>0</td>\n",
       "      <td>2018.0</td>\n",
       "      <td>11.0</td>\n",
       "      <td>1.0</td>\n",
       "      <td>证券日报网</td>\n",
       "      <td>宝新能源资讯</td>\n",
       "      <td>690</td>\n",
       "      <td>宝新能源资讯</td>\n",
       "      <td>证券日报网</td>\n",
       "      <td>2018-11-01</td>\n",
       "      <td>0.0</td>\n",
       "      <td>726.0</td>\n",
       "      <td>1611177.0</td>\n",
       "      <td>11742.0</td>\n",
       "      <td>1623645.0</td>\n",
       "      <td>1094.0</td>\n",
       "      <td>1624739.0</td>\n",
       "    </tr>\n",
       "    <tr>\n",
       "      <th>37123</th>\n",
       "      <td>0</td>\n",
       "      <td>2018.0</td>\n",
       "      <td>12.0</td>\n",
       "      <td>1.0</td>\n",
       "      <td>中证网</td>\n",
       "      <td>宝新能源资讯</td>\n",
       "      <td>690</td>\n",
       "      <td>宝新能源资讯</td>\n",
       "      <td>中证网</td>\n",
       "      <td>2018-12-01</td>\n",
       "      <td>2.0</td>\n",
       "      <td>726.0</td>\n",
       "      <td>1611177.0</td>\n",
       "      <td>19503.0</td>\n",
       "      <td>1631406.0</td>\n",
       "      <td>1094.0</td>\n",
       "      <td>1632502.0</td>\n",
       "    </tr>\n",
       "    <tr>\n",
       "      <th>37124</th>\n",
       "      <td>0</td>\n",
       "      <td>2018.0</td>\n",
       "      <td>12.0</td>\n",
       "      <td>1.0</td>\n",
       "      <td>证券时报网</td>\n",
       "      <td>宝新能源资讯</td>\n",
       "      <td>690</td>\n",
       "      <td>宝新能源资讯</td>\n",
       "      <td>证券时报网</td>\n",
       "      <td>2018-12-01</td>\n",
       "      <td>4.0</td>\n",
       "      <td>726.0</td>\n",
       "      <td>1611177.0</td>\n",
       "      <td>19202.0</td>\n",
       "      <td>1631105.0</td>\n",
       "      <td>1094.0</td>\n",
       "      <td>1632203.0</td>\n",
       "    </tr>\n",
       "    <tr>\n",
       "      <th>37125</th>\n",
       "      <td>0</td>\n",
       "      <td>2018.0</td>\n",
       "      <td>12.0</td>\n",
       "      <td>1.0</td>\n",
       "      <td>中国证券网</td>\n",
       "      <td>宝新能源资讯</td>\n",
       "      <td>690</td>\n",
       "      <td>宝新能源资讯</td>\n",
       "      <td>中国证券网</td>\n",
       "      <td>2018-12-01</td>\n",
       "      <td>0.0</td>\n",
       "      <td>726.0</td>\n",
       "      <td>1611177.0</td>\n",
       "      <td>27051.0</td>\n",
       "      <td>1638954.0</td>\n",
       "      <td>1094.0</td>\n",
       "      <td>1640048.0</td>\n",
       "    </tr>\n",
       "    <tr>\n",
       "      <th>37126</th>\n",
       "      <td>0</td>\n",
       "      <td>2019.0</td>\n",
       "      <td>4.0</td>\n",
       "      <td>1.0</td>\n",
       "      <td>证券时报</td>\n",
       "      <td>宝新能源资讯</td>\n",
       "      <td>690</td>\n",
       "      <td>宝新能源资讯</td>\n",
       "      <td>证券时报</td>\n",
       "      <td>2019-04-01</td>\n",
       "      <td>0.0</td>\n",
       "      <td>726.0</td>\n",
       "      <td>1611177.0</td>\n",
       "      <td>14687.0</td>\n",
       "      <td>1626590.0</td>\n",
       "      <td>1094.0</td>\n",
       "      <td>1627684.0</td>\n",
       "    </tr>\n",
       "    <tr>\n",
       "      <th>37127</th>\n",
       "      <td>0</td>\n",
       "      <td>2019.0</td>\n",
       "      <td>4.0</td>\n",
       "      <td>1.0</td>\n",
       "      <td>中证网</td>\n",
       "      <td>宝新能源资讯</td>\n",
       "      <td>690</td>\n",
       "      <td>宝新能源资讯</td>\n",
       "      <td>中证网</td>\n",
       "      <td>2019-04-01</td>\n",
       "      <td>2.0</td>\n",
       "      <td>726.0</td>\n",
       "      <td>1611177.0</td>\n",
       "      <td>19503.0</td>\n",
       "      <td>1631406.0</td>\n",
       "      <td>1094.0</td>\n",
       "      <td>1632502.0</td>\n",
       "    </tr>\n",
       "    <tr>\n",
       "      <th>37128</th>\n",
       "      <td>0</td>\n",
       "      <td>2019.0</td>\n",
       "      <td>4.0</td>\n",
       "      <td>1.0</td>\n",
       "      <td>中证网</td>\n",
       "      <td>宝新能源资讯</td>\n",
       "      <td>690</td>\n",
       "      <td>宝新能源资讯</td>\n",
       "      <td>中证网</td>\n",
       "      <td>2019-04-01</td>\n",
       "      <td>2.0</td>\n",
       "      <td>726.0</td>\n",
       "      <td>1611177.0</td>\n",
       "      <td>19503.0</td>\n",
       "      <td>1631406.0</td>\n",
       "      <td>1094.0</td>\n",
       "      <td>1632502.0</td>\n",
       "    </tr>\n",
       "    <tr>\n",
       "      <th>37129</th>\n",
       "      <td>0</td>\n",
       "      <td>2019.0</td>\n",
       "      <td>4.0</td>\n",
       "      <td>1.0</td>\n",
       "      <td>证券时报</td>\n",
       "      <td>宝新能源资讯</td>\n",
       "      <td>690</td>\n",
       "      <td>宝新能源资讯</td>\n",
       "      <td>证券时报</td>\n",
       "      <td>2019-04-01</td>\n",
       "      <td>0.0</td>\n",
       "      <td>726.0</td>\n",
       "      <td>1611177.0</td>\n",
       "      <td>14687.0</td>\n",
       "      <td>1626590.0</td>\n",
       "      <td>1094.0</td>\n",
       "      <td>1627684.0</td>\n",
       "    </tr>\n",
       "    <tr>\n",
       "      <th>37130</th>\n",
       "      <td>0</td>\n",
       "      <td>2019.0</td>\n",
       "      <td>5.0</td>\n",
       "      <td>1.0</td>\n",
       "      <td>证券时报</td>\n",
       "      <td>宝新能源资讯</td>\n",
       "      <td>690</td>\n",
       "      <td>宝新能源资讯</td>\n",
       "      <td>证券时报</td>\n",
       "      <td>2019-05-01</td>\n",
       "      <td>0.0</td>\n",
       "      <td>726.0</td>\n",
       "      <td>1611177.0</td>\n",
       "      <td>14687.0</td>\n",
       "      <td>1626590.0</td>\n",
       "      <td>1094.0</td>\n",
       "      <td>1627684.0</td>\n",
       "    </tr>\n",
       "    <tr>\n",
       "      <th>37131</th>\n",
       "      <td>0</td>\n",
       "      <td>2019.0</td>\n",
       "      <td>8.0</td>\n",
       "      <td>1.0</td>\n",
       "      <td>证券时报网</td>\n",
       "      <td>宝新能源资讯</td>\n",
       "      <td>690</td>\n",
       "      <td>宝新能源资讯</td>\n",
       "      <td>证券时报网</td>\n",
       "      <td>2019-08-01</td>\n",
       "      <td>4.0</td>\n",
       "      <td>726.0</td>\n",
       "      <td>1611177.0</td>\n",
       "      <td>19202.0</td>\n",
       "      <td>1631105.0</td>\n",
       "      <td>1094.0</td>\n",
       "      <td>1632203.0</td>\n",
       "    </tr>\n",
       "    <tr>\n",
       "      <th>37132</th>\n",
       "      <td>万宇</td>\n",
       "      <td>2020.0</td>\n",
       "      <td>1.0</td>\n",
       "      <td>1.0</td>\n",
       "      <td>中证网</td>\n",
       "      <td>宝新能源资讯</td>\n",
       "      <td>690</td>\n",
       "      <td>宝新能源资讯</td>\n",
       "      <td>中证网</td>\n",
       "      <td>2020-01-01</td>\n",
       "      <td>2.0</td>\n",
       "      <td>726.0</td>\n",
       "      <td>428.0</td>\n",
       "      <td>19503.0</td>\n",
       "      <td>20657.0</td>\n",
       "      <td>1094.0</td>\n",
       "      <td>21753.0</td>\n",
       "    </tr>\n",
       "    <tr>\n",
       "      <th>37133</th>\n",
       "      <td>0</td>\n",
       "      <td>2020.0</td>\n",
       "      <td>1.0</td>\n",
       "      <td>1.0</td>\n",
       "      <td>第一财经</td>\n",
       "      <td>宝新能源资讯</td>\n",
       "      <td>690</td>\n",
       "      <td>宝新能源资讯</td>\n",
       "      <td>第一财经</td>\n",
       "      <td>2020-01-01</td>\n",
       "      <td>1.0</td>\n",
       "      <td>726.0</td>\n",
       "      <td>1611177.0</td>\n",
       "      <td>8794.0</td>\n",
       "      <td>1620697.0</td>\n",
       "      <td>1094.0</td>\n",
       "      <td>1621792.0</td>\n",
       "    </tr>\n",
       "    <tr>\n",
       "      <th>37134</th>\n",
       "      <td>0</td>\n",
       "      <td>2020.0</td>\n",
       "      <td>7.0</td>\n",
       "      <td>1.0</td>\n",
       "      <td>e公司</td>\n",
       "      <td>宝新能源资讯</td>\n",
       "      <td>690</td>\n",
       "      <td>宝新能源资讯</td>\n",
       "      <td>e公司</td>\n",
       "      <td>2020-07-01</td>\n",
       "      <td>3.0</td>\n",
       "      <td>726.0</td>\n",
       "      <td>1611177.0</td>\n",
       "      <td>21593.0</td>\n",
       "      <td>1633496.0</td>\n",
       "      <td>1094.0</td>\n",
       "      <td>1634593.0</td>\n",
       "    </tr>\n",
       "    <tr>\n",
       "      <th>37135</th>\n",
       "      <td>0</td>\n",
       "      <td>2021.0</td>\n",
       "      <td>1.0</td>\n",
       "      <td>1.0</td>\n",
       "      <td>e公司</td>\n",
       "      <td>宝新能源资讯</td>\n",
       "      <td>690</td>\n",
       "      <td>宝新能源资讯</td>\n",
       "      <td>e公司</td>\n",
       "      <td>2021-01-01</td>\n",
       "      <td>3.0</td>\n",
       "      <td>726.0</td>\n",
       "      <td>1611177.0</td>\n",
       "      <td>21593.0</td>\n",
       "      <td>1633496.0</td>\n",
       "      <td>1094.0</td>\n",
       "      <td>1634593.0</td>\n",
       "    </tr>\n",
       "    <tr>\n",
       "      <th>37136</th>\n",
       "      <td>覃秘 徐锐</td>\n",
       "      <td>2021.0</td>\n",
       "      <td>2.0</td>\n",
       "      <td>1.0</td>\n",
       "      <td>上海证券报</td>\n",
       "      <td>宝新能源资讯</td>\n",
       "      <td>690</td>\n",
       "      <td>宝新能源资讯</td>\n",
       "      <td>上海证券报</td>\n",
       "      <td>2021-02-01</td>\n",
       "      <td>0.0</td>\n",
       "      <td>726.0</td>\n",
       "      <td>0.0</td>\n",
       "      <td>7072.0</td>\n",
       "      <td>7798.0</td>\n",
       "      <td>1094.0</td>\n",
       "      <td>8892.0</td>\n",
       "    </tr>\n",
       "    <tr>\n",
       "      <th>37137</th>\n",
       "      <td>0</td>\n",
       "      <td>2021.0</td>\n",
       "      <td>6.0</td>\n",
       "      <td>1.0</td>\n",
       "      <td>中国基金报</td>\n",
       "      <td>宝新能源资讯</td>\n",
       "      <td>690</td>\n",
       "      <td>宝新能源资讯</td>\n",
       "      <td>中国基金报</td>\n",
       "      <td>2021-06-01</td>\n",
       "      <td>0.0</td>\n",
       "      <td>726.0</td>\n",
       "      <td>1611177.0</td>\n",
       "      <td>886.0</td>\n",
       "      <td>1612789.0</td>\n",
       "      <td>1094.0</td>\n",
       "      <td>1613883.0</td>\n",
       "    </tr>\n",
       "  </tbody>\n",
       "</table>\n",
       "</div>"
      ],
      "text/plain": [
       "      article_author    year  month  viral article_source_cate  \\\n",
       "481                0  2021.0    9.0    1.0                   0   \n",
       "4805             财智星  2021.0    2.0    1.0                东方财富   \n",
       "37104              0  2017.0    1.0    1.0               中国证券网   \n",
       "37105              0  2017.0    1.0    1.0               中国经营报   \n",
       "37106              0  2017.0    2.0    1.0               上海证券报   \n",
       "37107              0  2017.0    3.0    1.0               中国经营报   \n",
       "37108              0  2017.0    3.0    1.0               中国证券报   \n",
       "37109              0  2017.0    4.0    1.0                证券时报   \n",
       "37110              0  2017.0    6.0    1.0               中国证券网   \n",
       "37111              0  2018.0    1.0    1.0               证券时报网   \n",
       "37112              0  2018.0    4.0    1.0                证券时报   \n",
       "37113              0  2018.0    4.0    1.0               中国证券网   \n",
       "37114              0  2018.0    5.0    1.0               中国证券网   \n",
       "37115              0  2018.0    5.0    1.0               中国证券网   \n",
       "37116              0  2018.0    9.0    1.0               证券时报网   \n",
       "37117              0  2018.0    9.0    1.0               中国证券报   \n",
       "37118              0  2018.0   10.0    1.0               证券时报网   \n",
       "37119              0  2018.0   10.0    1.0               中国证券网   \n",
       "37120              0  2018.0   11.0    1.0                证券时报   \n",
       "37121              0  2018.0   11.0    1.0                 中证网   \n",
       "37122              0  2018.0   11.0    1.0               证券日报网   \n",
       "37123              0  2018.0   12.0    1.0                 中证网   \n",
       "37124              0  2018.0   12.0    1.0               证券时报网   \n",
       "37125              0  2018.0   12.0    1.0               中国证券网   \n",
       "37126              0  2019.0    4.0    1.0                证券时报   \n",
       "37127              0  2019.0    4.0    1.0                 中证网   \n",
       "37128              0  2019.0    4.0    1.0                 中证网   \n",
       "37129              0  2019.0    4.0    1.0                证券时报   \n",
       "37130              0  2019.0    5.0    1.0                证券时报   \n",
       "37131              0  2019.0    8.0    1.0               证券时报网   \n",
       "37132             万宇  2020.0    1.0    1.0                 中证网   \n",
       "37133              0  2020.0    1.0    1.0                第一财经   \n",
       "37134              0  2020.0    7.0    1.0                 e公司   \n",
       "37135              0  2021.0    1.0    1.0                 e公司   \n",
       "37136          覃秘 徐锐  2021.0    2.0    1.0               上海证券报   \n",
       "37137              0  2021.0    6.0    1.0               中国基金报   \n",
       "\n",
       "      item_author_cate  stock_code item_author article_source year_month  \\\n",
       "481          小股友CiaqCQ         690   小股友CiaqCQ              0 2021-09-01   \n",
       "4805            宝新能源资讯         690      宝新能源资讯           东方财富 2021-02-01   \n",
       "37104           宝新能源资讯         690      宝新能源资讯          中国证券网 2017-01-01   \n",
       "37105           宝新能源资讯         690      宝新能源资讯          中国经营报 2017-01-01   \n",
       "37106           宝新能源资讯         690      宝新能源资讯          上海证券报 2017-02-01   \n",
       "37107           宝新能源资讯         690      宝新能源资讯          中国经营报 2017-03-01   \n",
       "37108           宝新能源资讯         690      宝新能源资讯          中国证券报 2017-03-01   \n",
       "37109           宝新能源资讯         690      宝新能源资讯           证券时报 2017-04-01   \n",
       "37110           宝新能源资讯         690      宝新能源资讯          中国证券网 2017-06-01   \n",
       "37111           宝新能源资讯         690      宝新能源资讯          证券时报网 2018-01-01   \n",
       "37112           宝新能源资讯         690      宝新能源资讯           证券时报 2018-04-01   \n",
       "37113           宝新能源资讯         690      宝新能源资讯          中国证券网 2018-04-01   \n",
       "37114           宝新能源资讯         690      宝新能源资讯          中国证券网 2018-05-01   \n",
       "37115           宝新能源资讯         690      宝新能源资讯          中国证券网 2018-05-01   \n",
       "37116           宝新能源资讯         690      宝新能源资讯          证券时报网 2018-09-01   \n",
       "37117           宝新能源资讯         690      宝新能源资讯          中国证券报 2018-09-01   \n",
       "37118           宝新能源资讯         690      宝新能源资讯          证券时报网 2018-10-01   \n",
       "37119           宝新能源资讯         690      宝新能源资讯          中国证券网 2018-10-01   \n",
       "37120           宝新能源资讯         690      宝新能源资讯           证券时报 2018-11-01   \n",
       "37121           宝新能源资讯         690      宝新能源资讯            中证网 2018-11-01   \n",
       "37122           宝新能源资讯         690      宝新能源资讯          证券日报网 2018-11-01   \n",
       "37123           宝新能源资讯         690      宝新能源资讯            中证网 2018-12-01   \n",
       "37124           宝新能源资讯         690      宝新能源资讯          证券时报网 2018-12-01   \n",
       "37125           宝新能源资讯         690      宝新能源资讯          中国证券网 2018-12-01   \n",
       "37126           宝新能源资讯         690      宝新能源资讯           证券时报 2019-04-01   \n",
       "37127           宝新能源资讯         690      宝新能源资讯            中证网 2019-04-01   \n",
       "37128           宝新能源资讯         690      宝新能源资讯            中证网 2019-04-01   \n",
       "37129           宝新能源资讯         690      宝新能源资讯           证券时报 2019-04-01   \n",
       "37130           宝新能源资讯         690      宝新能源资讯           证券时报 2019-05-01   \n",
       "37131           宝新能源资讯         690      宝新能源资讯          证券时报网 2019-08-01   \n",
       "37132           宝新能源资讯         690      宝新能源资讯            中证网 2020-01-01   \n",
       "37133           宝新能源资讯         690      宝新能源资讯           第一财经 2020-01-01   \n",
       "37134           宝新能源资讯         690      宝新能源资讯            e公司 2020-07-01   \n",
       "37135           宝新能源资讯         690      宝新能源资讯            e公司 2021-01-01   \n",
       "37136           宝新能源资讯         690      宝新能源资讯          上海证券报 2021-02-01   \n",
       "37137           宝新能源资讯         690      宝新能源资讯          中国基金报 2021-06-01   \n",
       "\n",
       "       neg_count1  neg_count21  neg_count22  neg_count23  neg_count2  \\\n",
       "481           0.0          0.0    1611177.0     462534.0   2073711.0   \n",
       "4805        552.0        726.0    1114435.0    1906784.0   3021945.0   \n",
       "37104         0.0        726.0    1611177.0      27051.0   1638954.0   \n",
       "37105         0.0        726.0    1611177.0        320.0   1612223.0   \n",
       "37106         0.0        726.0    1611177.0       7072.0   1618975.0   \n",
       "37107         0.0        726.0    1611177.0        320.0   1612223.0   \n",
       "37108         0.0        726.0    1611177.0       4671.0   1616574.0   \n",
       "37109         0.0        726.0    1611177.0      14687.0   1626590.0   \n",
       "37110         0.0        726.0    1611177.0      27051.0   1638954.0   \n",
       "37111         4.0        726.0    1611177.0      19202.0   1631105.0   \n",
       "37112         0.0        726.0    1611177.0      14687.0   1626590.0   \n",
       "37113         0.0        726.0    1611177.0      27051.0   1638954.0   \n",
       "37114         0.0        726.0    1611177.0      27051.0   1638954.0   \n",
       "37115         0.0        726.0    1611177.0      27051.0   1638954.0   \n",
       "37116         4.0        726.0    1611177.0      19202.0   1631105.0   \n",
       "37117         0.0        726.0    1611177.0       4671.0   1616574.0   \n",
       "37118         4.0        726.0    1611177.0      19202.0   1631105.0   \n",
       "37119         0.0        726.0    1611177.0      27051.0   1638954.0   \n",
       "37120         0.0        726.0    1611177.0      14687.0   1626590.0   \n",
       "37121         2.0        726.0    1611177.0      19503.0   1631406.0   \n",
       "37122         0.0        726.0    1611177.0      11742.0   1623645.0   \n",
       "37123         2.0        726.0    1611177.0      19503.0   1631406.0   \n",
       "37124         4.0        726.0    1611177.0      19202.0   1631105.0   \n",
       "37125         0.0        726.0    1611177.0      27051.0   1638954.0   \n",
       "37126         0.0        726.0    1611177.0      14687.0   1626590.0   \n",
       "37127         2.0        726.0    1611177.0      19503.0   1631406.0   \n",
       "37128         2.0        726.0    1611177.0      19503.0   1631406.0   \n",
       "37129         0.0        726.0    1611177.0      14687.0   1626590.0   \n",
       "37130         0.0        726.0    1611177.0      14687.0   1626590.0   \n",
       "37131         4.0        726.0    1611177.0      19202.0   1631105.0   \n",
       "37132         2.0        726.0        428.0      19503.0     20657.0   \n",
       "37133         1.0        726.0    1611177.0       8794.0   1620697.0   \n",
       "37134         3.0        726.0    1611177.0      21593.0   1633496.0   \n",
       "37135         3.0        726.0    1611177.0      21593.0   1633496.0   \n",
       "37136         0.0        726.0          0.0       7072.0      7798.0   \n",
       "37137         0.0        726.0    1611177.0        886.0   1612789.0   \n",
       "\n",
       "       neg_count3      total  \n",
       "481        1094.0  2074805.0  \n",
       "4805       1094.0  3023591.0  \n",
       "37104      1094.0  1640048.0  \n",
       "37105      1094.0  1613317.0  \n",
       "37106      1094.0  1620069.0  \n",
       "37107      1094.0  1613317.0  \n",
       "37108      1094.0  1617668.0  \n",
       "37109      1094.0  1627684.0  \n",
       "37110      1094.0  1640048.0  \n",
       "37111      1094.0  1632203.0  \n",
       "37112      1094.0  1627684.0  \n",
       "37113      1094.0  1640048.0  \n",
       "37114      1094.0  1640048.0  \n",
       "37115      1094.0  1640048.0  \n",
       "37116      1094.0  1632203.0  \n",
       "37117      1094.0  1617668.0  \n",
       "37118      1094.0  1632203.0  \n",
       "37119      1094.0  1640048.0  \n",
       "37120      1094.0  1627684.0  \n",
       "37121      1094.0  1632502.0  \n",
       "37122      1094.0  1624739.0  \n",
       "37123      1094.0  1632502.0  \n",
       "37124      1094.0  1632203.0  \n",
       "37125      1094.0  1640048.0  \n",
       "37126      1094.0  1627684.0  \n",
       "37127      1094.0  1632502.0  \n",
       "37128      1094.0  1632502.0  \n",
       "37129      1094.0  1627684.0  \n",
       "37130      1094.0  1627684.0  \n",
       "37131      1094.0  1632203.0  \n",
       "37132      1094.0    21753.0  \n",
       "37133      1094.0  1621792.0  \n",
       "37134      1094.0  1634593.0  \n",
       "37135      1094.0  1634593.0  \n",
       "37136      1094.0     8892.0  \n",
       "37137      1094.0  1613883.0  "
      ]
     },
     "execution_count": 120,
     "metadata": {},
     "output_type": "execute_result"
    }
   ],
   "source": [
    "merged[merged['stock_code']==690]"
   ]
  },
  {
   "cell_type": "code",
   "execution_count": 14,
   "metadata": {},
   "outputs": [],
   "source": [
    "import numpy as np\n",
    "def analyse_neg_sample(neg_count1, neg_count2=None):\n",
    "    if neg_count2:\n",
    "        neg_count = np.array([sum(x) for x in zip(neg_count1, neg_count2)])\n",
    "    else:\n",
    "        neg_count = np.array(neg_count1)\n",
    "\n",
    "    # Mean of the array\n",
    "    mean = np.mean(neg_count)\n",
    "\n",
    "    # Median of the array\n",
    "    median = np.median(neg_count)\n",
    "\n",
    "    # Count of zeros in the array\n",
    "    zero_count = np.size(neg_count) - np.count_nonzero(neg_count)\n",
    "\n",
    "    print(f\"Mean: {mean}\")\n",
    "    print(f\"Median: {median}\")\n",
    "    print(f\"Zero count: {zero_count}\")"
   ]
  },
  {
   "cell_type": "code",
   "execution_count": 15,
   "metadata": {},
   "outputs": [
    {
     "name": "stdout",
     "output_type": "stream",
     "text": [
      "Mean: 609.5727251467198\n",
      "Median: 3.0\n",
      "Zero count: 63527\n"
     ]
    }
   ],
   "source": [
    "analyse_neg_sample(neg_count1)"
   ]
  },
  {
   "cell_type": "code",
   "execution_count": 16,
   "metadata": {},
   "outputs": [
    {
     "name": "stdout",
     "output_type": "stream",
     "text": [
      "Mean: 2391.9262633124345\n",
      "Median: 937.0\n",
      "Zero count: 535\n"
     ]
    }
   ],
   "source": [
    "analyse_neg_sample(neg_count1, neg_count21)"
   ]
  },
  {
   "cell_type": "code",
   "execution_count": 17,
   "metadata": {},
   "outputs": [
    {
     "name": "stdout",
     "output_type": "stream",
     "text": [
      "Mean: 1906228.6984754503\n",
      "Median: 2221475.0\n",
      "Zero count: 2945\n"
     ]
    }
   ],
   "source": [
    "analyse_neg_sample(neg_count1, neg_count22)"
   ]
  },
  {
   "cell_type": "code",
   "execution_count": 18,
   "metadata": {},
   "outputs": [
    {
     "name": "stdout",
     "output_type": "stream",
     "text": [
      "Mean: 181237.7250539179\n",
      "Median: 21698.0\n",
      "Zero count: 12\n"
     ]
    }
   ],
   "source": [
    "analyse_neg_sample(neg_count1, neg_count23)"
   ]
  },
  {
   "cell_type": "code",
   "execution_count": 19,
   "metadata": {},
   "outputs": [
    {
     "name": "stdout",
     "output_type": "stream",
     "text": [
      "Mean: 2088029.6316172404\n",
      "Median: 2243655.0\n",
      "Zero count: 0\n"
     ]
    }
   ],
   "source": [
    "analyse_neg_sample(neg_count2)"
   ]
  },
  {
   "cell_type": "code",
   "execution_count": 21,
   "metadata": {},
   "outputs": [
    {
     "name": "stdout",
     "output_type": "stream",
     "text": [
      "Mean: 1259.1293361693597\n",
      "Median: 1320.0\n",
      "Zero count: 530\n"
     ]
    }
   ],
   "source": [
    "analyse_neg_sample(neg_count3)"
   ]
  },
  {
   "cell_type": "code",
   "execution_count": 22,
   "metadata": {},
   "outputs": [
    {
     "name": "stdout",
     "output_type": "stream",
     "text": [
      "Mean: 1868.7020613160796\n",
      "Median: 1348.0\n",
      "Zero count: 530\n"
     ]
    }
   ],
   "source": [
    "analyse_neg_sample(neg_count1, neg_count3)"
   ]
  },
  {
   "cell_type": "code",
   "execution_count": 23,
   "metadata": {},
   "outputs": [
    {
     "name": "stdout",
     "output_type": "stream",
     "text": [
      "Mean: 3041.4828743350745\n",
      "Median: 2248.0\n",
      "Zero count: 530\n"
     ]
    }
   ],
   "source": [
    "analyse_neg_sample(neg_count21, neg_count3)"
   ]
  },
  {
   "cell_type": "code",
   "execution_count": 24,
   "metadata": {},
   "outputs": [
    {
     "name": "stdout",
     "output_type": "stream",
     "text": [
      "Mean: 1906878.2550864727\n",
      "Median: 2222497.0\n",
      "Zero count: 2\n"
     ]
    }
   ],
   "source": [
    "analyse_neg_sample(neg_count22, neg_count3)"
   ]
  },
  {
   "cell_type": "code",
   "execution_count": 25,
   "metadata": {},
   "outputs": [
    {
     "name": "stdout",
     "output_type": "stream",
     "text": [
      "Mean: 181887.28166494056\n",
      "Median: 22521.0\n",
      "Zero count: 0\n"
     ]
    }
   ],
   "source": [
    "analyse_neg_sample(neg_count23, neg_count3)"
   ]
  }
 ],
 "metadata": {
  "kernelspec": {
   "display_name": "MTL-4YFQ4-cY",
   "language": "python",
   "name": "python3"
  },
  "language_info": {
   "codemirror_mode": {
    "name": "ipython",
    "version": 3
   },
   "file_extension": ".py",
   "mimetype": "text/x-python",
   "name": "python",
   "nbconvert_exporter": "python",
   "pygments_lexer": "ipython3",
   "version": "3.9.9"
  }
 },
 "nbformat": 4,
 "nbformat_minor": 2
}
